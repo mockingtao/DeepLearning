{
 "cells": [
  {
   "cell_type": "code",
   "execution_count": 32,
   "id": "0781feec",
   "metadata": {
    "ExecuteTime": {
     "end_time": "2022-10-20T08:55:52.564521Z",
     "start_time": "2022-10-20T08:55:52.177746Z"
    }
   },
   "outputs": [],
   "source": [
    "import numpy as np\n",
    "import matplotlib.pylab as plt\n",
    "import pickle\n",
    "\n",
    "from IPython.core.interactiveshell import InteractiveShell \n",
    "InteractiveShell.ast_node_interactivity = \"all\""
   ]
  },
  {
   "cell_type": "markdown",
   "id": "a9edf56e",
   "metadata": {},
   "source": [
    "# 数据驱动的基本思路与损失函数"
   ]
  },
  {
   "cell_type": "markdown",
   "id": "4e0b2ce8",
   "metadata": {},
   "source": [
    "## 数据驱动的基本思路\n",
    "\n",
    "我们先用一个不严谨的例子，对数据学习有一点感性上的认识\n",
    "\n",
    "假设有Y = AX + B\n",
    "\n",
    "我们已知 X, Y 的值，求A和B，思路是：\n",
    "\n",
    "### 第一步：训练\n",
    "随机给一个 $A_1$, $B_1$，计算出 $Y_{p1}$，得到与正确预测的差值 |$Y$ - $Y_{p1}$|， p在这里是predict的缩写。\n",
    "\n",
    "调整权重为 $A_2$, $B_2$，得到 $Y_{p2}$，并有 |$Y$ - $Y_{p2}$| < |$Y$ - $Y_{p1}$|\n",
    "\n",
    "重复这个过程：直到预测的 $Y_{pn}$ 与已知Y的差距越来越小，这时的$A_{n}$ ，$B_{n}$ 就是我们求得的参数\n",
    "\n",
    "### 第二步：测试 $Y=A_nX + B_n$\n",
    "\n",
    "再来一组已知数据 $X_{2}$ ，$Y_{2}$，测试|$Y_{2} - Y_{p}$| 以判断函数的准确性\n",
    "\n"
   ]
  },
  {
   "cell_type": "markdown",
   "id": "067693e1",
   "metadata": {},
   "source": [
    "### 基本概念的引入\n",
    "\n",
    "可见在这个过程中，我们只需要知道X，Y的数据，而二者之间的关系，则由机器自动推算出来。其中：\n",
    "\n",
    "$X_1$, $Y_1$ 为 **训练数据**\n",
    "\n",
    "$X_2$， $Y_2$ 为 **测试数据**\n",
    "\n",
    "|$Y_{1} - Y_{p}$| 为 **损失函数**\n"
   ]
  },
  {
   "cell_type": "markdown",
   "id": "f0c1d610",
   "metadata": {
    "ExecuteTime": {
     "end_time": "2022-10-18T08:04:00.588364Z",
     "start_time": "2022-10-18T08:04:00.567944Z"
    }
   },
   "source": [
    "### 传统思维方式，机器学习 和 神经网络（深度学习）的区别\n",
    "\n",
    "如图：\n",
    "<img src=\"img/0402.png\" alt=\"Drawing\" style=\"width: 500px;\"/>\n",
    "\n",
    "神经网络或深度学习则比以往的机器学习方法更能避免人为介入。与待处理的问题无关，神经网络可以将数据直接作为原始数据，进行“端对端”的学习。\n",
    "\n",
    "#### 传统机器学习步骤：\n",
    "人为设计一些特征值，再通过机器学习SVM，KNN 来实现；\n",
    "\n",
    "#### 神经网络学习步骤：\n",
    "直接学习图像本身\n",
    "\n"
   ]
  },
  {
   "cell_type": "markdown",
   "id": "89f8a872",
   "metadata": {},
   "source": [
    "## 损失函数\n",
    "\n",
    "- 神经网络的学习通过某个指标表示现在的状态。然后，以这个指标为基准，寻找最优权重参数。\n",
    "\n",
    "- 神经网络以某个指标为线索寻找最优权重参数\n",
    "\n",
    "- 神经网络的学习中所用的指标称为损失函数（loss function）。\n",
    "\n",
    "- 损失函数是表示神经网络性能的“恶劣程度”的指标，即当前的神经网络对监督数据在多大程度上不拟合，在多大程度上不一致\n",
    "\n",
    "- 这个损失函数可以使用任意函数，但一般用均方误差和交叉熵误差等。\n",
    "\n"
   ]
  },
  {
   "cell_type": "markdown",
   "id": "ccedb602",
   "metadata": {},
   "source": [
    "### 均方误差MSE（mean squared error）\n",
    "\n",
    "#### 公式 ：$E = \\frac{1}{2}\\sum\\limits_k(y_k - t_k)^2 $\n",
    "$y_k$是表示神经网络的输出，$t_k$表示监督数据，k表示数据的维数\n"
   ]
  },
  {
   "cell_type": "code",
   "execution_count": 4,
   "id": "87d59c17",
   "metadata": {
    "ExecuteTime": {
     "end_time": "2022-10-20T08:28:05.879360Z",
     "start_time": "2022-10-20T08:28:05.871299Z"
    }
   },
   "outputs": [
    {
     "name": "stdout",
     "output_type": "stream",
     "text": [
      "0.09750000000000003\n",
      "0.9025\n"
     ]
    }
   ],
   "source": [
    "# 例1：在节手写数字识别的例子中，yk、tk是由如下10个元素构成的数据。\n",
    "import numpy as np\n",
    "\n",
    "y = [0.1, 0.05, 0.6, 0.0, 0.05, 0.1, 0.0, 0.1, 0.0, 0.0] # 0~9 数字的概率\n",
    "t = [0, 0, 1, 0, 0, 0, 0, 0, 0, 0]\n",
    "\n",
    "def mean_squared_error(y, t):\n",
    "    return 0.5 * np.sum((y-t)**2)\n",
    "\n",
    "error = mean_squared_error(np.array(y), np.array(t))\n",
    "\n",
    "# 这里是error，越小说明误差越小，表示结果越准；\n",
    "print(error)\n",
    "print(1-error) # 准确率在90%，这里反了一个错误，不能单纯的直接用 1- error\n"
   ]
  },
  {
   "cell_type": "code",
   "execution_count": null,
   "id": "9b1c725e",
   "metadata": {},
   "outputs": [],
   "source": [
    "# 关于y：\n",
    "# 数组元素的索引从第一个开始依次对应数字“0”“1”“2”…… \n",
    "# 这里，神经网络的输出y是softmax函数的输出。\n",
    "# 由于softmax函数的输出可以理解为概率，\n",
    "# 因此上例表示“0”的概率是0.1，“1”的概率是0.05，“2”的概率是0.6等。\n",
    "\n",
    "# 关于t：\n",
    "# t是监督数据，将正确解标签设为1，其他均设为0。\n",
    "# 这里，标签“2”为1，表示正确解是“2”。\n",
    "# 将正确解标签表示为1，其他标签表示为0的表示方法称为one-hot表示。"
   ]
  },
  {
   "cell_type": "code",
   "execution_count": 5,
   "id": "a493c5bc",
   "metadata": {
    "ExecuteTime": {
     "end_time": "2022-10-20T08:28:23.328944Z",
     "start_time": "2022-10-20T08:28:23.320527Z"
    }
   },
   "outputs": [
    {
     "data": {
      "text/plain": [
       "0.5975"
      ]
     },
     "execution_count": 5,
     "metadata": {},
     "output_type": "execute_result"
    }
   ],
   "source": [
    " # 例2：t不变，修改y：“7”的概率最高的情况（0.6）,t 的正确解还是2\n",
    "y2 = [0.1, 0.05, 0.1, 0.0, 0.05, 0.1, 0.0, 0.6, 0.0, 0.0]\n",
    "mean_squared_error(np.array(y2), np.array(t))\n",
    "\n"
   ]
  },
  {
   "cell_type": "markdown",
   "id": "848f075a",
   "metadata": {
    "ExecuteTime": {
     "end_time": "2022-10-18T02:40:05.324535Z",
     "start_time": "2022-10-18T02:40:05.317834Z"
    }
   },
   "source": [
    "### 交叉熵误差(cross entropy error)\n",
    "\n",
    "#### 公式： $E = -\\sum\\limits_k t_k log y_k $\n",
    "\n",
    "- log表示以e为底数的自然对数（$log_e$）, $y_k$是神经网络的输出，$t_k$是正确解标签。\n",
    "\n",
    "- $t_k$中只有正确解标签的索引为1，其他均为0（one-hot表示）。\n",
    "\n",
    "- 因此，交叉熵公式实际上只计算对应正确解标签的输出的自然对数。\n",
    "\n",
    "比如，假设正确解标签的索引是“2”，与之对应的神经网络的输出是0.6，则交叉熵误差是−log 0.6 = 0.51；\n",
    "若“2”对应的输出是0.1，则交叉熵误差为−log 0.1 = 2.30。也就是说，交叉熵误差的值是由正确解标签所对应的输出结果决定的。"
   ]
  },
  {
   "cell_type": "code",
   "execution_count": 105,
   "id": "cc94bdb6",
   "metadata": {
    "ExecuteTime": {
     "end_time": "2022-10-18T09:14:35.204866Z",
     "start_time": "2022-10-18T09:14:35.041141Z"
    }
   },
   "outputs": [
    {
     "name": "stderr",
     "output_type": "stream",
     "text": [
      "<ipython-input-105-102c02e36cda>:7: RuntimeWarning: divide by zero encountered in log\n",
      "  y = -np.log(x)\n"
     ]
    },
    {
     "data": {
      "image/png": "[encoded data removed]",
      "text/plain": [
       "<Figure size 432x288 with 1 Axes>"
      ]
     },
     "metadata": {
      "needs_background": "light"
     },
     "output_type": "display_data"
    }
   ],
   "source": [
    "# 看一下-log(x) 函数\n",
    "import numpy as np\n",
    "import matplotlib.pylab as plt\n",
    "\n",
    "x = np.arange(0, 1, 0.001)\n",
    "y = -np.log(x)\n",
    "\n",
    "plt.plot(x, y)\n",
    "plt.ylim(0, 5.3)\n",
    "plt.show()"
   ]
  },
  {
   "cell_type": "markdown",
   "id": "17e14032",
   "metadata": {},
   "source": [
    "对应到公式中：$E = -\\sum\\limits_k t_k log y_k $\n",
    "\n",
    "正确解标签对应的输出越大，公式中的值越接近0（也就是误差越小）。以至于当输出为1时，交叉熵误差E为0。\n",
    "\n",
    "如果正确解标签对应的输出较小，则公式的值较大，则误差E越大。"
   ]
  },
  {
   "cell_type": "code",
   "execution_count": 7,
   "id": "dd27ca62",
   "metadata": {
    "ExecuteTime": {
     "end_time": "2022-10-20T08:29:23.727540Z",
     "start_time": "2022-10-20T08:29:23.723124Z"
    }
   },
   "outputs": [],
   "source": [
    "# 代码实现交叉熵误差\n",
    "def cross_entropy_error(y, t):\n",
    "    delta = 1e-7\n",
    "    return -np.sum(t * np.log(y + delta))\n",
    "\n",
    "# 函数内部在计算np.log时，加上了一个极小值delta。\n",
    "# 这是因为，当出现np.log(0)时，np.log(0)会变为负无限大的-inf，这样一来就会导致后续计算无法进行。\n",
    "# 作为保护性对策，添加一个微小值可以防止负无限大的发生。"
   ]
  },
  {
   "cell_type": "code",
   "execution_count": 8,
   "id": "ca3636a8",
   "metadata": {
    "ExecuteTime": {
     "end_time": "2022-10-20T08:29:25.626641Z",
     "start_time": "2022-10-20T08:29:25.617968Z"
    }
   },
   "outputs": [
    {
     "name": "stdout",
     "output_type": "stream",
     "text": [
      "0.510825457099338\n",
      "0.489174542900662\n"
     ]
    }
   ],
   "source": [
    "# 第一个例子，正确解标签对应的输出为0.6，此时的交叉熵误差大约为0.51\n",
    "\n",
    "t = [0, 0, 1, 0, 0, 0, 0, 0, 0, 0]\n",
    "y = [0.1, 0.05, 0.6, 0.0, 0.05, 0.1, 0.0, 0.1, 0.0, 0.0]\n",
    "error = cross_entropy_error(np.array(y), np.array(t))\n",
    "print(error)\n",
    "print(1-error)\n",
    "\n",
    "# 误差为0.51...\n",
    "\n",
    "# cc：感觉这个误差不太适合这个例子。\n",
    "# 该例子y值与t值比较接近的。但是error 达到了51%... -- 这里不能这么理解。这里是error值并不是error 率；"
   ]
  },
  {
   "cell_type": "code",
   "execution_count": 9,
   "id": "48a3440e",
   "metadata": {
    "ExecuteTime": {
     "end_time": "2022-10-20T08:30:59.989787Z",
     "start_time": "2022-10-20T08:30:59.983823Z"
    }
   },
   "outputs": [
    {
     "name": "stdout",
     "output_type": "stream",
     "text": [
      "2.302584092994546\n",
      "-1.3025840929945458\n"
     ]
    }
   ],
   "source": [
    "# 第二个例子，正确解标签对应的输出为0.1的低值，此时的交叉熵误差大约为2.3\n",
    "\n",
    "y = [0.1, 0.05, 0.1, 0.0, 0.05, 0.1, 0.0, 0.6, 0.0, 0.0]\n",
    "error = cross_entropy_error(np.array(y), np.array(t))\n",
    "print(error)\n",
    "print(1-error)\n",
    "# 误差为 2.3..\n",
    "\n",
    "# 这个error更加离谱；\n",
    "\n",
    "\n"
   ]
  },
  {
   "cell_type": "code",
   "execution_count": 128,
   "id": "c6e81728",
   "metadata": {
    "ExecuteTime": {
     "end_time": "2022-10-18T11:04:46.844298Z",
     "start_time": "2022-10-18T11:04:46.831304Z"
    }
   },
   "outputs": [
    {
     "name": "stdout",
     "output_type": "stream",
     "text": [
      "[ -2.30258409  -2.99573027  -0.51082546 -16.11809565  -2.99573027\n",
      "  -2.30258409 -16.11809565  -2.30258409 -16.11809565 -16.11809565]\n",
      "[-0.         -0.         -0.51082546 -0.         -0.         -0.\n",
      " -0.         -0.         -0.         -0.        ]\n",
      "0.510825457099338\n"
     ]
    }
   ],
   "source": [
    "# 详细解读：-np.sum(t * np.log(y + delta))\n",
    "\n",
    "delta = 1e-7\n",
    "print(np.log(np.array(y) + delta))\n",
    "\n",
    "print(np.array(t)*np.log(np.array(y) + delta))\n",
    "\n",
    "print(-np.sum(np.array(t)*np.log(np.array(y) + delta)))\n"
   ]
  },
  {
   "cell_type": "markdown",
   "id": "4f9ae10a",
   "metadata": {},
   "source": [
    "### mini-batch学习\n",
    "\n",
    "神经网络的学习也是从训练数据中选出一批数据（称为mini-batch,小批量），然后对每个mini-batch进行学习。\n",
    "\n",
    "比如，从60000个训练数据中随机\n",
    "选择100笔，再用这100笔数据进行学习。这种学习方式称为mini-batch学习。\n",
    "\n",
    "#### 公式：$E = \\frac{1}{N}\\sum\\limits_{n} \\sum\\limits_{k} t_{nk} log y_{nk} $\n",
    "\n",
    "这里,假设数据有N个，$t_{nk}$表示第n个数据的第k个元素的值（$y_{nk}$是神经网络的输出，$t_{nk}$是监督数据）。\n",
    "\n",
    "其实只是把求单个数据的损失函数扩大到了N份数据，最后除以N进行正规化。\n"
   ]
  },
  {
   "cell_type": "code",
   "execution_count": 28,
   "id": "8971d7d1",
   "metadata": {
    "ExecuteTime": {
     "end_time": "2022-10-20T08:52:30.176893Z",
     "start_time": "2022-10-20T08:52:30.171858Z"
    }
   },
   "outputs": [],
   "source": [
    "# mini-batch版交叉熵误差的实现\n",
    "def cross_entropy_error(y, t):\n",
    "    if y.ndim == 1: # 如果是一维数组，变成二维数据；\n",
    "        t = t.reshape(1, t.size)\n",
    "        y = y.reshape(1, y.size)\n",
    "        \n",
    "    print(y.shape[0])    \n",
    "    batch_size = y.shape[0]\n",
    "    return -np.sum(t * np.log(y + 1e-7)) / batch_size\n",
    "\n",
    "# 非batch：-np.sum(t * np.log(y + 1e-7))\n",
    "\n",
    "# 其中，1e-7 为极小值，如果不加这个值，当y=0的时候，log返回的结果是无穷大。会报错！"
   ]
  },
  {
   "cell_type": "markdown",
   "id": "9f637d8d",
   "metadata": {},
   "source": [
    "这里，y是神经网络的输出，t是监督数据。\n",
    "\n",
    "y的维度为1时，即求单个数据的交叉熵误差时，需要改变数据的形状。\n",
    "\n",
    "并且，当输入为mini-batch时，要用batch的个数进行正规化，计算单个数据的平均交叉熵误差。"
   ]
  },
  {
   "cell_type": "code",
   "execution_count": 29,
   "id": "4574a4b1",
   "metadata": {
    "ExecuteTime": {
     "end_time": "2022-10-20T08:52:31.907249Z",
     "start_time": "2022-10-20T08:52:31.896658Z"
    }
   },
   "outputs": [
    {
     "name": "stdout",
     "output_type": "stream",
     "text": [
      "(10,)\n",
      "1\n"
     ]
    },
    {
     "data": {
      "text/plain": [
       "0.510825457099338"
      ]
     },
     "execution_count": 29,
     "metadata": {},
     "output_type": "execute_result"
    }
   ],
   "source": [
    "# 如果y为1维：\n",
    "y1 = np.array([0.1, 0.05, 0.6, 0.0, 0.05, 0.1, 0.0, 0.1, 0.0, 0.0])\n",
    "\n",
    "print(y1.shape)# 这还是一维数组；\n",
    "t1 = np.array([0, 0, 1, 0, 0, 0, 0, 0, 0, 0])\n",
    "\n",
    "cross_entropy_error(y1, t1)\n"
   ]
  },
  {
   "cell_type": "code",
   "execution_count": 26,
   "id": "c4e46ba7",
   "metadata": {
    "ExecuteTime": {
     "end_time": "2022-10-20T08:50:42.394284Z",
     "start_time": "2022-10-20T08:50:42.387308Z"
    }
   },
   "outputs": [
    {
     "data": {
      "text/plain": [
       "(1, 10)"
      ]
     },
     "execution_count": 26,
     "metadata": {},
     "output_type": "execute_result"
    }
   ],
   "source": [
    "y2 = y1.reshape(1, y1.size)\n",
    "y2.shape"
   ]
  },
  {
   "cell_type": "code",
   "execution_count": 30,
   "id": "024f84ef",
   "metadata": {
    "ExecuteTime": {
     "end_time": "2022-10-20T08:53:39.999468Z",
     "start_time": "2022-10-20T08:53:39.985069Z"
    }
   },
   "outputs": [
    {
     "name": "stdout",
     "output_type": "stream",
     "text": [
      "4\n"
     ]
    },
    {
     "data": {
      "text/plain": [
       "1.406704775046942"
      ]
     },
     "execution_count": 30,
     "metadata": {},
     "output_type": "execute_result"
    }
   ],
   "source": [
    "# 如果y为多维\n",
    "y2 = np.array([[0.1, 0.05, 0.6, 0.0, 0.05, 0.1, 0.0, 0.1, 0.0, 0.0],\n",
    "               [0.1, 0.05, 0.6, 0.0, 0.05, 0.1, 0.0, 0.1, 0.0, 0.0],\n",
    "               [0.1, 0.05, 0.1, 0.0, 0.05, 0.1, 0.0, 0.6, 0.0, 0.0],\n",
    "               [0.1, 0.05, 0.1, 0.0, 0.05, 0.1, 0.0, 0.6, 0.0, 0.0]])\n",
    "# 这里把y2中的值稍加改动；\n",
    "\n",
    "t2 = np.array([[0, 0, 1, 0, 0, 0, 0, 0, 0, 0],\n",
    "               [0, 0, 1, 0, 0, 0, 0, 0, 0, 0],\n",
    "               [0, 0, 1, 0, 0, 0, 0, 0, 0, 0],\n",
    "               [0, 0, 1, 0, 0, 0, 0, 0, 0, 0]])\n",
    "\n",
    "cross_entropy_error(y2, t2)\n"
   ]
  },
  {
   "cell_type": "code",
   "execution_count": 120,
   "id": "335b1fa9",
   "metadata": {
    "ExecuteTime": {
     "end_time": "2022-10-18T10:56:43.494401Z",
     "start_time": "2022-10-18T10:56:43.483484Z"
    }
   },
   "outputs": [
    {
     "name": "stdout",
     "output_type": "stream",
     "text": [
      "[[ -2.30258409  -2.99573027  -0.51082546 -16.11809565  -2.99573027\n",
      "   -2.30258409 -16.11809565  -2.30258409 -16.11809565 -16.11809565]\n",
      " [ -2.30258409  -2.99573027  -0.51082546 -16.11809565  -2.99573027\n",
      "   -2.30258409 -16.11809565  -2.30258409 -16.11809565 -16.11809565]\n",
      " [ -2.30258409  -2.99573027  -2.30258409 -16.11809565  -2.99573027\n",
      "   -2.30258409 -16.11809565  -0.51082546 -16.11809565 -16.11809565]\n",
      " [ -2.30258409  -2.99573027  -2.30258409 -16.11809565  -2.99573027\n",
      "   -2.30258409 -16.11809565  -0.51082546 -16.11809565 -16.11809565]]\n",
      "[[-0.         -0.         -0.51082546 -0.         -0.         -0.\n",
      "  -0.         -0.         -0.         -0.        ]\n",
      " [-0.         -0.         -0.51082546 -0.         -0.         -0.\n",
      "  -0.         -0.         -0.         -0.        ]\n",
      " [-0.         -0.         -2.30258409 -0.         -0.         -0.\n",
      "  -0.         -0.         -0.         -0.        ]\n",
      " [-0.         -0.         -2.30258409 -0.         -0.         -0.\n",
      "  -0.         -0.         -0.         -0.        ]]\n",
      "1.406704775046942\n"
     ]
    }
   ],
   "source": [
    "# 详细解读： -np.sum(t * np.log(y + 1e-7)) / batch_size\n",
    "batch_size = 4\n",
    "print(np.log(y2 + 1e-7))\n",
    "\n",
    "print(t2 * np.log(y2 + 1e-7))\n",
    "\n",
    "print(-np.sum(t2 * np.log(y2 + 1e-7))/ batch_size)\n",
    "# -(-0.51082546-0.51082546-2.30258409-2.30258409)/4 = 5.6268191/4 = 1.406704775046942"
   ]
  },
  {
   "cell_type": "code",
   "execution_count": 110,
   "id": "c994a80f",
   "metadata": {
    "ExecuteTime": {
     "end_time": "2022-10-18T10:49:10.153350Z",
     "start_time": "2022-10-18T10:49:10.141180Z"
    }
   },
   "outputs": [
    {
     "data": {
      "text/plain": [
       "1.406704775046942"
      ]
     },
     "execution_count": 110,
     "metadata": {},
     "output_type": "execute_result"
    }
   ],
   "source": [
    "# 另，当监督数据是标签形式（非one-hot表示，而是像“2”“7”这样的标签）时，优化实现：\n",
    "\n",
    "def cross_entropy_error2(y, t):\n",
    "    if y.ndim == 1:\n",
    "        t = t.reshape(1, t.size)\n",
    "        y = y.reshape(1, y.size)\n",
    "        \n",
    "    batch_size = y.shape[0]\n",
    "    return -np.sum(np.log(y[np.arange(batch_size), t] + 1e-7)) / batch_size\n",
    "\n",
    "# 结果\n",
    "y3 = np.array([[0.1, 0.05, 0.6, 0.0, 0.05, 0.1, 0.0, 0.1, 0.0, 0.0],\n",
    "               [0.1, 0.05, 0.6, 0.0, 0.05, 0.1, 0.0, 0.1, 0.0, 0.0],\n",
    "               [0.1, 0.05, 0.1, 0.0, 0.05, 0.1, 0.0, 0.6, 0.0, 0.0],\n",
    "               [0.1, 0.05, 0.1, 0.0, 0.05, 0.1, 0.0, 0.6, 0.0, 0.0]])\n",
    "# 这里把y2中的值稍加改动；\n",
    "t3 = np.array([2,2,2,2])\n",
    "\n",
    "# 最终输出：\n",
    "cross_entropy_error2(y3,t3)"
   ]
  },
  {
   "cell_type": "code",
   "execution_count": 35,
   "id": "870c1224",
   "metadata": {
    "ExecuteTime": {
     "end_time": "2022-10-20T08:57:03.936111Z",
     "start_time": "2022-10-20T08:57:03.925958Z"
    }
   },
   "outputs": [
    {
     "data": {
      "text/plain": [
       "array([0, 1, 2, 3])"
      ]
     },
     "execution_count": 35,
     "metadata": {},
     "output_type": "execute_result"
    }
   ],
   "source": [
    "# 步骤详解：\n",
    "batch_size = y3.shape[0]\n",
    "np.arange(batch_size)\n"
   ]
  },
  {
   "cell_type": "code",
   "execution_count": 37,
   "id": "189d12af",
   "metadata": {
    "ExecuteTime": {
     "end_time": "2022-10-20T09:00:30.611277Z",
     "start_time": "2022-10-20T09:00:30.603834Z"
    }
   },
   "outputs": [
    {
     "data": {
      "text/plain": [
       "array([0.05, 0.6 , 0.1 , 0.1 ])"
      ]
     },
     "execution_count": 37,
     "metadata": {},
     "output_type": "execute_result"
    }
   ],
   "source": [
    "t3 = np.array([4,2,2,2])\n",
    "\n",
    "y3[np.arange(batch_size), t3] # 6666：数组的切片，第一个（逗号前）为取行，第二个为取列。\n"
   ]
  },
  {
   "cell_type": "code",
   "execution_count": null,
   "id": "3d2c5ac8",
   "metadata": {},
   "outputs": [],
   "source": []
  },
  {
   "cell_type": "code",
   "execution_count": null,
   "id": "7c8223f9",
   "metadata": {},
   "outputs": [],
   "source": []
  },
  {
   "cell_type": "code",
   "execution_count": null,
   "id": "18f1e768",
   "metadata": {},
   "outputs": [],
   "source": []
  },
  {
   "cell_type": "code",
   "execution_count": null,
   "id": "1ab03f1c",
   "metadata": {},
   "outputs": [],
   "source": []
  },
  {
   "cell_type": "markdown",
   "id": "da734fd2",
   "metadata": {},
   "source": [
    "### 回到MNIST数据集 的例子，我们取数来看下\n"
   ]
  },
  {
   "cell_type": "code",
   "execution_count": 10,
   "id": "62d4b1a6",
   "metadata": {
    "ExecuteTime": {
     "end_time": "2022-10-20T08:39:40.398219Z",
     "start_time": "2022-10-20T08:39:40.085552Z"
    }
   },
   "outputs": [
    {
     "name": "stdout",
     "output_type": "stream",
     "text": [
      "(60000, 784)\n",
      "(60000, 10)\n"
     ]
    }
   ],
   "source": [
    "# 回到MNIST数据集 的例子，我们取数来看下，\n",
    "\n",
    "import sys, os\n",
    "sys.path.append(os.pardir)\n",
    "import numpy as np\n",
    "from dataset.mnist import load_mnist\n",
    "(x_train, t_train), (x_test, t_test) = load_mnist(normalize=True, one_hot_label=True)\n",
    "print(x_train.shape) # (60000, 784)\n",
    "print(t_train.shape) # (60000, 10)\n"
   ]
  },
  {
   "cell_type": "markdown",
   "id": "a03c3ec0",
   "metadata": {
    "ExecuteTime": {
     "end_time": "2022-10-18T11:14:59.362374Z",
     "start_time": "2022-10-18T11:14:59.351301Z"
    }
   },
   "source": [
    "读入MNIST数据后，训练数据有60000个，输入数据是784维 （28 × 28）的图像数据，监督数据是10维的数据。因此，上面的x_train、t_\n",
    "train的形状分别是(60000, 784)和(60000, 10)。"
   ]
  },
  {
   "cell_type": "code",
   "execution_count": 11,
   "id": "47fc0485",
   "metadata": {
    "ExecuteTime": {
     "end_time": "2022-10-20T08:40:26.764606Z",
     "start_time": "2022-10-20T08:40:26.754279Z"
    }
   },
   "outputs": [
    {
     "name": "stdout",
     "output_type": "stream",
     "text": [
      "60000\n",
      "[ 5615 54776  1594  1767 56660 24890 49607  1081 29085 37547]\n"
     ]
    }
   ],
   "source": [
    "# 从这个训练数据中随机抽取10笔数据\n",
    "train_size = x_train.shape[0]\n",
    "batch_size = 10\n",
    "batch_mask = np.random.choice(train_size, batch_size) # 从0到59999之间随机选择10个数字\n",
    "print(train_size)\n",
    "print(batch_mask)\n",
    "\n",
    "x_batch = x_train[batch_mask]\n",
    "t_batch = t_train[batch_mask]\n",
    "# print(x_batch)\n",
    "# print(t_batch)"
   ]
  },
  {
   "cell_type": "code",
   "execution_count": 15,
   "id": "dd0b228e",
   "metadata": {
    "ExecuteTime": {
     "end_time": "2022-10-20T08:40:57.326336Z",
     "start_time": "2022-10-20T08:40:57.319946Z"
    },
    "scrolled": false
   },
   "outputs": [
    {
     "data": {
      "text/plain": [
       "(784,)"
      ]
     },
     "execution_count": 15,
     "metadata": {},
     "output_type": "execute_result"
    }
   ],
   "source": [
    "x_batch.shape\n",
    "\n",
    "x_batch[0].shape"
   ]
  },
  {
   "cell_type": "markdown",
   "id": "2d851d80",
   "metadata": {},
   "source": [
    "之后，我们只需指定这些随机选出的索引，取出mini-batch，然后使用这个mini-batch计算损失函数即可。"
   ]
  },
  {
   "cell_type": "markdown",
   "id": "24492aaa",
   "metadata": {
    "ExecuteTime": {
     "end_time": "2022-10-18T11:18:24.646746Z",
     "start_time": "2022-10-18T11:18:24.630650Z"
    }
   },
   "source": [
    "### 为何要设定损失函数\n",
    "\n",
    "在进行神经网络的学习时，不能将识别精度作为指标。因为**如果以识别精度为指标，则参数的导数在绝大多数地方都会变为0。**\n",
    "\n",
    "#### 为什么用识别精度作为指标时，参数的导数在绝大多数地方都会变成0？\n",
    "答案：假设某个神经网络正确识别出了100笔训练数据中的32笔，此时识别精度为32 %。如果以识别精度为指标，即使稍微改变权重参数的值，识别精度也仍将保持在32 %，不会出现变化。也就是说，仅仅微调参数，是无法改善识别精度的。即便识别精度有所改善，它的值也不会像32.0123 ... %这样连续变化，而是变为33 %、34 %这样的不连续的、离散的值。而如果把损失函数作为指标，则当前损失函数的值可以表示为0.92543 ... 这样的值。并且，如果稍微改变一下参数的值，对应的损失函数也会像0.93432 ... 这样发生连续性的变化。\n",
    "\n",
    "\n",
    "\n",
    "<img src=\"img/0404.png\" alt=\"Drawing\" style=\"width: 500px;\"/>\n",
    "\n",
    "识别精度对微小的参数变化基本上没有什么反应，即便有反应，它的值也是不连续地、突然地变化。\n",
    "作为激活函数的阶跃函数也有同样的情况。出于相同的原因，如果使用阶跃函数作为激活函数，神经网络的学习将无法进行。\n",
    "\n",
    "如上图所示，阶跃函数的导数在绝大多数地方（除了0以外的地方）均为0。\n",
    "也就是说，如果使用了阶跃函数，那么即便将损失函数作为指标，参数的微小变化也会被阶跃函数抹杀，导致损失函数的值不会产生任何变化。\n",
    "\n",
    "而sigmoid函数，不仅函数的输出（竖轴的值）是连续变化的，曲线的斜率（导数）也是连续变化的。也就是说，sigmoid函数的导数在任何地方都不为0。这对神经网络的学习非常重要。得益于这个斜率不会为0的性质，神经网络的学习得以正确进行。"
   ]
  },
  {
   "cell_type": "markdown",
   "id": "4acbee6f",
   "metadata": {},
   "source": [
    "# 数值微分\n"
   ]
  },
  {
   "cell_type": "markdown",
   "id": "0398e885",
   "metadata": {},
   "source": [
    "## 导数\n",
    "导数就是表示某个瞬间的变化量。它可以定义成下面的式子。\n",
    "\n",
    "$$\\frac{df(x)}{dx}= \\lim\\limits_{h\\rightarrow0}\\frac{f(x+h)-f(x)}{h} $$\n",
    "\n"
   ]
  },
  {
   "cell_type": "code",
   "execution_count": 138,
   "id": "0b33afa0",
   "metadata": {
    "ExecuteTime": {
     "end_time": "2022-10-18T12:27:21.799003Z",
     "start_time": "2022-10-18T12:27:21.789058Z"
    }
   },
   "outputs": [],
   "source": [
    "# 中心差分实现数值微分\n",
    "\n",
    "def numerical_diff(f, x):\n",
    "    h = 1e-4 # 0.0001,使用过小的值会造成计算机出现计算上的问题，发生“舍入误差”，反而舍入为0.0\n",
    "    return (f(x+h) - f(x-h)) / (2*h)\n"
   ]
  },
  {
   "cell_type": "markdown",
   "id": "38f6acc9",
   "metadata": {
    "ExecuteTime": {
     "end_time": "2022-10-18T12:25:12.309252Z",
     "start_time": "2022-10-18T12:25:12.280585Z"
    }
   },
   "source": [
    "利用微小的差分求导数的过程称为数值微分，如以上的 numerical_diff 计算结果；--- 近似导数\n",
    "\n",
    "而基于数学式的推导求导数的过程，则用“解析性”（analytic）一词，称为“解析性求解”或者“解析性求导”。--- “真的导数”"
   ]
  },
  {
   "cell_type": "code",
   "execution_count": 136,
   "id": "e5eabda3",
   "metadata": {
    "ExecuteTime": {
     "end_time": "2022-10-18T12:26:16.024862Z",
     "start_time": "2022-10-18T12:26:15.794386Z"
    }
   },
   "outputs": [
    {
     "data": {
      "image/png": "[encoded data removed]",
      "text/plain": [
       "<Figure size 432x288 with 1 Axes>"
      ]
     },
     "metadata": {
      "needs_background": "light"
     },
     "output_type": "display_data"
    }
   ],
   "source": [
    "# 例子\n",
    "\n",
    "def function_1(x):\n",
    "    return 0.01*x**2 + 0.1*x\n",
    "\n",
    "import numpy as np\n",
    "import matplotlib.pylab as plt\n",
    "x = np.arange(0.0, 20.0, 0.1) # 以0.1为单位，从0到20的数组x\n",
    "y = function_1(x)\n",
    "plt.xlabel(\"x\")\n",
    "plt.ylabel(\"f(x)\")\n",
    "plt.plot(x, y)\n",
    "plt.show()"
   ]
  },
  {
   "cell_type": "code",
   "execution_count": 139,
   "id": "beedde99",
   "metadata": {
    "ExecuteTime": {
     "end_time": "2022-10-18T12:27:24.590988Z",
     "start_time": "2022-10-18T12:27:24.580900Z"
    }
   },
   "outputs": [
    {
     "name": "stdout",
     "output_type": "stream",
     "text": [
      "0.1999999999990898\n",
      "0.2999999999986347\n"
     ]
    }
   ],
   "source": [
    "# 计算导数\n",
    "print(numerical_diff(function_1, 5))\n",
    "print(numerical_diff(function_1, 10))\n",
    "\n",
    "#  在x = 5 和 x = 10处，通过解析解得到的“真的导数”分别为0.2和0.3。"
   ]
  },
  {
   "cell_type": "markdown",
   "id": "73b09fde",
   "metadata": {},
   "source": [
    "## 偏导数\n",
    "\n",
    "我们把多个变量的函数的导数称为偏导数。\n",
    "\n",
    "不过，偏导数需要将多个变量中的某一个变量定为目标变量，并将其他变量固定为某个值。\n",
    "\n",
    "在下例的代码中，为了将目标变量以外的变量固定到某些特定的值上，我们定义了新函数。\n",
    "\n",
    "然后，对新定义的函数应用了之前的求数值微分的函数，得到偏导数。"
   ]
  },
  {
   "cell_type": "markdown",
   "id": "5413a96a",
   "metadata": {},
   "source": [
    "求某个变量x0偏导的时候，实际上和x1没有任何关系。偏导只是代表函数在某个变量上的变化情况（切线斜率）；"
   ]
  },
  {
   "cell_type": "code",
   "execution_count": 147,
   "id": "d620f825",
   "metadata": {
    "ExecuteTime": {
     "end_time": "2022-10-18T13:05:42.534971Z",
     "start_time": "2022-10-18T13:05:42.529985Z"
    }
   },
   "outputs": [],
   "source": [
    "# 多元方程式\n",
    "\n",
    "# 有两个变量x\n",
    "def function_2(x):\n",
    "    return x[0]**2 + x[1]**2 # 或者可以写成：return np.sum(x**2)\n"
   ]
  },
  {
   "cell_type": "markdown",
   "id": "d850533a",
   "metadata": {
    "ExecuteTime": {
     "end_time": "2022-10-18T12:45:12.780549Z",
     "start_time": "2022-10-18T12:45:12.769720Z"
    }
   },
   "source": [
    "问题1：求x0 = 3, x1 = 4时，关于x0的偏导数 ${{\\partial}f}\\over{{\\partial}{x_0}}$\n"
   ]
  },
  {
   "cell_type": "code",
   "execution_count": 141,
   "id": "70c1cfcc",
   "metadata": {
    "ExecuteTime": {
     "end_time": "2022-10-18T12:42:17.499464Z",
     "start_time": "2022-10-18T12:42:17.486219Z"
    }
   },
   "outputs": [
    {
     "data": {
      "text/plain": [
       "6.00000000000378"
      ]
     },
     "execution_count": 141,
     "metadata": {},
     "output_type": "execute_result"
    }
   ],
   "source": [
    "def function_tmp1(x0):\n",
    "    return x0*x0 + 4.0**2.0\n",
    "\n",
    "numerical_diff(function_tmp1, 3.0)"
   ]
  },
  {
   "cell_type": "markdown",
   "id": "e7fa3dfb",
   "metadata": {},
   "source": [
    "问题2：求x0 = 3, x1 = 4时，关于x1的偏导数 ${{\\partial}f}\\over{{\\partial}{x_1}}$\n"
   ]
  },
  {
   "cell_type": "code",
   "execution_count": 143,
   "id": "1df591ac",
   "metadata": {
    "ExecuteTime": {
     "end_time": "2022-10-18T12:49:35.020231Z",
     "start_time": "2022-10-18T12:49:35.000858Z"
    }
   },
   "outputs": [
    {
     "data": {
      "text/plain": [
       "7.999999999999119"
      ]
     },
     "execution_count": 143,
     "metadata": {},
     "output_type": "execute_result"
    }
   ],
   "source": [
    "def function_tmp2(x1):\n",
    "    return 3.0**2.0 + x1*x1\n",
    "\n",
    "numerical_diff(function_tmp2, 4.0)"
   ]
  },
  {
   "cell_type": "markdown",
   "id": "dc77c10b",
   "metadata": {
    "ExecuteTime": {
     "end_time": "2022-10-18T12:51:06.450058Z",
     "start_time": "2022-10-18T12:51:06.444702Z"
    }
   },
   "source": [
    "# 梯度\n",
    "\n",
    "在刚才的例子中，我们按变量分别计算了x0和x1的偏导数。\n",
    "\n",
    "如果将两个偏导汇总形成一个值，称为梯度。\n"
   ]
  },
  {
   "cell_type": "code",
   "execution_count": 145,
   "id": "be1a1bfd",
   "metadata": {
    "ExecuteTime": {
     "end_time": "2022-10-18T13:05:35.642639Z",
     "start_time": "2022-10-18T13:05:35.622830Z"
    }
   },
   "outputs": [],
   "source": [
    "# 梯度实现的代码\n",
    "\n",
    "def numerical_gradient(f, x):\n",
    "    h = 1e-4 # 0.0001\n",
    "    grad = np.zeros_like(x) # 生成和x形状相同的数组[0,0]，比如这里X[3,4]，说明有两个变量，则由两个方向；\n",
    "    \n",
    "    for idx in range(x.size): # 如X[3, 4], idx = 0, 1，迭代两次，分别计算两个方向的梯度值；\n",
    "        tmp_val = x[idx] # tmp_val = X[0] = 3\n",
    "        \n",
    "        # f(x+h)的计算\n",
    "        x[idx] = tmp_val + h # X[0]=3+h, X变为[3+h, 4]\n",
    "        fxh1 = f(x) # 算 [3+h, 4]对应的f\n",
    "        \n",
    "        # f(x-h)的计算\n",
    "        x[idx] = tmp_val - h # X为[3-h, 4]\n",
    "        fxh2 = f(x) # 算 [3-h, 4] 对应的f\n",
    "        grad[idx] = (fxh1 - fxh2) / (2*h) # 得到梯度\n",
    "        x[idx] = tmp_val # 还原X为[3, 4]\n",
    "    \n",
    "    return grad\n",
    "    "
   ]
  },
  {
   "cell_type": "code",
   "execution_count": 153,
   "id": "b6bfdea5",
   "metadata": {
    "ExecuteTime": {
     "end_time": "2022-10-18T13:09:26.452071Z",
     "start_time": "2022-10-18T13:09:26.441354Z"
    }
   },
   "outputs": [
    {
     "name": "stdout",
     "output_type": "stream",
     "text": [
      "[6. 8.]\n",
      "[0. 4.]\n",
      "[6. 0.]\n"
     ]
    }
   ],
   "source": [
    "# 调用\n",
    "print(numerical_gradient(function_2, np.array([3.0, 4.0])))\n",
    "print(numerical_gradient(function_2, np.array([0.0, 2.0])))\n",
    "print(numerical_gradient(function_2, np.array([3.0, 0.0])))\n",
    "\n",
    "# 梯度指示的方向是各点处的函数值减小最多的方向 A。\n"
   ]
  },
  {
   "cell_type": "code",
   "execution_count": null,
   "id": "d7d3f846",
   "metadata": {},
   "outputs": [],
   "source": [
    "# 直接整理成笔记的效率有点慢，还是先以书本和代码理解为主。\n",
    "# 后续复习的时候再整理笔记。\n",
    "# 先在书中把关键信息标记下来。\n"
   ]
  },
  {
   "cell_type": "code",
   "execution_count": 154,
   "id": "10f68679",
   "metadata": {
    "ExecuteTime": {
     "end_time": "2022-10-19T02:53:30.619594Z",
     "start_time": "2022-10-19T02:53:30.546209Z"
    }
   },
   "outputs": [],
   "source": [
    "# 梯度下降法实现\n",
    "\n",
    "def gradient_descent(f, init_x, lr=0.01, step_num=100):\n",
    "    x = init_x\n",
    "    for i in range(step_num):\n",
    "        grad = numerical_gradient(f, x) # 这里f为损失函数，损失函数是表示error与w的关系表达式，所以这里x实际是w\n",
    "        x -= lr * grad\n",
    "    return x\n",
    "\n",
    "# 参数f是要进行最优化的函数\n",
    "# init_x是初始值，\n",
    "# lr是学习率learning rate，\n",
    "# step_num是梯度法的重复次数\n",
    "\n",
    "# numerical_gradient(f,x)会求函数的梯度，用该梯度乘以学习率得到的值进行更新操作，\n",
    "#由step_num指定重复的次数。"
   ]
  },
  {
   "cell_type": "code",
   "execution_count": 155,
   "id": "de947562",
   "metadata": {
    "ExecuteTime": {
     "end_time": "2022-10-19T02:53:36.655421Z",
     "start_time": "2022-10-19T02:53:36.623749Z"
    }
   },
   "outputs": [
    {
     "data": {
      "text/plain": [
       "array([-6.11110793e-10,  8.14814391e-10])"
      ]
     },
     "execution_count": 155,
     "metadata": {},
     "output_type": "execute_result"
    }
   ],
   "source": [
    "# 问题：请用梯度法求 以下的最小值。\n",
    "\n",
    "def function_2(x):\n",
    "    return x[0]**2 + x[1]**2\n",
    "\n",
    "init_x = np.array([-3.0, 4.0])\n",
    "\n",
    "gradient_descent(function_2, init_x=init_x, lr=0.1, step_num=100)\n",
    "\n",
    "# 可见最终输出是两个极小值，趋近于(0, 0)，实际最终的结果就是(0, 0)"
   ]
  },
  {
   "cell_type": "code",
   "execution_count": 159,
   "id": "d1c7a6b3",
   "metadata": {
    "ExecuteTime": {
     "end_time": "2022-10-19T02:57:48.525624Z",
     "start_time": "2022-10-19T02:57:48.297614Z"
    }
   },
   "outputs": [
    {
     "data": {
      "image/png": "[encoded data removed]",
      "text/plain": [
       "<Figure size 432x288 with 1 Axes>"
      ]
     },
     "metadata": {
      "needs_background": "light"
     },
     "output_type": "display_data"
    }
   ],
   "source": [
    "# 所有代码 + 绘图\n",
    "\n",
    "def numerical_gradient(f, x):\n",
    "    h = 1e-4 # 0.0001\n",
    "    grad = np.zeros_like(x) # 生成和x形状相同的数组[0,0]\n",
    "    \n",
    "    for idx in range(x.size): # 如X[3, 4], idx = 0, 1\n",
    "        tmp_val = x[idx] # tmp_val = X[0] = 3\n",
    "        \n",
    "        # f(x+h)的计算\n",
    "        x[idx] = tmp_val + h # X[0]=3+h, X变为[3+h, 4]\n",
    "        fxh1 = f(x) # 算 [3+h, 4]对应的f\n",
    "        \n",
    "        # f(x-h)的计算\n",
    "        x[idx] = tmp_val - h # X为[3-h, 4]\n",
    "        fxh2 = f(x) # 算 [3-h, 4] 对应的f\n",
    "        grad[idx] = (fxh1 - fxh2) / (2*h) # 得到梯度\n",
    "        x[idx] = tmp_val # 还原X为[3, 4]\n",
    "    \n",
    "    return grad\n",
    "    \n",
    "\n",
    "def gradient_descent(f, init_x, lr=0.01, step_num=100):\n",
    "    x = init_x\n",
    "    x_history = []\n",
    "\n",
    "    for i in range(step_num):\n",
    "        x_history.append( x.copy() )\n",
    "\n",
    "        grad = numerical_gradient(f, x)\n",
    "        x -= lr * grad\n",
    "\n",
    "    return x, np.array(x_history)\n",
    "\n",
    "\n",
    "def function_2(x):\n",
    "    return x[0]**2 + x[1]**2\n",
    "\n",
    "init_x = np.array([-3.0, 4.0])    \n",
    "\n",
    "lr = 0.1\n",
    "step_num = 20\n",
    "x, x_history = gradient_descent(function_2, init_x, lr=lr, step_num=step_num)\n",
    "\n",
    "plt.plot( [-5, 5], [0,0], '--b')\n",
    "plt.plot( [0,0], [-5, 5], '--b')\n",
    "plt.plot(x_history[:,0], x_history[:,1], 'o')\n",
    "\n",
    "plt.xlim(-3.5, 3.5)\n",
    "plt.ylim(-4.5, 4.5)\n",
    "plt.xlabel(\"X0\")\n",
    "plt.ylabel(\"X1\")\n",
    "plt.show()"
   ]
  },
  {
   "cell_type": "code",
   "execution_count": 40,
   "id": "e663018b",
   "metadata": {
    "ExecuteTime": {
     "end_time": "2022-10-20T09:24:28.028678Z",
     "start_time": "2022-10-20T09:24:28.021739Z"
    }
   },
   "outputs": [],
   "source": [
    "# 简单的神经网络为例，来实现求梯度的代码\n",
    "\n",
    "import sys, os\n",
    "sys.path.append(os.pardir)\n",
    "import numpy as np\n",
    "from common.functions import softmax, cross_entropy_error\n",
    "from common.gradient import numerical_gradient\n",
    "\n",
    "\n",
    "class simpleNet:\n",
    "    \n",
    "    def __init__(self):\n",
    "        self.W = np.random.randn(2,3) # 用高斯分布进行初始化\n",
    "        \n",
    "    def predict(self, x):\n",
    "        return np.dot(x, self.W)\n",
    "    \n",
    "    def loss(self, x, t):\n",
    "        z = self.predict(x)\n",
    "        y = softmax(z)\n",
    "        print(y)\n",
    "        print(t)\n",
    "        loss = cross_entropy_error(y, t)\n",
    "        return loss\n"
   ]
  },
  {
   "cell_type": "code",
   "execution_count": 41,
   "id": "f425d960",
   "metadata": {
    "ExecuteTime": {
     "end_time": "2022-10-20T09:24:30.192277Z",
     "start_time": "2022-10-20T09:24:30.175806Z"
    }
   },
   "outputs": [
    {
     "name": "stdout",
     "output_type": "stream",
     "text": [
      "[[-0.78240672 -0.72482534  0.41793289]\n",
      " [-0.63161628 -3.13229807  0.09347381]]\n",
      "[-1.03789868 -3.25396346  0.33488616]\n"
     ]
    },
    {
     "data": {
      "text/plain": [
       "2"
      ]
     },
     "execution_count": 41,
     "metadata": {},
     "output_type": "execute_result"
    },
    {
     "name": "stdout",
     "output_type": "stream",
     "text": [
      "[0.19780974 0.02156865 0.7806216 ]\n",
      "[0 0 1]\n"
     ]
    },
    {
     "data": {
      "text/plain": [
       "0.24766461951233104"
      ]
     },
     "execution_count": 41,
     "metadata": {},
     "output_type": "execute_result"
    }
   ],
   "source": [
    "# simpleNet 简单试用\n",
    "net = simpleNet()\n",
    "print(net.W) # 权重参数\n",
    "\n",
    "x = np.array([0.6, 0.9])\n",
    "p = net.predict(x)\n",
    "print(p)\n",
    "\n",
    "np.argmax(p) # 最大值的索引\n",
    "t = np.array([0, 0, 1]) # 正确解标签\n",
    "net.loss(x, t)\n"
   ]
  },
  {
   "cell_type": "code",
   "execution_count": 44,
   "id": "caa80cb4",
   "metadata": {
    "ExecuteTime": {
     "end_time": "2022-10-20T09:28:39.324265Z",
     "start_time": "2022-10-20T09:28:39.318164Z"
    }
   },
   "outputs": [
    {
     "data": {
      "text/plain": [
       "6"
      ]
     },
     "execution_count": 44,
     "metadata": {},
     "output_type": "execute_result"
    }
   ],
   "source": [
    "net.W"
   ]
  },
  {
   "cell_type": "code",
   "execution_count": 167,
   "id": "5b580852",
   "metadata": {
    "ExecuteTime": {
     "end_time": "2022-10-19T05:00:41.447467Z",
     "start_time": "2022-10-19T05:00:41.436947Z"
    }
   },
   "outputs": [
    {
     "name": "stdout",
     "output_type": "stream",
     "text": [
      "[[ 0.0148434   0.52709932 -0.54194272]\n",
      " [ 0.0222651   0.79064898 -0.81291408]]\n"
     ]
    }
   ],
   "source": [
    "# 求一次梯度；\n",
    "def f(W):\n",
    "    return net.loss(x, t)\n",
    "\n",
    "dW = numerical_gradient(f, net.W)\n",
    "print(dW)\n",
    "\n",
    "# 拿过来放在一起看；\n",
    "def numerical_gradient(f, x):\n",
    "    h = 1e-4 # 0.0001\n",
    "    grad = np.zeros_like(x) # 生成和x形状相同的数组[0,0]\n",
    "    \n",
    "    for idx in range(x.size): # 如X[3, 4], idx = 0, 1\n",
    "        tmp_val = x[idx] # tmp_val = X[0] = 3\n",
    "        \n",
    "        # f(x+h)的计算\n",
    "        x[idx] = tmp_val + h # X[0]=3+h, X变为[3+h, 4]\n",
    "        fxh1 = f(x) # 算 [3+h, 4]对应的f\n",
    "        \n",
    "        # f(x-h)的计算\n",
    "        x[idx] = tmp_val - h # X为[3-h, 4]\n",
    "        fxh2 = f(x) # 算 [3-h, 4] 对应的f\n",
    "        grad[idx] = (fxh1 - fxh2) / (2*h) # 得到梯度\n",
    "        x[idx] = tmp_val # 还原X为[3, 4]\n",
    "    \n",
    "    return grad"
   ]
  },
  {
   "cell_type": "code",
   "execution_count": null,
   "id": "c8ad3ba3",
   "metadata": {},
   "outputs": [],
   "source": [
    "# 如果将w11增加h，那么损失函数的值会增加0.0148434h\n",
    "# 如果将w23增加h，损失函数的值将减小0.81291408h\n",
    "\n",
    "# 因此，w23应向正方向更新，w11应向负方向更新。"
   ]
  },
  {
   "cell_type": "code",
   "execution_count": 169,
   "id": "2e870bf1",
   "metadata": {
    "ExecuteTime": {
     "end_time": "2022-10-19T05:10:29.968000Z",
     "start_time": "2022-10-19T05:10:29.959401Z"
    }
   },
   "outputs": [
    {
     "name": "stdout",
     "output_type": "stream",
     "text": [
      "[[ 0.0148434   0.52709932 -0.54194272]\n",
      " [ 0.0222651   0.79064898 -0.81291408]]\n"
     ]
    }
   ],
   "source": [
    "# 使用匿名函数\n",
    "f = lambda w: net.loss(x, t)\n",
    "dW = numerical_gradient(f, net.W)\n",
    "print(dW)"
   ]
  },
  {
   "cell_type": "code",
   "execution_count": 46,
   "id": "18d1c825",
   "metadata": {
    "ExecuteTime": {
     "end_time": "2022-10-20T09:53:39.817612Z",
     "start_time": "2022-10-20T09:53:39.791604Z"
    }
   },
   "outputs": [],
   "source": [
    "# 　2层神经网络的类\n",
    "\n",
    "# coding: utf-8\n",
    "import sys, os\n",
    "sys.path.append(os.pardir)  # 为了导入父目录的文件而进行的设定\n",
    "from common.functions import *\n",
    "from common.gradient import numerical_gradient\n",
    "\n",
    "\n",
    "class TwoLayerNet:\n",
    "\n",
    "    def __init__(self, input_size, hidden_size, output_size, weight_init_std=0.01):\n",
    "        # 初始化权重\n",
    "        self.params = {}\n",
    "        self.params['W1'] = weight_init_std * np.random.randn(input_size, hidden_size)\n",
    "        self.params['b1'] = np.zeros(hidden_size)\n",
    "        self.params['W2'] = weight_init_std * np.random.randn(hidden_size, output_size)\n",
    "        self.params['b2'] = np.zeros(output_size)\n",
    "\n",
    "    def predict(self, x):\n",
    "        W1, W2 = self.params['W1'], self.params['W2']\n",
    "        b1, b2 = self.params['b1'], self.params['b2']\n",
    "    \n",
    "        a1 = np.dot(x, W1) + b1\n",
    "        z1 = sigmoid(a1)\n",
    "        a2 = np.dot(z1, W2) + b2\n",
    "        y = softmax(a2)\n",
    "        \n",
    "        return y\n",
    "        \n",
    "    # x:输入数据, t:监督数据\n",
    "    def loss(self, x, t):\n",
    "        y = self.predict(x)\n",
    "        \n",
    "        return cross_entropy_error(y, t)\n",
    "    \n",
    "    def accuracy(self, x, t):\n",
    "        y = self.predict(x)\n",
    "        y = np.argmax(y, axis=1)\n",
    "        t = np.argmax(t, axis=1)\n",
    "        \n",
    "        accuracy = np.sum(y == t) / float(x.shape[0])\n",
    "        return accuracy\n",
    "        \n",
    "    # x:输入数据, t:监督数据\n",
    "    def numerical_gradient(self, x, t):\n",
    "        loss_W = lambda W: self.loss(x, t)\n",
    "        \n",
    "        grads = {}\n",
    "        grads['W1'] = numerical_gradient(loss_W, self.params['W1'])\n",
    "        grads['b1'] = numerical_gradient(loss_W, self.params['b1'])\n",
    "        grads['W2'] = numerical_gradient(loss_W, self.params['W2'])\n",
    "        grads['b2'] = numerical_gradient(loss_W, self.params['b2'])\n",
    "        \n",
    "        return grads\n",
    "        \n",
    "    def gradient(self, x, t):\n",
    "        W1, W2 = self.params['W1'], self.params['W2']\n",
    "        b1, b2 = self.params['b1'], self.params['b2']\n",
    "        grads = {}\n",
    "        \n",
    "        batch_num = x.shape[0]\n",
    "        \n",
    "        # forward\n",
    "        a1 = np.dot(x, W1) + b1\n",
    "        z1 = sigmoid(a1)\n",
    "        a2 = np.dot(z1, W2) + b2\n",
    "        y = softmax(a2)\n",
    "        \n",
    "        # backward\n",
    "        dy = (y - t) / batch_num\n",
    "        grads['W2'] = np.dot(z1.T, dy)\n",
    "        grads['b2'] = np.sum(dy, axis=0)\n",
    "        \n",
    "        da1 = np.dot(dy, W2.T)\n",
    "        dz1 = sigmoid_grad(a1) * da1\n",
    "        grads['W1'] = np.dot(x.T, dz1)\n",
    "        grads['b1'] = np.sum(dz1, axis=0)\n",
    "\n",
    "        return grads\n",
    "\n"
   ]
  },
  {
   "cell_type": "code",
   "execution_count": 47,
   "id": "16f35f76",
   "metadata": {
    "ExecuteTime": {
     "end_time": "2022-10-20T09:53:41.592983Z",
     "start_time": "2022-10-20T09:53:41.578848Z"
    }
   },
   "outputs": [
    {
     "name": "stdout",
     "output_type": "stream",
     "text": [
      "(784, 100)\n",
      "(100,)\n",
      "(100, 10)\n",
      "(10,)\n"
     ]
    }
   ],
   "source": [
    "# 调用例子\n",
    "net = TwoLayerNet(input_size=784, hidden_size=100, output_size=10)\n",
    "print(net.params['W1'].shape) # (784, 100)\n",
    "print(net.params['b1'].shape) # (100,)\n",
    "print(net.params['W2'].shape) # (100, 10)\n",
    "print(net.params['b2'].shape) # (10,)\n"
   ]
  },
  {
   "cell_type": "code",
   "execution_count": 51,
   "id": "8defc6fe",
   "metadata": {
    "ExecuteTime": {
     "end_time": "2022-10-20T09:54:34.208850Z",
     "start_time": "2022-10-20T09:54:34.198701Z"
    },
    "scrolled": false
   },
   "outputs": [
    {
     "data": {
      "text/plain": [
       "array([0.10689113, 0.09360812, 0.09900285, 0.09998252, 0.09274198,\n",
       "       0.09969959, 0.09994772, 0.10001975, 0.11210157, 0.09600477])"
      ]
     },
     "execution_count": 51,
     "metadata": {},
     "output_type": "execute_result"
    }
   ],
   "source": [
    "x = np.random.rand(100, 784)\n",
    "y = net.predict(x)\n",
    "y[0]\n"
   ]
  },
  {
   "cell_type": "code",
   "execution_count": 53,
   "id": "11596a67",
   "metadata": {
    "ExecuteTime": {
     "end_time": "2022-10-20T09:54:50.625081Z",
     "start_time": "2022-10-20T09:54:50.616909Z"
    }
   },
   "outputs": [
    {
     "data": {
      "text/plain": [
       "array([0.9402597 , 0.77989162, 0.14493632, 0.35425338, 0.7849047 ,\n",
       "       0.84045893, 0.28298879, 0.32401365, 0.77052823, 0.94910892])"
      ]
     },
     "execution_count": 53,
     "metadata": {},
     "output_type": "execute_result"
    }
   ],
   "source": [
    "x = np.random.rand(100, 784) # 伪输入数据（100笔）\n",
    "t = np.random.rand(100, 10) # 伪正确解标签（100笔）\n",
    "t[0]"
   ]
  },
  {
   "cell_type": "code",
   "execution_count": 59,
   "id": "7ae716df",
   "metadata": {
    "ExecuteTime": {
     "end_time": "2022-10-20T10:01:07.628463Z",
     "start_time": "2022-10-20T10:01:07.613630Z"
    }
   },
   "outputs": [
    {
     "data": {
      "text/plain": [
       "(100,)"
      ]
     },
     "execution_count": 59,
     "metadata": {},
     "output_type": "execute_result"
    },
    {
     "data": {
      "text/plain": [
       "array([ 2.35080420e-04, -7.86968268e-07,  1.42966239e-04, -3.87139454e-05,\n",
       "       -2.50371621e-04, -6.06256534e-05,  2.14879778e-04, -1.46152299e-04,\n",
       "       -1.16898837e-04,  1.03067932e-05,  2.31952473e-04, -3.17198554e-04,\n",
       "       -1.00226631e-04,  1.13721881e-04,  2.61797879e-04,  2.85568733e-04,\n",
       "       -1.19585657e-04,  1.59234883e-04, -7.88432741e-05, -1.82541138e-05,\n",
       "        2.31669319e-04,  9.12904796e-05,  1.18289103e-04, -1.25979642e-04,\n",
       "        3.51191920e-05,  2.47360672e-04, -1.96860737e-04,  3.70688915e-04,\n",
       "        6.40643938e-05,  7.93253019e-05, -4.11845957e-05,  1.65310610e-04,\n",
       "       -1.10451357e-04,  7.16503590e-05,  1.85701707e-04, -3.17720381e-04,\n",
       "        7.78715115e-05,  6.76504941e-05,  8.91042817e-05,  3.85254784e-05,\n",
       "        3.49359253e-05,  2.52500727e-04,  3.24401357e-04, -1.67646885e-04,\n",
       "       -1.79980506e-04,  2.00272665e-05, -1.37948790e-04, -6.85874180e-05,\n",
       "       -1.08104390e-04, -2.57485027e-04, -1.05442073e-04, -3.08348713e-04,\n",
       "       -1.98236294e-05,  2.29498491e-04, -2.66419642e-05,  8.95413921e-05,\n",
       "       -1.82153186e-04,  4.30738145e-04, -1.58326818e-05, -1.13428542e-04,\n",
       "       -3.82081966e-05, -7.96659916e-05,  7.15585347e-05, -1.34914131e-04,\n",
       "        5.12663045e-05,  1.88022264e-06, -1.67475300e-04,  1.21848418e-04,\n",
       "       -2.21992713e-04,  4.83679630e-05,  2.75295073e-04, -1.59870233e-04,\n",
       "       -3.30675582e-04, -1.06509110e-04,  2.86094060e-05,  1.72635861e-05,\n",
       "        2.92164106e-04,  3.13384456e-04,  3.94021948e-05,  3.01166374e-04,\n",
       "        8.27704882e-05,  2.07439799e-05,  1.00048387e-04, -5.20393062e-05,\n",
       "        9.54904444e-05, -1.30065603e-05,  4.55363236e-05, -1.70626273e-04,\n",
       "       -3.22657951e-04,  8.25695379e-05,  1.93729903e-04,  1.35625611e-04,\n",
       "        1.29547657e-04, -1.82081610e-04,  2.94117659e-04,  2.05139232e-04,\n",
       "        1.46747059e-07,  9.91657423e-05,  1.37642358e-04,  3.36986239e-04])"
      ]
     },
     "execution_count": 59,
     "metadata": {},
     "output_type": "execute_result"
    }
   ],
   "source": [
    "# grads = net.numerical_gradient(x, t)\n",
    "grads['W1'][0].shape\n",
    "\n",
    "grads['W1'][0]\n",
    "\n",
    "# 这里只是计算了各个参数W，b 的梯度，还没有更新W 和 b值；\n",
    "\n",
    "# 拿过来再看一下。\n",
    "# def numerical_gradient(self, x, t):\n",
    "#     loss_W = lambda W: self.loss(x, t)\n",
    "\n",
    "#     grads = {}\n",
    "#     grads['W1'] = numerical_gradient(loss_W, self.params['W1'])\n",
    "#     grads['b1'] = numerical_gradient(loss_W, self.params['b1'])\n",
    "#     grads['W2'] = numerical_gradient(loss_W, self.params['W2'])\n",
    "#     grads['b2'] = numerical_gradient(loss_W, self.params['b2'])\n",
    "\n",
    "#     return grads\n",
    "\n",
    "\n",
    "# def loss(self, x, t):\n",
    "#     y = self.predict(x)\n",
    "#     return cross_entropy_error(y, t)\n",
    "\n",
    "\n",
    "# def predict(self, x):\n",
    "#     W1, W2 = self.params['W1'], self.params['W2']\n",
    "#     b1, b2 = self.params['b1'], self.params['b2']\n",
    "\n",
    "#     a1 = np.dot(x, W1) + b1\n",
    "#     z1 = sigmoid(a1)\n",
    "#     a2 = np.dot(z1, W2) + b2\n",
    "#     y = softmax(a2)\n",
    "\n",
    "#     return y\n",
    "\n",
    "\n",
    "# def numerical_gradient(f, x):\n",
    "#     h = 1e-4 # 0.0001\n",
    "#     grad = np.zeros_like(x)\n",
    "    \n",
    "#     it = np.nditer(x, flags=['multi_index'], op_flags=['readwrite'])\n",
    "#     while not it.finished:\n",
    "#         idx = it.multi_index\n",
    "#         tmp_val = x[idx]\n",
    "#         x[idx] = float(tmp_val) + h\n",
    "#         fxh1 = f(x) # f(x+h)\n",
    "        \n",
    "#         x[idx] = tmp_val - h \n",
    "#         fxh2 = f(x) # f(x-h)\n",
    "#         grad[idx] = (fxh1 - fxh2) / (2*h)\n",
    "        \n",
    "#         x[idx] = tmp_val # 还原值\n",
    "#         it.iternext()   \n",
    "        \n",
    "#     return grad"
   ]
  },
  {
   "cell_type": "code",
   "execution_count": 60,
   "id": "b6547f42",
   "metadata": {
    "ExecuteTime": {
     "end_time": "2022-10-20T10:15:34.900260Z",
     "start_time": "2022-10-20T10:15:34.552410Z"
    }
   },
   "outputs": [],
   "source": [
    "# 　mini-batch的实现\n",
    "import numpy as np\n",
    "from dataset.mnist import load_mnist\n",
    "from two_layer_net import TwoLayerNet\n",
    "\n",
    "(x_train, t_train), (x_test, t_test) = load_mnist(normalize=True, one_hot_label = True)\n",
    "train_loss_list = []\n",
    "\n",
    "# 超参数\n",
    "iters_num = 10000 # 迭代次数\n",
    "train_size = x_train.shape[0]\n",
    "batch_size = 100\n",
    "learning_rate = 0.1\n",
    "\n",
    "network = TwoLayerNet(input_size=784, hidden_size=50, output_size=10)\n"
   ]
  },
  {
   "cell_type": "code",
   "execution_count": 61,
   "id": "3c6f9c5f",
   "metadata": {
    "ExecuteTime": {
     "end_time": "2022-10-20T10:19:44.567814Z",
     "start_time": "2022-10-20T10:19:22.384167Z"
    }
   },
   "outputs": [],
   "source": [
    "for i in range(iters_num):\n",
    "    # 获取mini-batch\n",
    "    batch_mask = np.random.choice(train_size, batch_size)\n",
    "    x_batch = x_train[batch_mask]\n",
    "    t_batch = t_train[batch_mask]\n",
    "    \n",
    "    # 计算梯度\n",
    "#     grad = network.numerical_gradient(x_batch, t_batch)\n",
    "    grad = network.gradient(x_batch, t_batch) # 高速版!\n",
    "    \n",
    "    # 更新参数\n",
    "    for key in ('W1', 'b1', 'W2', 'b2'):\n",
    "        network.params[key] -= learning_rate * grad[key]\n",
    "    \n",
    "    # 记录学习过程\n",
    "    loss = network.loss(x_batch, t_batch)\n",
    "    train_loss_list.append(loss)\n",
    "    \n",
    "    "
   ]
  },
  {
   "cell_type": "code",
   "execution_count": 63,
   "id": "b9c9ec2f",
   "metadata": {
    "ExecuteTime": {
     "end_time": "2022-10-20T10:20:44.220756Z",
     "start_time": "2022-10-20T10:20:43.995049Z"
    }
   },
   "outputs": [
    {
     "data": {
      "text/plain": [
       "[<matplotlib.lines.Line2D at 0x7faaabfa24f0>]"
      ]
     },
     "execution_count": 63,
     "metadata": {},
     "output_type": "execute_result"
    },
    {
     "data": {
      "image/png": "[encoded data removed]",
      "text/plain": [
       "<Figure size 432x288 with 1 Axes>"
      ]
     },
     "metadata": {
      "needs_background": "light"
     },
     "output_type": "display_data"
    }
   ],
   "source": [
    "plt.plot(train_loss_list)"
   ]
  },
  {
   "cell_type": "code",
   "execution_count": 69,
   "id": "e72383b7",
   "metadata": {
    "ExecuteTime": {
     "end_time": "2022-10-20T11:36:29.494338Z",
     "start_time": "2022-10-20T11:36:29.258668Z"
    }
   },
   "outputs": [],
   "source": [
    "# 基于测试数据的评价\n",
    "\n",
    "import numpy as np\n",
    "from dataset.mnist import load_mnist\n",
    "from two_layer_net import TwoLayerNet\n",
    "\n",
    "(x_train, t_train), (x_test, t_test) = load_mnist(normalize=True, one_hot_label = True)\n",
    "\n",
    "train_loss_list = []\n",
    "train_acc_list = []\n",
    "test_acc_list = []\n",
    "\n",
    "# 平均每个epoch的重复次数\n",
    "iter_per_epoch = max(train_size / batch_size, 1)\n",
    "\n",
    "# 超参数\n",
    "iters_num = 10000\n",
    "batch_size = 100\n",
    "learning_rate = 0.1\n",
    "\n",
    "network = TwoLayerNet(input_size=784, hidden_size=50, output_size=10)\n"
   ]
  },
  {
   "cell_type": "code",
   "execution_count": 72,
   "id": "2d91b0b4",
   "metadata": {
    "ExecuteTime": {
     "end_time": "2022-10-20T11:40:47.086513Z",
     "start_time": "2022-10-20T11:40:18.056832Z"
    }
   },
   "outputs": [
    {
     "name": "stdout",
     "output_type": "stream",
     "text": [
      "train acc, test acc | 0.10441666666666667, 0.1028\n",
      "train acc, test acc | 0.7796166666666666, 0.7881\n",
      "train acc, test acc | 0.87785, 0.8824\n",
      "train acc, test acc | 0.8988, 0.902\n",
      "train acc, test acc | 0.9082833333333333, 0.9111\n",
      "train acc, test acc | 0.9156333333333333, 0.9172\n",
      "train acc, test acc | 0.91995, 0.9203\n",
      "train acc, test acc | 0.9246166666666666, 0.9246\n",
      "train acc, test acc | 0.9278833333333333, 0.9297\n",
      "train acc, test acc | 0.93275, 0.9329\n",
      "train acc, test acc | 0.9343666666666667, 0.9347\n",
      "train acc, test acc | 0.9378, 0.9368\n",
      "train acc, test acc | 0.9395666666666667, 0.9398\n",
      "train acc, test acc | 0.9418166666666666, 0.9393\n",
      "train acc, test acc | 0.9431833333333334, 0.9421\n",
      "train acc, test acc | 0.9446833333333333, 0.9439\n",
      "train acc, test acc | 0.9470333333333333, 0.9448\n"
     ]
    }
   ],
   "source": [
    "for i in range(iters_num):\n",
    "    # 获取mini-batch\n",
    "    batch_mask = np.random.choice(train_size, batch_size)\n",
    "    x_batch = x_train[batch_mask]\n",
    "    t_batch = t_train[batch_mask]\n",
    "    \n",
    "    # 计算梯度\n",
    "#     grad = network.numerical_gradient(x_batch, t_batch)\n",
    "    grad = network.gradient(x_batch, t_batch) # 高速版!\n",
    "    \n",
    "    # 更新参数\n",
    "    for key in ('W1', 'b1', 'W2', 'b2'):\n",
    "        network.params[key] -= learning_rate * grad[key]\n",
    "    \n",
    "    loss = network.loss(x_batch, t_batch)\n",
    "    train_loss_list.append(loss)\n",
    "    \n",
    "    # 计算每个epoch的识别精度\n",
    "    if i % iter_per_epoch == 0:\n",
    "        train_acc = network.accuracy(x_train, t_train)\n",
    "        test_acc = network.accuracy(x_test, t_test)\n",
    "        train_acc_list.append(train_acc)\n",
    "        test_acc_list.append(test_acc)\n",
    "        print(\"train acc, test acc | \" + str(train_acc) + \", \" + str(test_acc))"
   ]
  },
  {
   "cell_type": "code",
   "execution_count": null,
   "id": "de0e96a4",
   "metadata": {},
   "outputs": [],
   "source": []
  },
  {
   "cell_type": "code",
   "execution_count": null,
   "id": "2ed714da",
   "metadata": {},
   "outputs": [],
   "source": []
  },
  {
   "cell_type": "code",
   "execution_count": null,
   "id": "cfd72015",
   "metadata": {},
   "outputs": [],
   "source": []
  },
  {
   "cell_type": "code",
   "execution_count": null,
   "id": "26125d9e",
   "metadata": {},
   "outputs": [],
   "source": []
  },
  {
   "cell_type": "code",
   "execution_count": null,
   "id": "89483962",
   "metadata": {},
   "outputs": [],
   "source": []
  },
  {
   "cell_type": "code",
   "execution_count": null,
   "id": "66179457",
   "metadata": {},
   "outputs": [],
   "source": []
  }
 ],
 "metadata": {
  "kernelspec": {
   "display_name": "Python 3",
   "language": "python",
   "name": "python3"
  },
  "language_info": {
   "codemirror_mode": {
    "name": "ipython",
    "version": 3
   },
   "file_extension": ".py",
   "mimetype": "text/x-python",
   "name": "python",
   "nbconvert_exporter": "python",
   "pygments_lexer": "ipython3",
   "version": "3.8.8"
  }
 },
 "nbformat": 4,
 "nbformat_minor": 5
}
