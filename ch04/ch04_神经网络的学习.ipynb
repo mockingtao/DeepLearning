{
 "cells": [
  {
   "cell_type": "code",
   "execution_count": 3,
   "id": "cce0dd62",
   "metadata": {
    "ExecuteTime": {
     "end_time": "2022-12-17T07:33:42.340717Z",
     "start_time": "2022-12-17T07:33:41.973164Z"
    }
   },
   "outputs": [],
   "source": [
    "import numpy as np\n",
    "import matplotlib.pylab as plt\n",
    "import pickle\n",
    "\n",
    "from IPython.core.interactiveshell import InteractiveShell \n",
    "InteractiveShell.ast_node_interactivity = \"all\""
   ]
  },
  {
   "cell_type": "markdown",
   "id": "33b19aca",
   "metadata": {},
   "source": [
    "- 神经网络的学习。这里所说的“学习”是指从训练数据中自动获取最优权重参数的过程。\n",
    "- 为了使神经网络能进行学习，将导入损失函数这一指标。\n",
    "- 学习的目的就是以该损失函数为基准，找出能使它的值达到最小的权重参数。\n",
    "- 为了找出尽可能小的损失函数的值，本章我们将介绍利用了函数斜率的梯度法。"
   ]
  },
  {
   "cell_type": "markdown",
   "id": "6a1a44c3",
   "metadata": {},
   "source": [
    "# 从数据中学习\n",
    "\n",
    "所谓“从数据中学习”，是指可以由数据自动决定权重参数的值。"
   ]
  },
  {
   "cell_type": "markdown",
   "id": "4e0b2ce8",
   "metadata": {},
   "source": [
    "## 数据驱动\n",
    "\n",
    "神经网络或深度学习则比以往的机器学习方法更能避免人为介入。与待处理的问题无关，神经网络可以将数据直接作为原始数据，进行“端对端”的学习。\n",
    "\n",
    "**传统机器学习步骤：**人为设计一些特征值，再通过机器学习SVM，KNN 来实现；\n",
    "\n",
    "**神经网络学习步骤：**直接学习图像本身\n",
    "\n",
    "<img src=\"img/4_2.png\" alt=\"Drawing\" style=\"width: 500px;\"/>\n",
    "\n",
    "\n",
    "神经网络的优点是对所有的问题都可以用同样的流程来解决。比如，不管要求解的问题是识别5，还是识别狗，抑或是识别人脸，神经网络都是通过不断地学习所提供的数据，尝试发现待求解的问题的模式。也就是说，与待处理的问题无关，神经网络可以将数据直接作为原始数据，进行“端对端”的学习。\n"
   ]
  },
  {
   "cell_type": "markdown",
   "id": "f7e7691f",
   "metadata": {},
   "source": [
    "## 训练数据和测试数据\n",
    "\n",
    "机器学习中，一般将数据分为训练数据和测试数据两部分来进行学习和实验等。首先，使用训练数据进行学习，寻找最优的参数；然后，使用测试数据评价训练得到的模型的实际能力。为什么需要将数据分为训练数据和测试数据呢？因为我们追求的是模型的泛化能力。为了正确评价模型的泛化能力，就必须划分训练数据和测试数据。另外，训练数据也可以称为监督数据。\n",
    "\n",
    "\n",
    "$X_1$, $Y_1$ 为 **训练数据**\n",
    "\n",
    "$X_2$， $Y_2$ 为 **测试数据**\n",
    "\n",
    "|$Y_{1} - Y_{p}$| 为 **损失函数**\n"
   ]
  },
  {
   "cell_type": "markdown",
   "id": "89f8a872",
   "metadata": {},
   "source": [
    "# 损失函数\n",
    "\n",
    "- 神经网络的学习通过某个指标表示现在的状态。然后，以这个指标为基准，寻找最优权重参数。\n",
    "\n",
    "- 神经网络以某个指标为线索寻找最优权重参数\n",
    "\n",
    "- 神经网络的学习中所用的指标称为损失函数（loss function）。\n",
    "\n",
    "- 损失函数是表示神经网络性能的“恶劣程度”的指标，即当前的神经网络对监督数据在多大程度上不拟合，在多大程度上不一致\n",
    "\n",
    "- 这个损失函数可以使用任意函数，但一般用均方误差和交叉熵误差等。\n",
    "\n"
   ]
  },
  {
   "cell_type": "markdown",
   "id": "ccedb602",
   "metadata": {},
   "source": [
    "## 均方误差MSE（mean squared error）\n",
    "\n",
    "**公式** ：$E = \\frac{1}{2}\\sum\\limits_k(y_k - t_k)^2 $\n",
    "\n",
    "$y_k$是表示神经网络的输出，$t_k$表示监督数据，k表示数据的维数\n"
   ]
  },
  {
   "cell_type": "code",
   "execution_count": 2,
   "id": "87d59c17",
   "metadata": {
    "ExecuteTime": {
     "end_time": "2022-11-29T14:21:37.723930Z",
     "start_time": "2022-11-29T14:21:37.716749Z"
    }
   },
   "outputs": [
    {
     "name": "stdout",
     "output_type": "stream",
     "text": [
      "0.09750000000000003\n"
     ]
    }
   ],
   "source": [
    "# 在节手写数字识别的例子中，yk、tk是由如下10个元素构成的数据。\n",
    "\n",
    "# 例1：“2”的概率最高的情况（0.6）\n",
    "y = [0.1, 0.05, 0.6, 0.0, 0.05, 0.1, 0.0, 0.1, 0.0, 0.0] # 0~9 数字的概率\n",
    "t = [0, 0, 1, 0, 0, 0, 0, 0, 0, 0] # 设“2”为正确解\n",
    "\n",
    "# 关于y：\n",
    "# 数组元素的索引从第一个开始依次对应数字“0”“1”“2”…… \n",
    "# 这里，神经网络的输出y是softmax函数的输出。\n",
    "# 由于softmax函数的输出可以理解为概率，\n",
    "# 因此上例表示“0”的概率是0.1，“1”的概率是0.05，“2”的概率是0.6等。\n",
    "\n",
    "# 关于t：\n",
    "# t是监督数据，将正确解标签设为1，其他均设为0。\n",
    "# 这里，标签“2”为1，表示正确解是“2”。\n",
    "# 将正确解标签表示为1，其他标签表示为0的表示方法称为one-hot表示。\n",
    "\n",
    "def mean_squared_error(y, t):\n",
    "    return 0.5 * np.sum((y-t)**2)\n",
    "\n",
    "error = mean_squared_error(np.array(y), np.array(t))\n",
    "\n",
    "# 这里是error，越小说明误差越小，表示结果越准；\n",
    "print(error)\n"
   ]
  },
  {
   "cell_type": "code",
   "execution_count": 4,
   "id": "a493c5bc",
   "metadata": {
    "ExecuteTime": {
     "end_time": "2022-11-29T14:22:09.740882Z",
     "start_time": "2022-11-29T14:22:09.732097Z"
    }
   },
   "outputs": [
    {
     "data": {
      "text/plain": [
       "0.5975"
      ]
     },
     "execution_count": 4,
     "metadata": {},
     "output_type": "execute_result"
    }
   ],
   "source": [
    " # 例2：t不变，修改y：“7”的概率最高的情况（0.6）,t 的正确解还是2\n",
    "y2 = [0.1, 0.05, 0.1, 0.0, 0.05, 0.1, 0.0, 0.6, 0.0, 0.0]\n",
    "mean_squared_error(np.array(y2), np.array(t))\n"
   ]
  },
  {
   "cell_type": "markdown",
   "id": "848f075a",
   "metadata": {
    "ExecuteTime": {
     "end_time": "2022-10-18T02:40:05.324535Z",
     "start_time": "2022-10-18T02:40:05.317834Z"
    }
   },
   "source": [
    "## 交叉熵误差(cross entropy error)\n",
    "\n",
    "**公式：** $E = -\\sum\\limits_k t_k log y_k $\n",
    "\n",
    "\n",
    "- log表示以e为底数的自然对数（$log_e$）, $y_k$是神经网络的输出，$t_k$是正确解标签。\n",
    "\n",
    "- $t_k$中只有正确解标签的索引为1，其他均为0（one-hot表示）。\n",
    "\n",
    "- 因此，**交叉熵公式实际上只计算对应正确解标签的输出的自然对数。**\n",
    "\n",
    "比如，假设正确解标签的索引是“2”，与之对应的神经网络的输出是0.6，则交叉熵误差是−log 0.6 = 0.51；\n",
    "若“2”对应的输出是0.1，则交叉熵误差为−log 0.1 = 2.30。也就是说，交叉熵误差的值是由正确解标签所对应的输出结果决定的。"
   ]
  },
  {
   "cell_type": "code",
   "execution_count": 105,
   "id": "cc94bdb6",
   "metadata": {
    "ExecuteTime": {
     "end_time": "2022-10-18T09:14:35.204866Z",
     "start_time": "2022-10-18T09:14:35.041141Z"
    }
   },
   "outputs": [
    {
     "name": "stderr",
     "output_type": "stream",
     "text": [
      "<ipython-input-105-102c02e36cda>:7: RuntimeWarning: divide by zero encountered in log\n",
      "  y = -np.log(x)\n"
     ]
    },
    {
     "data": {
      "image/png": "[encoded data removed]",
      "text/plain": [
       "<Figure size 432x288 with 1 Axes>"
      ]
     },
     "metadata": {
      "needs_background": "light"
     },
     "output_type": "display_data"
    }
   ],
   "source": [
    "# 看一下-log(x) 函数图像：x轴正确解标签对应的输出越大，交叉熵误差值越接近0，说明误差越小\n",
    "import numpy as np\n",
    "import matplotlib.pylab as plt\n",
    "\n",
    "x = np.arange(0, 1, 0.001)\n",
    "y = -np.log(x)\n",
    "\n",
    "plt.plot(x, y)\n",
    "plt.ylim(0, 5.3)\n",
    "plt.show()\n",
    "\n",
    "# 从图像来看，交叉熵误差最大值是到正无穷的，这就会出现下面 error=2.3，这个不是我们理解的fa"
   ]
  },
  {
   "cell_type": "markdown",
   "id": "17e14032",
   "metadata": {},
   "source": [
    "对应到公式中：$E = -\\sum\\limits_k t_k log y_k $\n",
    "\n",
    "正确解标签对应的输出越大，公式中的值越接近0（也就是误差越小）。以至于当输出为1时，交叉熵误差E为0。\n",
    "\n",
    "如果正确解标签对应的输出较小，则公式的值较大，则误差E越大。"
   ]
  },
  {
   "cell_type": "code",
   "execution_count": 5,
   "id": "dd27ca62",
   "metadata": {
    "ExecuteTime": {
     "end_time": "2022-11-29T14:28:02.457939Z",
     "start_time": "2022-11-29T14:28:02.453208Z"
    }
   },
   "outputs": [],
   "source": [
    "# 代码实现交叉熵误差\n",
    "def cross_entropy_error(y, t):\n",
    "    delta = 1e-7\n",
    "    return -np.sum(t * np.log(y + delta))\n",
    "\n",
    "# 函数内部在计算np.log时，加上了一个极小值delta。\n",
    "# 这是因为，当出现np.log(0)时，np.log(0)会变为负无限大的-inf，这样一来就会导致后续计算无法进行。\n",
    "# 作为保护性对策，添加一个微小值可以防止负无限大的发生。"
   ]
  },
  {
   "cell_type": "code",
   "execution_count": 7,
   "id": "ca3636a8",
   "metadata": {
    "ExecuteTime": {
     "end_time": "2022-11-29T14:28:53.069044Z",
     "start_time": "2022-11-29T14:28:53.062478Z"
    }
   },
   "outputs": [
    {
     "name": "stdout",
     "output_type": "stream",
     "text": [
      "0.510825457099338\n"
     ]
    }
   ],
   "source": [
    "# 第一个例子，正确解标签对应的输出为0.6，此时的交叉熵误差大约为0.51\n",
    "\n",
    "t = [0, 0, 1, 0, 0, 0, 0, 0, 0, 0]\n",
    "y = [0.1, 0.05, 0.6, 0.0, 0.05, 0.1, 0.0, 0.1, 0.0, 0.0]\n",
    "error = cross_entropy_error(np.array(y), np.array(t))\n",
    "print(error)\n",
    "\n"
   ]
  },
  {
   "cell_type": "code",
   "execution_count": 8,
   "id": "48a3440e",
   "metadata": {
    "ExecuteTime": {
     "end_time": "2022-11-29T14:29:02.021077Z",
     "start_time": "2022-11-29T14:29:02.015246Z"
    }
   },
   "outputs": [
    {
     "name": "stdout",
     "output_type": "stream",
     "text": [
      "2.302584092994546\n",
      "-1.3025840929945458\n"
     ]
    }
   ],
   "source": [
    "# 第二个例子，正确解标签对应的输出为0.1的低值，此时的交叉熵误差大约为2.3\n",
    "\n",
    "y = [0.1, 0.05, 0.1, 0.0, 0.05, 0.1, 0.0, 0.6, 0.0, 0.0]\n",
    "error = cross_entropy_error(np.array(y), np.array(t))\n",
    "print(error)\n",
    "print(1-error)\n",
    "# 误差为 2.3\n",
    "\n"
   ]
  },
  {
   "cell_type": "code",
   "execution_count": 9,
   "id": "c6e81728",
   "metadata": {
    "ExecuteTime": {
     "end_time": "2022-11-29T14:34:09.984280Z",
     "start_time": "2022-11-29T14:34:09.974428Z"
    }
   },
   "outputs": [
    {
     "name": "stdout",
     "output_type": "stream",
     "text": [
      "[ -2.30258409  -2.99573027  -2.30258409 -16.11809565  -2.99573027\n",
      "  -2.30258409 -16.11809565  -0.51082546 -16.11809565 -16.11809565]\n",
      "[-0.         -0.         -2.30258409 -0.         -0.         -0.\n",
      " -0.         -0.         -0.         -0.        ]\n",
      "2.302584092994546\n"
     ]
    }
   ],
   "source": [
    "# 详细解读：-np.sum(t * np.log(y + delta))\n",
    "# 证明：交叉熵公式实际上只计算对应正确解标签的输出的自然对数。\n",
    "delta = 1e-7\n",
    "print(np.log(np.array(y) + delta))\n",
    "\n",
    "print(np.array(t)*np.log(np.array(y) + delta))\n",
    "\n",
    "print(-np.sum(np.array(t)*np.log(np.array(y) + delta)))\n"
   ]
  },
  {
   "cell_type": "markdown",
   "id": "4f9ae10a",
   "metadata": {},
   "source": [
    "## mini-batch学习\n",
    "\n",
    "神经网络的学习也是从训练数据中选出一批数据（称为mini-batch,小批量），然后对每个mini-batch进行学习。\n",
    "\n",
    "比如，从60000个训练数据中随机选择100笔，再用这100笔数据进行学习。这种学习方式称为**mini-batch学习**。\n",
    "\n"
   ]
  },
  {
   "cell_type": "markdown",
   "id": "fb726c1e",
   "metadata": {},
   "source": [
    "在 mini-batch中会计算“平均损失函数”：\n",
    "\n",
    "**公式：**$E = \\frac{1}{N}\\sum\\limits_{n} \\sum\\limits_{k} t_{nk} log y_{nk} $\n",
    "\n",
    "公式说明：把全部的交叉熵误差累加，再除以N\n",
    "\n",
    "这里，假设数据有N个，$t_{nk}$表示第n个数据的第k个元素的值（$y_{nk}$是神经网络的输出，$t_{nk}$是监督数据）。\n",
    "\n",
    "其实只是把求单个数据的损失函数扩大到了N份数据，最后除以N进行正规化。\n"
   ]
  },
  {
   "cell_type": "markdown",
   "id": "dbd09b9a",
   "metadata": {},
   "source": [
    "### mini-batch版交叉熵误差的实现"
   ]
  },
  {
   "cell_type": "code",
   "execution_count": 15,
   "id": "2dc890af",
   "metadata": {
    "ExecuteTime": {
     "end_time": "2022-12-09T00:07:43.348678Z",
     "start_time": "2022-12-09T00:07:43.342181Z"
    }
   },
   "outputs": [],
   "source": [
    "# mini-batch版交叉熵误差的实现\n",
    "def cross_entropy_error(y, t):\n",
    "    if y.ndim == 1: # 如果是一维数组，变成二维数据；\n",
    "        t = t.reshape(1, t.size)\n",
    "        y = y.reshape(1, y.size)\n",
    "        \n",
    "    batch_size = y.shape[0]\n",
    "    return -np.sum(t * np.log(y + 1e-7)) / batch_size\n",
    "\n",
    "# 非batch：-np.sum(t * np.log(y + 1e-7))\n",
    "# 其中，1e-7 为极小值，如果不加这个值，当y=0的时候，log返回的结果是无穷大。会报错！\n",
    "\n",
    "\n",
    "# 当监督数据是标签形式（非one-hot表示，而是像“2”“7”这样的标签）时，交叉熵误差可通过如下代码实现：\n",
    "def cross_entropy_error2(y, t):\n",
    "    if y.ndim == 1: # 如果是一维数组，变成二维数据；\n",
    "        t = t.reshape(1, t.size)\n",
    "        y = y.reshape(1, y.size)\n",
    "        \n",
    "    batch_size = y.shape[0]\n",
    "    return -np.sum(np.log(y[np.arange(batch_size), t] + 1e-7))/batch_size\n",
    "\n"
   ]
  },
  {
   "cell_type": "markdown",
   "id": "ae961e89",
   "metadata": {},
   "source": [
    "这里，y是神经网络的输出，t是监督数据。\n",
    "\n",
    "y的维度为1时，即求单个数据的交叉熵误差时，需要改变数据的形状？这里因为：return 返回的维度要一致，供后续使用；\n",
    "\n",
    "并且，当输入为mini-batch时，要用batch的个数进行正规化，计算单个数据的平均交叉熵误差。"
   ]
  },
  {
   "cell_type": "code",
   "execution_count": 6,
   "id": "a452fa0e",
   "metadata": {
    "ExecuteTime": {
     "end_time": "2022-12-08T23:54:05.343821Z",
     "start_time": "2022-12-08T23:54:05.333958Z"
    }
   },
   "outputs": [
    {
     "name": "stdout",
     "output_type": "stream",
     "text": [
      "[[ -2.30258409  -2.99573027  -0.51082546 -16.11809565  -2.99573027\n",
      "   -2.30258409 -16.11809565  -2.30258409 -16.11809565 -16.11809565]]\n",
      "[[-0.         -0.         -0.51082546 -0.         -0.         -0.\n",
      "  -0.         -0.         -0.         -0.        ]]\n",
      "0.1277063642748345\n"
     ]
    }
   ],
   "source": [
    "# 代码解释1： -np.sum(t * np.log(y + 1e-7)) / batch_size\n",
    "batch_size = 4\n",
    "y1 = np.array([0.1, 0.05, 0.6, 0.0, 0.05, 0.1, 0.0, 0.1, 0.0, 0.0])\n",
    "t1 = np.array([0, 0, 1, 0, 0, 0, 0, 0, 0, 0])\n",
    "y2 = y1.reshape(1, y1.size)\n",
    "t2 = t1.reshape(1, t1.size)\n",
    "\n",
    "print(np.log(y2 + 1e-7))\n",
    "print(t2 * np.log(y2 + 1e-7))\n",
    "print(-np.sum(t2 * np.log(y2 + 1e-7))/ batch_size)\n",
    "# -(-0.51082546-0.51082546-2.30258409-2.30258409)/4 = 5.6268191/4 = 1.406704775046942\n"
   ]
  },
  {
   "cell_type": "code",
   "execution_count": 24,
   "id": "a217c95d",
   "metadata": {
    "ExecuteTime": {
     "end_time": "2022-12-09T00:11:59.920309Z",
     "start_time": "2022-12-09T00:11:59.892483Z"
    }
   },
   "outputs": [
    {
     "data": {
      "text/plain": [
       "4"
      ]
     },
     "execution_count": 24,
     "metadata": {},
     "output_type": "execute_result"
    },
    {
     "data": {
      "text/plain": [
       "array([0, 1, 2, 3])"
      ]
     },
     "execution_count": 24,
     "metadata": {},
     "output_type": "execute_result"
    },
    {
     "data": {
      "text/plain": [
       "array([0.6, 0.6, 0.1, 0.1])"
      ]
     },
     "execution_count": 24,
     "metadata": {},
     "output_type": "execute_result"
    },
    {
     "data": {
      "text/plain": [
       "array([-0.51082546, -0.51082546, -2.30258409, -2.30258409])"
      ]
     },
     "execution_count": 24,
     "metadata": {},
     "output_type": "execute_result"
    },
    {
     "data": {
      "text/plain": [
       "1.406704775046942"
      ]
     },
     "execution_count": 24,
     "metadata": {},
     "output_type": "execute_result"
    }
   ],
   "source": [
    "# 代码解释2： -np.sum(np.log(y[np.arange(batch_size), t] + 1e-7))/batch_size\n",
    "# 结果\n",
    "y3 = np.array([[0.1, 0.05, 0.6, 0.0, 0.05, 0.1, 0.0, 0.1, 0.0, 0.0],\n",
    "               [0.1, 0.05, 0.6, 0.0, 0.05, 0.1, 0.0, 0.1, 0.0, 0.0],\n",
    "               [0.1, 0.05, 0.1, 0.0, 0.05, 0.1, 0.0, 0.6, 0.0, 0.0],\n",
    "               [0.1, 0.05, 0.1, 0.0, 0.05, 0.1, 0.0, 0.6, 0.0, 0.0]])\n",
    "# 这里把y2中的值稍加改动；\n",
    "t3 = np.array([2,2,2,2])\n",
    "batch_size = y3.shape[0]\n",
    "\n",
    "\n",
    "# 最终输出：\n",
    "y3.shape[0]\n",
    "np.arange(batch_size)\n",
    "y3[np.arange(batch_size), t3]\n",
    "np.log(y3[np.arange(batch_size), t3]+ 1e-7)\n",
    "-np.sum(np.log(y3[np.arange(batch_size), t3] + 1e-7))/batch_size\n"
   ]
  },
  {
   "cell_type": "code",
   "execution_count": 36,
   "id": "84e05bd0",
   "metadata": {
    "ExecuteTime": {
     "end_time": "2022-11-30T00:54:22.234726Z",
     "start_time": "2022-11-30T00:54:22.218521Z"
    }
   },
   "outputs": [
    {
     "data": {
      "text/plain": [
       "(10,)"
      ]
     },
     "execution_count": 36,
     "metadata": {},
     "output_type": "execute_result"
    },
    {
     "data": {
      "text/plain": [
       "array([-0.        , -0.        , -0.51082546, -0.        , -0.        ,\n",
       "       -0.        , -0.        , -0.        , -0.        , -0.        ])"
      ]
     },
     "execution_count": 36,
     "metadata": {},
     "output_type": "execute_result"
    },
    {
     "data": {
      "text/plain": [
       "0.0510825457099338"
      ]
     },
     "execution_count": 36,
     "metadata": {},
     "output_type": "execute_result"
    }
   ],
   "source": [
    "# 测试1：\n",
    "# y为1维：\n",
    "y1 = np.array([0.1, 0.05, 0.6, 0.0, 0.05, 0.1, 0.0, 0.1, 0.0, 0.0])\n",
    "\n",
    "y1.shape# 这里还是一维数组；\n",
    "t1 = np.array([0, 0, 1, 0, 0, 0, 0, 0, 0, 0])\n",
    "\n",
    "t1 * np.log(y1 + 1e-7)\n",
    "\n",
    "cross_entropy_error(y1, t1)\n"
   ]
  },
  {
   "cell_type": "code",
   "execution_count": 35,
   "id": "2fb5f751",
   "metadata": {
    "ExecuteTime": {
     "end_time": "2022-11-30T00:52:18.746453Z",
     "start_time": "2022-11-30T00:52:18.728086Z"
    }
   },
   "outputs": [
    {
     "data": {
      "text/plain": [
       "(1, 10)"
      ]
     },
     "execution_count": 35,
     "metadata": {},
     "output_type": "execute_result"
    },
    {
     "data": {
      "text/plain": [
       "(1, 10)"
      ]
     },
     "execution_count": 35,
     "metadata": {},
     "output_type": "execute_result"
    },
    {
     "data": {
      "text/plain": [
       "array([[-0.        , -0.        , -0.51082546, -0.        , -0.        ,\n",
       "        -0.        , -0.        , -0.        , -0.        , -0.        ]])"
      ]
     },
     "execution_count": 35,
     "metadata": {},
     "output_type": "execute_result"
    },
    {
     "data": {
      "text/plain": [
       "0.0510825457099338"
      ]
     },
     "execution_count": 35,
     "metadata": {},
     "output_type": "execute_result"
    }
   ],
   "source": [
    "# 测试2：\n",
    "# 对y1进行reshape\n",
    "y2 = y1.reshape(1, y1.size)\n",
    "y2.shape\n",
    "t2 = t1.reshape(1, t1.size)\n",
    "t2.shape\n",
    "\n",
    "t2 * np.log(y2 + 1e-7)\n",
    "-np.sum(t2 * np.log(y2 + 1e-7))/10\n"
   ]
  },
  {
   "cell_type": "code",
   "execution_count": 37,
   "id": "1e02f187",
   "metadata": {
    "ExecuteTime": {
     "end_time": "2022-11-30T00:55:06.753427Z",
     "start_time": "2022-11-30T00:55:06.736397Z"
    }
   },
   "outputs": [
    {
     "data": {
      "text/plain": [
       "array([[-0.        , -0.        , -0.51082546, -0.        , -0.        ,\n",
       "        -0.        , -0.        , -0.        , -0.        , -0.        ],\n",
       "       [-0.        , -0.        , -0.51082546, -0.        , -0.        ,\n",
       "        -0.        , -0.        , -0.        , -0.        , -0.        ],\n",
       "       [-0.        , -0.        , -2.30258409, -0.        , -0.        ,\n",
       "        -0.        , -0.        , -0.        , -0.        , -0.        ],\n",
       "       [-0.        , -0.        , -2.30258409, -0.        , -0.        ,\n",
       "        -0.        , -0.        , -0.        , -0.        , -0.        ]])"
      ]
     },
     "execution_count": 37,
     "metadata": {},
     "output_type": "execute_result"
    },
    {
     "data": {
      "text/plain": [
       "0.5626819100187768"
      ]
     },
     "execution_count": 37,
     "metadata": {},
     "output_type": "execute_result"
    }
   ],
   "source": [
    "# 测试3：\n",
    "# y为二维\n",
    "y3 = np.array([[0.1, 0.05, 0.6, 0.0, 0.05, 0.1, 0.0, 0.1, 0.0, 0.0],\n",
    "               [0.1, 0.05, 0.6, 0.0, 0.05, 0.1, 0.0, 0.1, 0.0, 0.0],\n",
    "               [0.1, 0.05, 0.1, 0.0, 0.05, 0.1, 0.0, 0.6, 0.0, 0.0],\n",
    "               [0.1, 0.05, 0.1, 0.0, 0.05, 0.1, 0.0, 0.6, 0.0, 0.0]])\n",
    "# 这里把y2中的值稍加改动；\n",
    "\n",
    "t3 = np.array([[0, 0, 1, 0, 0, 0, 0, 0, 0, 0],\n",
    "               [0, 0, 1, 0, 0, 0, 0, 0, 0, 0],\n",
    "               [0, 0, 1, 0, 0, 0, 0, 0, 0, 0],\n",
    "               [0, 0, 1, 0, 0, 0, 0, 0, 0, 0]])\n",
    "\n",
    "t3 * np.log(y3 + 1e-7)\n",
    "\n",
    "cross_entropy_error(y3, t3)\n"
   ]
  },
  {
   "cell_type": "markdown",
   "id": "da734fd2",
   "metadata": {},
   "source": [
    "### 回到MNIST数据集 的例子，我们取数来看下\n"
   ]
  },
  {
   "cell_type": "code",
   "execution_count": 25,
   "id": "62d4b1a6",
   "metadata": {
    "ExecuteTime": {
     "end_time": "2022-12-09T00:19:18.012356Z",
     "start_time": "2022-12-09T00:19:17.614797Z"
    }
   },
   "outputs": [
    {
     "name": "stdout",
     "output_type": "stream",
     "text": [
      "(60000, 784)\n",
      "(60000, 10)\n"
     ]
    }
   ],
   "source": [
    "# 回到MNIST数据集 的例子，我们取数来看下，\n",
    "\n",
    "import sys, os\n",
    "sys.path.append(os.pardir)\n",
    "import numpy as np\n",
    "from dataset.mnist import load_mnist\n",
    "(x_train, t_train), (x_test, t_test) = load_mnist(normalize=True, one_hot_label=True)\n",
    "print(x_train.shape) # (60000, 784)\n",
    "print(t_train.shape) # (60000, 10)\n"
   ]
  },
  {
   "cell_type": "markdown",
   "id": "a03c3ec0",
   "metadata": {
    "ExecuteTime": {
     "end_time": "2022-10-18T11:14:59.362374Z",
     "start_time": "2022-10-18T11:14:59.351301Z"
    }
   },
   "source": [
    "读入MNIST数据后，训练数据有60000个，输入数据是784维 （28 × 28）的图像数据，监督数据是10维的数据。因此，上面的x_train、t_\n",
    "train的形状分别是(60000, 784)和(60000, 10)。"
   ]
  },
  {
   "cell_type": "code",
   "execution_count": 26,
   "id": "47fc0485",
   "metadata": {
    "ExecuteTime": {
     "end_time": "2022-12-09T00:19:24.617850Z",
     "start_time": "2022-12-09T00:19:24.602900Z"
    }
   },
   "outputs": [
    {
     "name": "stdout",
     "output_type": "stream",
     "text": [
      "60000\n",
      "[38431 24331 18495 12738 38490 43354 18561 10559  5335 14624]\n"
     ]
    }
   ],
   "source": [
    "# 从这个训练数据中随机抽取10笔数据\n",
    "train_size = x_train.shape[0]\n",
    "batch_size = 10\n",
    "batch_mask = np.random.choice(train_size, batch_size) # 从0到59999之间随机选择10个数字\n",
    "print(train_size)\n",
    "print(batch_mask)\n",
    "\n",
    "x_batch = x_train[batch_mask]\n",
    "t_batch = t_train[batch_mask]\n",
    "# print(x_batch)\n",
    "# print(t_batch)"
   ]
  },
  {
   "cell_type": "code",
   "execution_count": 27,
   "id": "fd71d8a9",
   "metadata": {
    "ExecuteTime": {
     "end_time": "2022-12-09T00:20:07.260386Z",
     "start_time": "2022-12-09T00:20:07.246258Z"
    },
    "scrolled": false
   },
   "outputs": [
    {
     "data": {
      "text/plain": [
       "(10, 784)"
      ]
     },
     "execution_count": 27,
     "metadata": {},
     "output_type": "execute_result"
    },
    {
     "data": {
      "text/plain": [
       "(784,)"
      ]
     },
     "execution_count": 27,
     "metadata": {},
     "output_type": "execute_result"
    },
    {
     "data": {
      "text/plain": [
       "array([ 6436, 59163, 27379, 23939, 43137, 54644, 39890, 22742, 31197,\n",
       "        2649])"
      ]
     },
     "execution_count": 27,
     "metadata": {},
     "output_type": "execute_result"
    }
   ],
   "source": [
    "x_batch.shape\n",
    "\n",
    "x_batch[0].shape\n",
    "\n",
    "# 使用np.random.choice()可以从指定的数字中随机选择想要的数字。比如，np.random.choice(60000, 10)会从0到59999之间随机选择10个数字。\n",
    "np.random.choice(60000, 10)\n"
   ]
  },
  {
   "cell_type": "markdown",
   "id": "2d851d80",
   "metadata": {},
   "source": [
    "之后，我们只需指定这些随机选出的索引，取出mini-batch，然后使用这个mini-batch计算损失函数即可。"
   ]
  },
  {
   "cell_type": "markdown",
   "id": "24492aaa",
   "metadata": {
    "ExecuteTime": {
     "end_time": "2022-10-18T11:18:24.646746Z",
     "start_time": "2022-10-18T11:18:24.630650Z"
    }
   },
   "source": [
    "### 思考：为何要设定损失函数？\n",
    "\n",
    "在进行神经网络的学习时，不能将识别精度作为指标。因为**如果以识别精度为指标，则参数的导数在绝大多数地方都会变为0。**\n",
    "\n",
    "#### 为什么用识别精度作为指标时，参数的导数在绝大多数地方都会变成0？\n",
    "答案：假设某个神经网络正确识别出了100笔训练数据中的32笔，此时识别精度为32 %。如果以识别精度为指标，即使稍微改变权重参数的值，识别精度也仍将保持在32 %，不会出现变化。也就是说，仅仅微调参数，是无法改善识别精度的。即便识别精度有所改善，它的值也不会像32.0123 ... %这样连续变化，而是变为33 %、34 %这样的不连续的、离散的值。而如果把损失函数作为指标，则当前损失函数的值可以表示为0.92543 ... 这样的值。并且，如果稍微改变一下参数的值，对应的损失函数也会像0.93432 ... 这样发生连续性的变化。\n",
    "\n",
    "<img src=\"img/4_4.png\" alt=\"Drawing\" style=\"width: 500px;\"/>\n",
    "\n",
    "识别精度对微小的参数变化基本上没有什么反应，即便有反应，它的值也是不连续地、突然地变化。\n",
    "作为激活函数的阶跃函数也有同样的情况。出于相同的原因，如果使用阶跃函数作为激活函数，神经网络的学习将无法进行。\n",
    "\n",
    "如上图所示，阶跃函数的导数在绝大多数地方（除了0以外的地方）均为0。\n",
    "也就是说，如果使用了阶跃函数，那么即便将损失函数作为指标，参数的微小变化也会被阶跃函数抹杀，导致损失函数的值不会产生任何变化。\n",
    "\n",
    "而sigmoid函数，不仅函数的输出（竖轴的值）是连续变化的，曲线的斜率（导数）也是连续变化的。也就是说，sigmoid函数的导数在任何地方都不为0。这对神经网络的学习非常重要。得益于这个斜率不会为0的性质，神经网络的学习得以正确进行。"
   ]
  },
  {
   "cell_type": "markdown",
   "id": "4acbee6f",
   "metadata": {},
   "source": [
    "# 数值微分\n"
   ]
  },
  {
   "cell_type": "markdown",
   "id": "0398e885",
   "metadata": {},
   "source": [
    "## 导数\n",
    "导数就是表示某个瞬间的变化量。它可以定义成下面的式子。\n",
    "\n",
    "$$\\frac{df(x)}{dx}= \\lim\\limits_{h\\rightarrow0}\\frac{f(x+h)-f(x)}{h} $$\n",
    "\n"
   ]
  },
  {
   "cell_type": "code",
   "execution_count": 138,
   "id": "0b33afa0",
   "metadata": {
    "ExecuteTime": {
     "end_time": "2022-10-18T12:27:21.799003Z",
     "start_time": "2022-10-18T12:27:21.789058Z"
    }
   },
   "outputs": [],
   "source": [
    "# 中心差分实现数值微分\n",
    "\n",
    "def numerical_diff(f, x):\n",
    "    h = 1e-4 # 0.0001,使用过小的值会造成计算机出现计算上的问题，发生“舍入误差”，反而舍入为0.0\n",
    "    return (f(x+h) - f(x-h)) / (2*h)\n"
   ]
  },
  {
   "cell_type": "markdown",
   "id": "38f6acc9",
   "metadata": {
    "ExecuteTime": {
     "end_time": "2022-10-18T12:25:12.309252Z",
     "start_time": "2022-10-18T12:25:12.280585Z"
    }
   },
   "source": [
    "利用微小的差分求导数的过程称为数值微分，如以上的 numerical_diff 计算结果；--- 近似导数\n",
    "\n",
    "而基于数学式的推导求导数的过程，则用“解析性”（analytic）一词，称为“解析性求解”或者“解析性求导”。--- “真的导数”"
   ]
  },
  {
   "cell_type": "code",
   "execution_count": 136,
   "id": "e5eabda3",
   "metadata": {
    "ExecuteTime": {
     "end_time": "2022-10-18T12:26:16.024862Z",
     "start_time": "2022-10-18T12:26:15.794386Z"
    }
   },
   "outputs": [
    {
     "data": {
      "image/png": "[encoded data removed]",
      "text/plain": [
       "<Figure size 432x288 with 1 Axes>"
      ]
     },
     "metadata": {
      "needs_background": "light"
     },
     "output_type": "display_data"
    }
   ],
   "source": [
    "# 例子\n",
    "\n",
    "def function_1(x):\n",
    "    return 0.01*x**2 + 0.1*x\n",
    "\n",
    "import numpy as np\n",
    "import matplotlib.pylab as plt\n",
    "x = np.arange(0.0, 20.0, 0.1) # 以0.1为单位，从0到20的数组x\n",
    "y = function_1(x)\n",
    "plt.xlabel(\"x\")\n",
    "plt.ylabel(\"f(x)\")\n",
    "plt.plot(x, y)\n",
    "plt.show()"
   ]
  },
  {
   "cell_type": "code",
   "execution_count": 139,
   "id": "beedde99",
   "metadata": {
    "ExecuteTime": {
     "end_time": "2022-10-18T12:27:24.590988Z",
     "start_time": "2022-10-18T12:27:24.580900Z"
    }
   },
   "outputs": [
    {
     "name": "stdout",
     "output_type": "stream",
     "text": [
      "0.1999999999990898\n",
      "0.2999999999986347\n"
     ]
    }
   ],
   "source": [
    "# 计算导数\n",
    "print(numerical_diff(function_1, 5))\n",
    "print(numerical_diff(function_1, 10))\n",
    "\n",
    "#  在x = 5 和 x = 10处，通过解析解得到的“真的导数”分别为0.2和0.3。"
   ]
  },
  {
   "cell_type": "markdown",
   "id": "73b09fde",
   "metadata": {},
   "source": [
    "## 偏导数\n",
    "\n",
    "我们把多个变量的函数的导数称为偏导数。\n",
    "\n",
    "不过，偏导数需要将多个变量中的某一个变量定为目标变量，并将其他变量固定为某个值。\n",
    "\n",
    "在下例的代码中，为了将目标变量以外的变量固定到某些特定的值上，我们定义了新函数。\n",
    "\n",
    "然后，对新定义的函数应用了之前的求数值微分的函数，得到偏导数。"
   ]
  },
  {
   "cell_type": "markdown",
   "id": "69116d64",
   "metadata": {},
   "source": [
    "求某个变量x0偏导的时候，实际上和x1没有任何关系。偏导只是代表函数在某个变量上的变化情况（切线斜率）；"
   ]
  },
  {
   "cell_type": "code",
   "execution_count": 147,
   "id": "d620f825",
   "metadata": {
    "ExecuteTime": {
     "end_time": "2022-10-18T13:05:42.534971Z",
     "start_time": "2022-10-18T13:05:42.529985Z"
    }
   },
   "outputs": [],
   "source": [
    "# 多元方程式\n",
    "\n",
    "# 有两个变量x\n",
    "def function_2(x):\n",
    "    return x[0]**2 + x[1]**2 # 或者可以写成：return np.sum(x**2)\n"
   ]
  },
  {
   "cell_type": "markdown",
   "id": "d850533a",
   "metadata": {
    "ExecuteTime": {
     "end_time": "2022-10-18T12:45:12.780549Z",
     "start_time": "2022-10-18T12:45:12.769720Z"
    }
   },
   "source": [
    "问题1：求x0 = 3, x1 = 4时，关于x0的偏导数 ${{\\partial}f}\\over{{\\partial}{x_0}}$\n"
   ]
  },
  {
   "cell_type": "code",
   "execution_count": 141,
   "id": "70c1cfcc",
   "metadata": {
    "ExecuteTime": {
     "end_time": "2022-10-18T12:42:17.499464Z",
     "start_time": "2022-10-18T12:42:17.486219Z"
    }
   },
   "outputs": [
    {
     "data": {
      "text/plain": [
       "6.00000000000378"
      ]
     },
     "execution_count": 141,
     "metadata": {},
     "output_type": "execute_result"
    }
   ],
   "source": [
    "def function_tmp1(x0):\n",
    "    return x0*x0 + 4.0**2.0\n",
    "\n",
    "numerical_diff(function_tmp1, 3.0)"
   ]
  },
  {
   "cell_type": "markdown",
   "id": "e7fa3dfb",
   "metadata": {},
   "source": [
    "问题2：求x0 = 3, x1 = 4时，关于x1的偏导数 ${{\\partial}f}\\over{{\\partial}{x_1}}$\n"
   ]
  },
  {
   "cell_type": "code",
   "execution_count": 143,
   "id": "1df591ac",
   "metadata": {
    "ExecuteTime": {
     "end_time": "2022-10-18T12:49:35.020231Z",
     "start_time": "2022-10-18T12:49:35.000858Z"
    }
   },
   "outputs": [
    {
     "data": {
      "text/plain": [
       "7.999999999999119"
      ]
     },
     "execution_count": 143,
     "metadata": {},
     "output_type": "execute_result"
    }
   ],
   "source": [
    "def function_tmp2(x1):\n",
    "    return 3.0**2.0 + x1*x1\n",
    "\n",
    "numerical_diff(function_tmp2, 4.0)"
   ]
  },
  {
   "cell_type": "markdown",
   "id": "dc77c10b",
   "metadata": {
    "ExecuteTime": {
     "end_time": "2022-10-18T12:51:06.450058Z",
     "start_time": "2022-10-18T12:51:06.444702Z"
    }
   },
   "source": [
    "# 梯度\n",
    "\n",
    "在刚才的例子中，我们按变量分别计算了x0和x1的偏导数。\n",
    "\n",
    "如果将两个偏导汇总形成一个值，称为梯度。\n"
   ]
  },
  {
   "cell_type": "code",
   "execution_count": 145,
   "id": "be1a1bfd",
   "metadata": {
    "ExecuteTime": {
     "end_time": "2022-10-18T13:05:35.642639Z",
     "start_time": "2022-10-18T13:05:35.622830Z"
    }
   },
   "outputs": [],
   "source": [
    "# 梯度实现的代码\n",
    "\n",
    "def numerical_gradient(f, x):\n",
    "    h = 1e-4 # 0.0001\n",
    "    grad = np.zeros_like(x) # 生成和x形状相同的数组[0,0]，比如这里X[3,4]，说明有两个变量，则由两个方向；\n",
    "    \n",
    "    for idx in range(x.size): # 如X[3, 4], idx = 0, 1，迭代两次，分别计算两个方向的梯度值；\n",
    "        tmp_val = x[idx] # tmp_val = X[0] = 3\n",
    "        \n",
    "        # f(x+h)的计算\n",
    "        x[idx] = tmp_val + h # X[0]=3+h, X变为[3+h, 4]\n",
    "        fxh1 = f(x) # 算 [3+h, 4]对应的f\n",
    "        \n",
    "        # f(x-h)的计算\n",
    "        x[idx] = tmp_val - h # X为[3-h, 4]\n",
    "        fxh2 = f(x) # 算 [3-h, 4] 对应的f\n",
    "        grad[idx] = (fxh1 - fxh2) / (2*h) # 得到梯度\n",
    "        x[idx] = tmp_val # 还原X为[3, 4]\n",
    "    \n",
    "    return grad\n",
    "    "
   ]
  },
  {
   "cell_type": "code",
   "execution_count": 153,
   "id": "b6bfdea5",
   "metadata": {
    "ExecuteTime": {
     "end_time": "2022-10-18T13:09:26.452071Z",
     "start_time": "2022-10-18T13:09:26.441354Z"
    }
   },
   "outputs": [
    {
     "name": "stdout",
     "output_type": "stream",
     "text": [
      "[6. 8.]\n",
      "[0. 4.]\n",
      "[6. 0.]\n"
     ]
    }
   ],
   "source": [
    "# 调用\n",
    "print(numerical_gradient(function_2, np.array([3.0, 4.0])))\n",
    "print(numerical_gradient(function_2, np.array([0.0, 2.0])))\n",
    "print(numerical_gradient(function_2, np.array([3.0, 0.0])))\n",
    "\n",
    "# 梯度指示的方向是各点处的函数值减小最多的方向 A。\n"
   ]
  },
  {
   "cell_type": "code",
   "execution_count": null,
   "id": "d7d3f846",
   "metadata": {},
   "outputs": [],
   "source": [
    "# 直接整理成笔记的效率有点慢，还是先以书本和代码理解为主。\n",
    "# 后续复习的时候再整理笔记。\n",
    "# 先在书中把关键信息标记下来。\n"
   ]
  },
  {
   "cell_type": "code",
   "execution_count": 154,
   "id": "10f68679",
   "metadata": {
    "ExecuteTime": {
     "end_time": "2022-10-19T02:53:30.619594Z",
     "start_time": "2022-10-19T02:53:30.546209Z"
    }
   },
   "outputs": [],
   "source": [
    "# 梯度下降法实现\n",
    "\n",
    "def gradient_descent(f, init_x, lr=0.01, step_num=100):\n",
    "    x = init_x\n",
    "    for i in range(step_num):\n",
    "        grad = numerical_gradient(f, x) # 这里f为损失函数，损失函数是表示error与w的关系表达式，所以这里x实际是w\n",
    "        x -= lr * grad\n",
    "    return x\n",
    "\n",
    "# 参数f是要进行最优化的函数\n",
    "# init_x是初始值，\n",
    "# lr是学习率learning rate，\n",
    "# step_num是梯度法的重复次数\n",
    "\n",
    "# numerical_gradient(f,x)会求函数的梯度，用该梯度乘以学习率得到的值进行更新操作，\n",
    "#由step_num指定重复的次数。"
   ]
  },
  {
   "cell_type": "code",
   "execution_count": 155,
   "id": "de947562",
   "metadata": {
    "ExecuteTime": {
     "end_time": "2022-10-19T02:53:36.655421Z",
     "start_time": "2022-10-19T02:53:36.623749Z"
    }
   },
   "outputs": [
    {
     "data": {
      "text/plain": [
       "array([-6.11110793e-10,  8.14814391e-10])"
      ]
     },
     "execution_count": 155,
     "metadata": {},
     "output_type": "execute_result"
    }
   ],
   "source": [
    "# 问题：请用梯度法求 以下的最小值。\n",
    "\n",
    "def function_2(x):\n",
    "    return x[0]**2 + x[1]**2\n",
    "\n",
    "init_x = np.array([-3.0, 4.0])\n",
    "\n",
    "gradient_descent(function_2, init_x=init_x, lr=0.1, step_num=100)\n",
    "\n",
    "# 可见最终输出是两个极小值，趋近于(0, 0)，实际最终的结果就是(0, 0)"
   ]
  },
  {
   "cell_type": "code",
   "execution_count": 159,
   "id": "d1c7a6b3",
   "metadata": {
    "ExecuteTime": {
     "end_time": "2022-10-19T02:57:48.525624Z",
     "start_time": "2022-10-19T02:57:48.297614Z"
    }
   },
   "outputs": [
    {
     "data": {
      "image/png": "[encoded data removed]",
      "text/plain": [
       "<Figure size 432x288 with 1 Axes>"
      ]
     },
     "metadata": {
      "needs_background": "light"
     },
     "output_type": "display_data"
    }
   ],
   "source": [
    "# 所有代码 + 绘图\n",
    "\n",
    "def numerical_gradient(f, x):\n",
    "    h = 1e-4 # 0.0001\n",
    "    grad = np.zeros_like(x) # 生成和x形状相同的数组[0,0]\n",
    "    \n",
    "    for idx in range(x.size): # 如X[3, 4], idx = 0, 1\n",
    "        tmp_val = x[idx] # tmp_val = X[0] = 3\n",
    "        \n",
    "        # f(x+h)的计算\n",
    "        x[idx] = tmp_val + h # X[0]=3+h, X变为[3+h, 4]\n",
    "        fxh1 = f(x) # 算 [3+h, 4]对应的f\n",
    "        \n",
    "        # f(x-h)的计算\n",
    "        x[idx] = tmp_val - h # X为[3-h, 4]\n",
    "        fxh2 = f(x) # 算 [3-h, 4] 对应的f\n",
    "        grad[idx] = (fxh1 - fxh2) / (2*h) # 得到梯度\n",
    "        x[idx] = tmp_val # 还原X为[3, 4]\n",
    "    \n",
    "    return grad\n",
    "    \n",
    "\n",
    "def gradient_descent(f, init_x, lr=0.01, step_num=100):\n",
    "    x = init_x\n",
    "    x_history = []\n",
    "\n",
    "    for i in range(step_num):\n",
    "        x_history.append( x.copy() )\n",
    "\n",
    "        grad = numerical_gradient(f, x)\n",
    "        x -= lr * grad\n",
    "\n",
    "    return x, np.array(x_history)\n",
    "\n",
    "\n",
    "def function_2(x):\n",
    "    return x[0]**2 + x[1]**2\n",
    "\n",
    "init_x = np.array([-3.0, 4.0])    \n",
    "\n",
    "lr = 0.1\n",
    "step_num = 20\n",
    "x, x_history = gradient_descent(function_2, init_x, lr=lr, step_num=step_num)\n",
    "\n",
    "plt.plot( [-5, 5], [0,0], '--b')\n",
    "plt.plot( [0,0], [-5, 5], '--b')\n",
    "plt.plot(x_history[:,0], x_history[:,1], 'o')\n",
    "\n",
    "plt.xlim(-3.5, 3.5)\n",
    "plt.ylim(-4.5, 4.5)\n",
    "plt.xlabel(\"X0\")\n",
    "plt.ylabel(\"X1\")\n",
    "plt.show()"
   ]
  },
  {
   "cell_type": "code",
   "execution_count": 40,
   "id": "e663018b",
   "metadata": {
    "ExecuteTime": {
     "end_time": "2022-10-20T09:24:28.028678Z",
     "start_time": "2022-10-20T09:24:28.021739Z"
    }
   },
   "outputs": [],
   "source": [
    "# 简单的神经网络为例，来实现求梯度的代码\n",
    "\n",
    "import sys, os\n",
    "sys.path.append(os.pardir)\n",
    "import numpy as np\n",
    "from common.functions import softmax, cross_entropy_error\n",
    "from common.gradient import numerical_gradient\n",
    "\n",
    "\n",
    "class simpleNet:\n",
    "    \n",
    "    def __init__(self):\n",
    "        self.W = np.random.randn(2,3) # 用高斯分布进行初始化\n",
    "        \n",
    "    def predict(self, x):\n",
    "        return np.dot(x, self.W)\n",
    "    \n",
    "    def loss(self, x, t):\n",
    "        z = self.predict(x)\n",
    "        y = softmax(z)\n",
    "        print(y)\n",
    "        print(t)\n",
    "        loss = cross_entropy_error(y, t)\n",
    "        return loss\n"
   ]
  },
  {
   "cell_type": "code",
   "execution_count": 41,
   "id": "f425d960",
   "metadata": {
    "ExecuteTime": {
     "end_time": "2022-10-20T09:24:30.192277Z",
     "start_time": "2022-10-20T09:24:30.175806Z"
    }
   },
   "outputs": [
    {
     "name": "stdout",
     "output_type": "stream",
     "text": [
      "[[-0.78240672 -0.72482534  0.41793289]\n",
      " [-0.63161628 -3.13229807  0.09347381]]\n",
      "[-1.03789868 -3.25396346  0.33488616]\n"
     ]
    },
    {
     "data": {
      "text/plain": [
       "2"
      ]
     },
     "execution_count": 41,
     "metadata": {},
     "output_type": "execute_result"
    },
    {
     "name": "stdout",
     "output_type": "stream",
     "text": [
      "[0.19780974 0.02156865 0.7806216 ]\n",
      "[0 0 1]\n"
     ]
    },
    {
     "data": {
      "text/plain": [
       "0.24766461951233104"
      ]
     },
     "execution_count": 41,
     "metadata": {},
     "output_type": "execute_result"
    }
   ],
   "source": [
    "# simpleNet 简单试用\n",
    "net = simpleNet()\n",
    "print(net.W) # 权重参数\n",
    "\n",
    "x = np.array([0.6, 0.9])\n",
    "p = net.predict(x)\n",
    "print(p)\n",
    "\n",
    "np.argmax(p) # 最大值的索引\n",
    "t = np.array([0, 0, 1]) # 正确解标签\n",
    "net.loss(x, t)\n"
   ]
  },
  {
   "cell_type": "code",
   "execution_count": 44,
   "id": "fbaf36c7",
   "metadata": {
    "ExecuteTime": {
     "end_time": "2022-10-20T09:28:39.324265Z",
     "start_time": "2022-10-20T09:28:39.318164Z"
    }
   },
   "outputs": [
    {
     "data": {
      "text/plain": [
       "6"
      ]
     },
     "execution_count": 44,
     "metadata": {},
     "output_type": "execute_result"
    }
   ],
   "source": [
    "net.W"
   ]
  },
  {
   "cell_type": "code",
   "execution_count": 167,
   "id": "5b580852",
   "metadata": {
    "ExecuteTime": {
     "end_time": "2022-10-19T05:00:41.447467Z",
     "start_time": "2022-10-19T05:00:41.436947Z"
    }
   },
   "outputs": [
    {
     "name": "stdout",
     "output_type": "stream",
     "text": [
      "[[ 0.0148434   0.52709932 -0.54194272]\n",
      " [ 0.0222651   0.79064898 -0.81291408]]\n"
     ]
    }
   ],
   "source": [
    "# 求一次梯度；\n",
    "def f(W):\n",
    "    return net.loss(x, t)\n",
    "\n",
    "dW = numerical_gradient(f, net.W)\n",
    "print(dW)\n",
    "\n",
    "# 拿过来放在一起看；\n",
    "def numerical_gradient(f, x):\n",
    "    h = 1e-4 # 0.0001\n",
    "    grad = np.zeros_like(x) # 生成和x形状相同的数组[0,0]\n",
    "    \n",
    "    for idx in range(x.size): # 如X[3, 4], idx = 0, 1\n",
    "        tmp_val = x[idx] # tmp_val = X[0] = 3\n",
    "        \n",
    "        # f(x+h)的计算\n",
    "        x[idx] = tmp_val + h # X[0]=3+h, X变为[3+h, 4]\n",
    "        fxh1 = f(x) # 算 [3+h, 4]对应的f\n",
    "        \n",
    "        # f(x-h)的计算\n",
    "        x[idx] = tmp_val - h # X为[3-h, 4]\n",
    "        fxh2 = f(x) # 算 [3-h, 4] 对应的f\n",
    "        grad[idx] = (fxh1 - fxh2) / (2*h) # 得到梯度\n",
    "        x[idx] = tmp_val # 还原X为[3, 4]\n",
    "    \n",
    "    return grad"
   ]
  },
  {
   "cell_type": "code",
   "execution_count": null,
   "id": "59365bf0",
   "metadata": {},
   "outputs": [],
   "source": [
    "# 如果将w11增加h，那么损失函数的值会增加0.0148434h\n",
    "# 如果将w23增加h，损失函数的值将减小0.81291408h\n",
    "\n",
    "# 因此，w23应向正方向更新，w11应向负方向更新。"
   ]
  },
  {
   "cell_type": "code",
   "execution_count": 169,
   "id": "2e870bf1",
   "metadata": {
    "ExecuteTime": {
     "end_time": "2022-10-19T05:10:29.968000Z",
     "start_time": "2022-10-19T05:10:29.959401Z"
    }
   },
   "outputs": [
    {
     "name": "stdout",
     "output_type": "stream",
     "text": [
      "[[ 0.0148434   0.52709932 -0.54194272]\n",
      " [ 0.0222651   0.79064898 -0.81291408]]\n"
     ]
    }
   ],
   "source": [
    "# 使用匿名函数\n",
    "f = lambda w: net.loss(x, t)\n",
    "dW = numerical_gradient(f, net.W)\n",
    "print(dW)"
   ]
  },
  {
   "cell_type": "markdown",
   "id": "242c0d13",
   "metadata": {},
   "source": [
    "# 学习算法的实现"
   ]
  },
  {
   "cell_type": "markdown",
   "id": "e2b1534b",
   "metadata": {
    "ExecuteTime": {
     "end_time": "2022-12-16T00:43:28.966944Z",
     "start_time": "2022-12-16T00:43:28.957771Z"
    }
   },
   "source": [
    "**前提**\n",
    "\n",
    "神经网络存在合适的权重和偏置，调整权重和偏置以便拟合训练数据的过程称为“学习”。神经网络的学习分成下面4个步骤。\n",
    "\n",
    "**步骤1（mini-batch）**\n",
    "- 从训练数据中随机选出一部分数据，这部分数据称为mini-batch。我们的**目标是减小mini-batch的损失函数的值。**\n",
    "\n",
    "**步骤2（计算梯度）**\n",
    "- 为了减小mini-batch的损失函数的值，需要求出各个权重参数的梯度。\n",
    "- 梯度表示损失函数的值减小最多的方向。\n",
    "\n",
    "**步骤3（更新参数）**\n",
    "- 将权重参数沿梯度方向进行微小更新。\n",
    "\n",
    "**步骤4（重复）**\n",
    "- 重复步骤1、步骤2、步骤3。\n"
   ]
  },
  {
   "cell_type": "markdown",
   "id": "9ade31de",
   "metadata": {},
   "source": [
    "这个方法通过梯度下降法更新参数，不过因为这里使用的数据是随机选择的mini batch数据，所以又称为**随机梯度下降法（stochastic gradient descent）即 SGD**\n",
    "\n",
    "“随机”指的是“随机选择的”的意思，因此，随机梯度下降法是“对随机选择的数据进行的梯度下降法”。\n",
    "\n",
    "深度学习的很多框架中，随机梯度下降法一般由一个名为SGD的函数来实现。"
   ]
  },
  {
   "cell_type": "markdown",
   "id": "85a1162e",
   "metadata": {},
   "source": [
    "## 2层神经网络的类\n"
   ]
  },
  {
   "cell_type": "code",
   "execution_count": 4,
   "id": "18d1c825",
   "metadata": {
    "ExecuteTime": {
     "end_time": "2022-12-17T07:44:26.541736Z",
     "start_time": "2022-12-17T07:44:26.505041Z"
    }
   },
   "outputs": [],
   "source": [
    "# coding: utf-8\n",
    "import sys, os\n",
    "sys.path.append(os.pardir)  # 为了导入父目录的文件而进行的设定\n",
    "from common.functions import *\n",
    "from common.gradient import numerical_gradient\n",
    "\n",
    "class TwoLayerNet:\n",
    "\n",
    "    def __init__(self, input_size, hidden_size, output_size, weight_init_std=0.01):\n",
    "        # 初始化权重\n",
    "        self.params = {}\n",
    "        self.params['W1'] = weight_init_std * np.random.randn(input_size, hidden_size)\n",
    "        self.params['b1'] = np.zeros(hidden_size)\n",
    "        self.params['W2'] = weight_init_std * np.random.randn(hidden_size, output_size)\n",
    "        self.params['b2'] = np.zeros(output_size)\n",
    "\n",
    "    # 进行识别（推理）。参数x是图像数据\n",
    "    def predict(self, x):\n",
    "        W1, W2 = self.params['W1'], self.params['W2']\n",
    "        b1, b2 = self.params['b1'], self.params['b2']\n",
    "    \n",
    "        a1 = np.dot(x, W1) + b1\n",
    "        z1 = sigmoid(a1)\n",
    "        a2 = np.dot(z1, W2) + b2\n",
    "        y = softmax(a2)\n",
    "        \n",
    "        return y\n",
    "        \n",
    "    # x:输入数据, t:监督数据\n",
    "    def loss(self, x, t):\n",
    "        y = self.predict(x)\n",
    "        \n",
    "        return cross_entropy_error(y, t)\n",
    "    \n",
    "    def accuracy(self, x, t):\n",
    "        y = self.predict(x)\n",
    "        y = np.argmax(y, axis=1)\n",
    "        t = np.argmax(t, axis=1)\n",
    "        \n",
    "        accuracy = np.sum(y == t) / float(x.shape[0])\n",
    "        return accuracy\n",
    "        \n",
    "    # x:输入数据, t:监督数据\n",
    "    # 梯度计算方法1：使用数值微分计算参数梯度\n",
    "    def numerical_gradient(self, x, t):\n",
    "        loss_W = lambda W: self.loss(x, t)\n",
    "        \n",
    "        grads = {}\n",
    "        grads['W1'] = numerical_gradient(loss_W, self.params['W1'])\n",
    "        grads['b1'] = numerical_gradient(loss_W, self.params['b1'])\n",
    "        grads['W2'] = numerical_gradient(loss_W, self.params['W2'])\n",
    "        grads['b2'] = numerical_gradient(loss_W, self.params['b2'])\n",
    "        \n",
    "        return grads\n",
    "        \n",
    "    # 梯度计算方法2：使用误差反向传播法计算梯度，计算速度和效率更高，主要解释在第五章。这里可以先试用一下~\n",
    "    def gradient(self, x, t):\n",
    "        W1, W2 = self.params['W1'], self.params['W2']\n",
    "        b1, b2 = self.params['b1'], self.params['b2']\n",
    "        grads = {}\n",
    "        \n",
    "        batch_num = x.shape[0]\n",
    "        \n",
    "        # forward\n",
    "        a1 = np.dot(x, W1) + b1\n",
    "        z1 = sigmoid(a1)\n",
    "        a2 = np.dot(z1, W2) + b2\n",
    "        y = softmax(a2)\n",
    "        \n",
    "        # backward\n",
    "        dy = (y - t) / batch_num\n",
    "        grads['W2'] = np.dot(z1.T, dy)\n",
    "        grads['b2'] = np.sum(dy, axis=0)\n",
    "        \n",
    "        da1 = np.dot(dy, W2.T)\n",
    "        dz1 = sigmoid_grad(a1) * da1\n",
    "        grads['W1'] = np.dot(x.T, dz1)\n",
    "        grads['b1'] = np.sum(dz1, axis=0)\n",
    "\n",
    "        return grads\n",
    "\n"
   ]
  },
  {
   "cell_type": "code",
   "execution_count": 8,
   "id": "16f35f76",
   "metadata": {
    "ExecuteTime": {
     "end_time": "2022-12-17T08:04:30.024988Z",
     "start_time": "2022-12-17T08:04:30.018831Z"
    }
   },
   "outputs": [
    {
     "name": "stdout",
     "output_type": "stream",
     "text": [
      "(784, 100)\n",
      "(100,)\n",
      "(100, 10)\n",
      "(10,)\n"
     ]
    }
   ],
   "source": [
    "# 测试1：\n",
    "net = TwoLayerNet(input_size=784, hidden_size=100, output_size=10)\n",
    "print(net.params['W1'].shape) # (784, 100)\n",
    "print(net.params['b1'].shape) # (100,)\n",
    "print(net.params['W2'].shape) # (100, 10)\n",
    "print(net.params['b2'].shape) # (10,)\n"
   ]
  },
  {
   "cell_type": "code",
   "execution_count": 7,
   "id": "3c643313",
   "metadata": {
    "ExecuteTime": {
     "end_time": "2022-12-17T07:44:43.620623Z",
     "start_time": "2022-12-17T07:44:43.615447Z"
    }
   },
   "outputs": [
    {
     "data": {
      "text/plain": [
       "array([-0.00216829,  0.0007936 ,  0.01154547, -0.00216057,  0.00463651,\n",
       "       -0.01608993,  0.00305349,  0.00720603, -0.00745441,  0.00885699,\n",
       "       -0.00375359, -0.01125063,  0.00744028, -0.01886311,  0.00330644,\n",
       "       -0.00861609, -0.00227467,  0.00246719, -0.00443317,  0.01588923,\n",
       "        0.00462353, -0.00720278, -0.00475903,  0.01240101,  0.00747416,\n",
       "        0.01395534,  0.00148184, -0.00548888,  0.01372686, -0.00627899,\n",
       "       -0.00290215,  0.02020959, -0.01598951, -0.00929808,  0.00342375,\n",
       "       -0.00914613, -0.00426601,  0.00606054, -0.0043018 , -0.02116815,\n",
       "        0.00917662,  0.01011716, -0.00480541,  0.0012091 ,  0.00839355,\n",
       "        0.00402102, -0.00058397, -0.00132868, -0.00246013, -0.01172057,\n",
       "        0.01152795,  0.00067751, -0.01257577, -0.01491646, -0.0100748 ,\n",
       "       -0.0043892 , -0.00906443, -0.00531301,  0.01666604,  0.00171911,\n",
       "        0.00169038, -0.01319692, -0.00476881, -0.00337334,  0.00873629,\n",
       "        0.0038947 , -0.00627986, -0.00364007, -0.00642915,  0.01062404,\n",
       "        0.00574545, -0.01403007,  0.00496217, -0.00874044,  0.00231183,\n",
       "        0.01187996, -0.00031425, -0.00927945,  0.02340203,  0.00093821,\n",
       "        0.00939093,  0.00470621,  0.00181591, -0.01452868,  0.01340126,\n",
       "       -0.00675841,  0.0125245 , -0.00270241, -0.0116748 ,  0.00359277,\n",
       "       -0.00367252, -0.00113073, -0.01001982,  0.00909282,  0.0044787 ,\n",
       "        0.0058577 , -0.00548062,  0.00679175,  0.01699217,  0.00110777])"
      ]
     },
     "execution_count": 7,
     "metadata": {},
     "output_type": "execute_result"
    }
   ],
   "source": [
    "# 测试2：\n",
    "net.params['W1'][0]"
   ]
  },
  {
   "cell_type": "code",
   "execution_count": 10,
   "id": "8defc6fe",
   "metadata": {
    "ExecuteTime": {
     "end_time": "2022-12-17T08:05:12.237455Z",
     "start_time": "2022-12-17T08:05:12.226843Z"
    },
    "scrolled": false
   },
   "outputs": [
    {
     "data": {
      "text/plain": [
       "array([0.10217591, 0.08613637, 0.10471816, 0.09698128, 0.10537142,\n",
       "       0.09283858, 0.10422326, 0.10255708, 0.10217818, 0.10281976])"
      ]
     },
     "execution_count": 10,
     "metadata": {},
     "output_type": "execute_result"
    }
   ],
   "source": [
    "# 测试3：\n",
    "x = np.random.rand(100, 784) # 100个数，每个数像素点为784\n",
    "y = net.predict(x) # 对100个数做预测\n",
    "y[0] # 其中第一个数，与0~9数字的相似度概率为以下。（注意：因为这个数据是随机生成的，可以看到几乎每个数字概率都比较近似）\n"
   ]
  },
  {
   "cell_type": "code",
   "execution_count": 11,
   "id": "11596a67",
   "metadata": {
    "ExecuteTime": {
     "end_time": "2022-12-17T08:06:28.626594Z",
     "start_time": "2022-12-17T08:05:40.175801Z"
    }
   },
   "outputs": [
    {
     "data": {
      "text/plain": [
       "array([0.93993426, 0.27323048, 0.56886797, 0.32245466, 0.32710177,\n",
       "       0.7784457 , 0.21777548, 0.38137328, 0.92405683, 0.17050079])"
      ]
     },
     "execution_count": 11,
     "metadata": {},
     "output_type": "execute_result"
    },
    {
     "data": {
      "text/plain": [
       "(784, 100)"
      ]
     },
     "execution_count": 11,
     "metadata": {},
     "output_type": "execute_result"
    },
    {
     "data": {
      "text/plain": [
       "(100,)"
      ]
     },
     "execution_count": 11,
     "metadata": {},
     "output_type": "execute_result"
    },
    {
     "data": {
      "text/plain": [
       "(100, 10)"
      ]
     },
     "execution_count": 11,
     "metadata": {},
     "output_type": "execute_result"
    },
    {
     "data": {
      "text/plain": [
       "(10,)"
      ]
     },
     "execution_count": 11,
     "metadata": {},
     "output_type": "execute_result"
    }
   ],
   "source": [
    "# 测试4：这里计算还挺久的（预计需要40s+，macbook pro16）\n",
    "x = np.random.rand(100, 784) # 伪输入数据（100笔）\n",
    "t = np.random.rand(100, 10) # 伪正确解标签（100笔）\n",
    "t[0]\n",
    "grads = net.numerical_gradient(x, t)\n",
    "\n",
    "grads['W1'].shape # (784, 100)\n",
    "grads['b1'].shape # (100,)\n",
    "grads['W2'].shape # (100, 10)\n",
    "grads['b2'].shape # (10,)"
   ]
  },
  {
   "cell_type": "code",
   "execution_count": 12,
   "id": "7ae716df",
   "metadata": {
    "ExecuteTime": {
     "end_time": "2022-12-17T08:06:28.644816Z",
     "start_time": "2022-12-17T08:06:28.631985Z"
    }
   },
   "outputs": [
    {
     "data": {
      "text/plain": [
       "(100,)"
      ]
     },
     "execution_count": 12,
     "metadata": {},
     "output_type": "execute_result"
    },
    {
     "data": {
      "text/plain": [
       "array([-9.71643277e-05,  5.25797872e-05,  2.08116382e-04,  1.10831424e-04,\n",
       "        6.22876706e-05,  7.51264517e-05,  2.63574187e-04, -1.52594350e-04,\n",
       "        6.10625328e-06, -2.87880475e-05,  1.34774831e-04, -1.08671068e-04,\n",
       "        2.21205165e-04,  2.83279689e-04,  2.09089512e-04,  9.35860345e-05,\n",
       "        6.67625977e-05, -3.30307803e-05,  4.71787587e-05,  2.79212409e-04,\n",
       "       -7.82417020e-05,  1.99070738e-04, -1.08208997e-07,  5.36792832e-08,\n",
       "        4.03907108e-05,  4.21923785e-05, -7.30472749e-05,  5.04333197e-05,\n",
       "        2.22778274e-04,  2.92689493e-04,  2.06836910e-04,  3.69767572e-05,\n",
       "       -6.20431573e-05, -1.09334104e-04, -2.53223906e-04,  6.23804763e-05,\n",
       "       -6.32461949e-05,  8.70446426e-05, -3.06772829e-04, -1.98454673e-04,\n",
       "       -4.25438240e-05,  1.23739150e-04, -2.37801518e-04,  1.43266952e-04,\n",
       "        2.97825142e-04, -5.14560172e-06,  2.08424664e-04,  7.39389217e-06,\n",
       "       -1.28653626e-04,  5.93797389e-05, -8.32631053e-05, -8.81732487e-05,\n",
       "        2.34311022e-04, -2.81352452e-05, -7.90279864e-05,  9.76315029e-06,\n",
       "        1.42023260e-04, -1.14562984e-04, -1.05386657e-04, -1.79880373e-04,\n",
       "        6.63712729e-05,  8.82845508e-05, -7.94184718e-06, -2.28562629e-04,\n",
       "        6.59345312e-05,  8.28320190e-05, -9.59319468e-05, -5.32157651e-05,\n",
       "       -4.96940245e-05,  3.07975445e-05,  1.59259326e-04, -5.68338665e-05,\n",
       "       -4.14476142e-05, -9.34107680e-05,  4.90847163e-05, -1.32611728e-04,\n",
       "        2.72274869e-05, -1.52373592e-04, -1.04850122e-04,  2.90616320e-04,\n",
       "       -1.85924183e-04, -4.28693769e-05, -1.38302128e-04,  1.91254033e-04,\n",
       "       -2.27708938e-04, -9.10401532e-05,  5.58969737e-05,  1.17745855e-04,\n",
       "        1.31401299e-04, -1.60590778e-04,  1.33748210e-04, -1.11505822e-04,\n",
       "        1.52059587e-05,  2.47353782e-05,  1.30396196e-04, -1.15018195e-05,\n",
       "        3.67546136e-04, -1.59709601e-04, -1.53622723e-04, -1.60560234e-04])"
      ]
     },
     "execution_count": 12,
     "metadata": {},
     "output_type": "execute_result"
    }
   ],
   "source": [
    "# 测试5：\n",
    "grads['W1'][0].shape\n",
    "grads['W1'][0]\n"
   ]
  },
  {
   "cell_type": "markdown",
   "id": "e5873a84",
   "metadata": {},
   "source": [
    "## mini-batch的实现\n"
   ]
  },
  {
   "cell_type": "code",
   "execution_count": 14,
   "id": "b6547f42",
   "metadata": {
    "ExecuteTime": {
     "end_time": "2022-12-17T08:16:07.946512Z",
     "start_time": "2022-12-17T08:16:07.760120Z"
    }
   },
   "outputs": [],
   "source": [
    "import numpy as np\n",
    "from dataset.mnist import load_mnist\n",
    "from two_layer_net import TwoLayerNet\n",
    "\n",
    "# 上面的例子用的随机数生成，这里就用了mock的真实场景数据；\n",
    "(x_train, t_train), (x_test, t_test) = load_mnist(normalize=True, one_hot_label = True)\n",
    "train_loss_list = []\n",
    "\n",
    "# 超参数\n",
    "iters_num = 100 # 迭代次数\n",
    "train_size = x_train.shape[0]\n",
    "batch_size = 100\n",
    "learning_rate = 0.1\n",
    "\n",
    "network = TwoLayerNet(input_size=784, hidden_size=50, output_size=10)\n"
   ]
  },
  {
   "cell_type": "code",
   "execution_count": 17,
   "id": "3c6f9c5f",
   "metadata": {
    "ExecuteTime": {
     "end_time": "2022-12-17T08:26:21.671045Z",
     "start_time": "2022-12-17T08:26:21.548706Z"
    }
   },
   "outputs": [],
   "source": [
    "for i in range(iters_num):\n",
    "    # 获取mini-batch\n",
    "    batch_mask = np.random.choice(train_size, batch_size) # 随机取batch_size行的数据，这里取的应该是“第几行”。\n",
    "    x_batch = x_train[batch_mask]\n",
    "    t_batch = t_train[batch_mask]\n",
    "    \n",
    "    # 计算梯度\n",
    "#     grad = network.numerical_gradient(x_batch, t_batch)\n",
    "    grad = network.gradient(x_batch, t_batch) # 高速版!\n",
    "    \n",
    "    # 更新参数\n",
    "    for key in ('W1', 'b1', 'W2', 'b2'):\n",
    "        network.params[key] -= learning_rate * grad[key]\n",
    "    \n",
    "    # 记录学习过程\n",
    "    loss = network.loss(x_batch, t_batch)\n",
    "    train_loss_list.append(loss)\n",
    "    \n",
    "# 迭代100轮，用gradient速度120ms，用numerical_gradient 计算没算出来。"
   ]
  },
  {
   "cell_type": "code",
   "execution_count": 19,
   "id": "caec02f4",
   "metadata": {
    "ExecuteTime": {
     "end_time": "2022-12-17T08:27:10.241837Z",
     "start_time": "2022-12-17T08:27:10.134228Z"
    }
   },
   "outputs": [
    {
     "data": {
      "text/plain": [
       "[<matplotlib.lines.Line2D at 0x7fcad904dfa0>]"
      ]
     },
     "execution_count": 19,
     "metadata": {},
     "output_type": "execute_result"
    },
    {
     "data": {
      "image/png": "[encoded data removed]",
      "text/plain": [
       "<Figure size 432x288 with 1 Axes>"
      ]
     },
     "metadata": {
      "needs_background": "light"
     },
     "output_type": "display_data"
    }
   ],
   "source": [
    "plt.plot(train_loss_list)"
   ]
  },
  {
   "cell_type": "markdown",
   "id": "994370d1",
   "metadata": {},
   "source": [
    "## 基于测试数据的评价\n"
   ]
  },
  {
   "cell_type": "code",
   "execution_count": 21,
   "id": "e7368d1a",
   "metadata": {
    "ExecuteTime": {
     "end_time": "2022-12-17T08:48:51.237432Z",
     "start_time": "2022-12-17T08:48:51.124251Z"
    }
   },
   "outputs": [],
   "source": [
    "import numpy as np\n",
    "from dataset.mnist import load_mnist\n",
    "from two_layer_net import TwoLayerNet\n",
    "\n",
    "(x_train, t_train), (x_test, t_test) = load_mnist(normalize=True, one_hot_label = True)\n",
    "\n",
    "train_loss_list = []\n",
    "train_acc_list = []\n",
    "test_acc_list = []\n",
    "\n",
    "# 平均每个epoch（阶段）的重复次数，其实是要打印出log，每个阶段打印一次log；\n",
    "iter_per_epoch = max(train_size / batch_size, 1)\n",
    "\n",
    "# 超参数\n",
    "iters_num = 10000\n",
    "batch_size = 100\n",
    "learning_rate = 0.1\n",
    "\n",
    "network = TwoLayerNet(input_size=784, hidden_size=50, output_size=10)\n"
   ]
  },
  {
   "cell_type": "code",
   "execution_count": 22,
   "id": "41e474a8",
   "metadata": {
    "ExecuteTime": {
     "end_time": "2022-12-17T08:49:05.296244Z",
     "start_time": "2022-12-17T08:48:53.674770Z"
    }
   },
   "outputs": [
    {
     "name": "stdout",
     "output_type": "stream",
     "text": [
      "train acc, test acc | 0.09863333333333334, 0.0958\n",
      "train acc, test acc | 0.7813166666666667, 0.79\n",
      "train acc, test acc | 0.8777, 0.881\n",
      "train acc, test acc | 0.8990666666666667, 0.9019\n",
      "train acc, test acc | 0.90795, 0.9097\n",
      "train acc, test acc | 0.91285, 0.9148\n",
      "train acc, test acc | 0.9186666666666666, 0.9184\n",
      "train acc, test acc | 0.9230833333333334, 0.924\n",
      "train acc, test acc | 0.9265, 0.9273\n",
      "train acc, test acc | 0.93015, 0.931\n",
      "train acc, test acc | 0.9318166666666666, 0.9315\n",
      "train acc, test acc | 0.9361333333333334, 0.9365\n",
      "train acc, test acc | 0.93715, 0.9384\n",
      "train acc, test acc | 0.9408333333333333, 0.9391\n",
      "train acc, test acc | 0.9427166666666666, 0.9414\n",
      "train acc, test acc | 0.9446, 0.9418\n",
      "train acc, test acc | 0.9463166666666667, 0.9437\n"
     ]
    }
   ],
   "source": [
    "for i in range(iters_num):\n",
    "    # 获取mini-batch\n",
    "    batch_mask = np.random.choice(train_size, batch_size)\n",
    "    x_batch = x_train[batch_mask]\n",
    "    t_batch = t_train[batch_mask]\n",
    "    \n",
    "    # 计算梯度\n",
    "#     grad = network.numerical_gradient(x_batch, t_batch)\n",
    "    grad = network.gradient(x_batch, t_batch) # 高速版!\n",
    "    \n",
    "    # 更新参数\n",
    "    for key in ('W1', 'b1', 'W2', 'b2'):\n",
    "        network.params[key] -= learning_rate * grad[key]\n",
    "    \n",
    "    loss = network.loss(x_batch, t_batch)\n",
    "    train_loss_list.append(loss)\n",
    "    \n",
    "    # 计算每个epoch的识别精度\n",
    "    if i % iter_per_epoch == 0:\n",
    "        train_acc = network.accuracy(x_train, t_train)\n",
    "        test_acc = network.accuracy(x_test, t_test)\n",
    "        train_acc_list.append(train_acc)\n",
    "        test_acc_list.append(test_acc)\n",
    "        print(\"train acc, test acc | \" + str(train_acc) + \", \" + str(test_acc))"
   ]
  }
 ],
 "metadata": {
  "kernelspec": {
   "display_name": "Python 3",
   "language": "python",
   "name": "python3"
  },
  "language_info": {
   "codemirror_mode": {
    "name": "ipython",
    "version": 3
   },
   "file_extension": ".py",
   "mimetype": "text/x-python",
   "name": "python",
   "nbconvert_exporter": "python",
   "pygments_lexer": "ipython3",
   "version": "3.8.8"
  },
  "toc": {
   "base_numbering": 1,
   "nav_menu": {},
   "number_sections": true,
   "sideBar": true,
   "skip_h1_title": false,
   "title_cell": "Table of Contents",
   "title_sidebar": "Contents",
   "toc_cell": false,
   "toc_position": {
    "height": "calc(100% - 180px)",
    "left": "10px",
    "top": "150px",
    "width": "328.011px"
   },
   "toc_section_display": true,
   "toc_window_display": true
  }
 },
 "nbformat": 4,
 "nbformat_minor": 5
}
