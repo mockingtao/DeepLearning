{
 "cells": [
  {
   "cell_type": "code",
   "execution_count": null,
   "id": "8861f53b",
   "metadata": {},
   "outputs": [],
   "source": [
    "class SGD:\n",
    "    def __init__(self, lr=0.01):\n",
    "        self.lr = lr\n",
    "    \n",
    "    def update(self, params, grads):\n",
    "        for key in params.keys():\n",
    "            params[key] -= self.lr * grads[key]\n",
    "            \n",
    "            "
   ]
  },
  {
   "cell_type": "code",
   "execution_count": null,
   "id": "2f17e9ec",
   "metadata": {},
   "outputs": [],
   "source": [
    "# SGD的缺点"
   ]
  },
  {
   "cell_type": "code",
   "execution_count": null,
   "id": "51b72deb",
   "metadata": {},
   "outputs": [],
   "source": [
    "# Momentum\n",
    "class Momentum:\n",
    "    def __init__(self, lr=0.01, momentum=0.9):\n",
    "        self.lr = lr\n",
    "        self.momentum = momentum\n",
    "        self.v = None\n",
    "        \n",
    "    def update(self, params, grads):\n",
    "        if self.v is None:\n",
    "            self.v = {}\n",
    "            for key, val in params.items():\n",
    "                self.v[key] = np.zeros_like(val)\n",
    "                \n",
    "        for key in params.keys():\n",
    "            self.v[key] = self.momentum*self.v[key] - self.lr*grads[key]\n",
    "            params[key] += self.v[key]"
   ]
  },
  {
   "cell_type": "code",
   "execution_count": null,
   "id": "288c97c1",
   "metadata": {},
   "outputs": [],
   "source": [
    "# 　AdaGrad\n",
    "class AdaGrad:\n",
    "    def __init__(self, lr=0.01):\n",
    "        self.lr = lr\n",
    "        self.h = None\n",
    "        \n",
    "    def update(self, params, grads):\n",
    "        if self.h is None:\n",
    "            self.h = {}\n",
    "        for key, val in params.items():\n",
    "            self.h[key] = np.zeros_like(val)\n",
    "            \n",
    "    for key in params.keys():\n",
    "        self.h[key] += grads[key] * grads[key]\n",
    "        params[key] -= self.lr * grads[key] / (np.sqrt(self.h[key]) + 1e-7)\n",
    "\n",
    "        "
   ]
  },
  {
   "cell_type": "code",
   "execution_count": 5,
   "id": "995838ba",
   "metadata": {
    "ExecuteTime": {
     "end_time": "2022-11-08T00:01:31.579213Z",
     "start_time": "2022-11-08T00:01:31.559064Z"
    }
   },
   "outputs": [
    {
     "data": {
      "text/plain": [
       "(100,)"
      ]
     },
     "execution_count": 5,
     "metadata": {},
     "output_type": "execute_result"
    }
   ],
   "source": [
    "import numpy as np\n",
    "a = np.random.randn(1000, 100)\n",
    "a[0].shape"
   ]
  },
  {
   "cell_type": "code",
   "execution_count": 6,
   "id": "6b269a6e",
   "metadata": {
    "ExecuteTime": {
     "end_time": "2022-11-09T00:01:19.684130Z",
     "start_time": "2022-11-09T00:01:19.640397Z"
    }
   },
   "outputs": [
    {
     "data": {
      "text/plain": [
       "30.522977831138697"
      ]
     },
     "execution_count": 6,
     "metadata": {},
     "output_type": "execute_result"
    }
   ],
   "source": [
    "10 ** np.random.uniform(-3, 3)"
   ]
  },
  {
   "cell_type": "code",
   "execution_count": 7,
   "id": "73fb11aa",
   "metadata": {
    "ExecuteTime": {
     "end_time": "2022-11-09T00:01:26.044134Z",
     "start_time": "2022-11-09T00:01:26.032717Z"
    }
   },
   "outputs": [
    {
     "data": {
      "text/plain": [
       "1.6275064975387696"
      ]
     },
     "execution_count": 7,
     "metadata": {},
     "output_type": "execute_result"
    }
   ],
   "source": [
    "np.random.uniform(-3, 3)"
   ]
  },
  {
   "cell_type": "code",
   "execution_count": null,
   "id": "77092863",
   "metadata": {},
   "outputs": [],
   "source": []
  },
  {
   "cell_type": "code",
   "execution_count": null,
   "id": "a08d4340",
   "metadata": {},
   "outputs": [],
   "source": []
  }
 ],
 "metadata": {
  "kernelspec": {
   "display_name": "Python 3",
   "language": "python",
   "name": "python3"
  },
  "language_info": {
   "codemirror_mode": {
    "name": "ipython",
    "version": 3
   },
   "file_extension": ".py",
   "mimetype": "text/x-python",
   "name": "python",
   "nbconvert_exporter": "python",
   "pygments_lexer": "ipython3",
   "version": "3.8.8"
  }
 },
 "nbformat": 4,
 "nbformat_minor": 5
}
