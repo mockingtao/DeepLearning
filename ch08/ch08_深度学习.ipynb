{
 "cells": [
  {
   "cell_type": "code",
   "execution_count": 1,
   "id": "525f464c",
   "metadata": {
    "ExecuteTime": {
     "end_time": "2023-01-05T01:42:31.256103Z",
     "start_time": "2023-01-05T01:42:29.981452Z"
    }
   },
   "outputs": [],
   "source": [
    "import numpy as np\n",
    "import matplotlib.pylab as plt\n",
    "import pickle\n",
    "\n",
    "from IPython.core.interactiveshell import InteractiveShell \n",
    "InteractiveShell.ast_node_interactivity = \"all\""
   ]
  },
  {
   "cell_type": "markdown",
   "id": "ce051935",
   "metadata": {},
   "source": [
    "深度学习是加深了层的深度神经网络。基于之前介绍的网络，只需通过叠加层，就可以创建深度网络。"
   ]
  },
  {
   "cell_type": "markdown",
   "id": "f2906888",
   "metadata": {},
   "source": [
    "# 总结\n",
    "\n",
    "本章所学的内容\n",
    "- 对于大多数的问题，都可以期待通过加深网络来提高性能。\n",
    "- 在最近的图像识别大赛ILSVRC中，基于深度学习的方法独占鳌头，使用的网络也在深化。\n",
    "- VGG、GoogLeNet、ResNet等是几个著名的网络。\n",
    "- 基于GPU、分布式学习、位数精度的缩减，可以实现深度学习的高速化。\n",
    "- 深度学习（神经网络）不仅可以用于物体识别，还可以用于物体检测、图像分割。\n",
    "- 深度学习的应用包括图像标题的生成、图像的生成、强化学习等。最近，深度学习在自动驾驶上的应用也备受期待。"
   ]
  },
  {
   "cell_type": "markdown",
   "id": "6c8d5b06",
   "metadata": {},
   "source": [
    "**对这些层的功能回忆：**\n",
    "1. Conv（卷积层）：卷积层可以保持形状不变。当输入数据是图像时，卷积层会以3维数据的形式接收输入数据，并同样以3维数据的形式输出至下一层。因此，在CNN中，可以（有可能）正确理解图像等具有形状的数据。\n",
    "2. ReLU（激活函数层）：会将输入信号的总和转换为输出信号，这种函数一般称为激活函数。\n",
    "3. Pool（池化层）：缩小空间大小，因为卷积层会扩大大小；\n",
    "4. Affine(全连接层)：为了计算加权信号的总和，使用了矩阵的乘积运算\n",
    "5. Dropout(避免过拟合)：Dropout是一种在学习的过程中随机删除神经元的方法。训练时，随机选出隐藏层的神经元，然后将其删除。被删除的神经元不再进行信号的传递，这样可以抑制过拟合。\n",
    "6. Softmax(输出正规化层)：softmax函数会将输入值正规化之后再输出。"
   ]
  },
  {
   "cell_type": "code",
   "execution_count": null,
   "id": "a56dcd8f",
   "metadata": {},
   "outputs": [],
   "source": []
  },
  {
   "cell_type": "code",
   "execution_count": null,
   "id": "c5d7b1db",
   "metadata": {},
   "outputs": [],
   "source": []
  },
  {
   "cell_type": "code",
   "execution_count": null,
   "id": "619200e0",
   "metadata": {},
   "outputs": [],
   "source": []
  },
  {
   "cell_type": "code",
   "execution_count": null,
   "id": "80f60340",
   "metadata": {},
   "outputs": [],
   "source": []
  },
  {
   "cell_type": "code",
   "execution_count": null,
   "id": "d773e5d0",
   "metadata": {},
   "outputs": [],
   "source": []
  },
  {
   "cell_type": "code",
   "execution_count": null,
   "id": "22adf4fd",
   "metadata": {},
   "outputs": [],
   "source": []
  },
  {
   "cell_type": "code",
   "execution_count": null,
   "id": "509b29e5",
   "metadata": {},
   "outputs": [],
   "source": []
  },
  {
   "cell_type": "code",
   "execution_count": null,
   "id": "8ee06136",
   "metadata": {},
   "outputs": [],
   "source": []
  }
 ],
 "metadata": {
  "kernelspec": {
   "display_name": "Python 3",
   "language": "python",
   "name": "python3"
  },
  "language_info": {
   "codemirror_mode": {
    "name": "ipython",
    "version": 3
   },
   "file_extension": ".py",
   "mimetype": "text/x-python",
   "name": "python",
   "nbconvert_exporter": "python",
   "pygments_lexer": "ipython3",
   "version": "3.8.8"
  },
  "toc": {
   "base_numbering": 1,
   "nav_menu": {},
   "number_sections": true,
   "sideBar": true,
   "skip_h1_title": false,
   "title_cell": "Table of Contents",
   "title_sidebar": "Contents",
   "toc_cell": false,
   "toc_position": {},
   "toc_section_display": true,
   "toc_window_display": false
  }
 },
 "nbformat": 4,
 "nbformat_minor": 5
}
