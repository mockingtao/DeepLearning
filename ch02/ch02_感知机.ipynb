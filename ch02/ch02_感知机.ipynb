{
 "cells": [
  {
   "cell_type": "code",
   "execution_count": 18,
   "id": "aafc0fdb",
   "metadata": {
    "ExecuteTime": {
     "end_time": "2022-11-22T14:51:02.283162Z",
     "start_time": "2022-11-22T14:51:00.123175Z"
    }
   },
   "outputs": [],
   "source": [
    "from IPython.core.interactiveshell import InteractiveShell \n",
    "InteractiveShell.ast_node_interactivity = \"all\"\n",
    "\n",
    "import numpy as np"
   ]
  },
  {
   "cell_type": "markdown",
   "id": "98d341f7",
   "metadata": {},
   "source": [
    "# 感知机简介"
   ]
  },
  {
   "cell_type": "markdown",
   "id": "5a2bef1e",
   "metadata": {},
   "source": [
    "感知机接收多个输入信号，输出一个信号。\n",
    "\n",
    "这里所说的“信号”可以想象成电流或河流那样具备“流动性”的东西。像电流流过导线，向前方输送电子一样，感知机的信号也会形成流，向前方输送信息。\n",
    "\n",
    "但是，和实际的电流不同的是，感知机的信号只有“流/不流”（1/0）两种取值。\n",
    "\n",
    "在本书中，0对应“不传递信号”，1对应“传递信号”。"
   ]
  },
  {
   "cell_type": "markdown",
   "id": "faac2c92",
   "metadata": {
    "ExecuteTime": {
     "end_time": "2022-11-22T13:57:22.073647Z",
     "start_time": "2022-11-22T13:57:22.048398Z"
    }
   },
   "source": [
    "<img src=\"img/2_1.png\" alt=\"Drawing\" style=\"width: 500px;\"/>\n",
    "\n",
    "- x1、x2是输入信号\n",
    "- y是输出信号，\n",
    "- w1、w2是权重（w是weight的首字母）。\n",
    "- 图中的○称为“神经元”或者“节点”。输入信号被送往神经元时，会被分别乘以固定的权重（w1x1、w2x2）。\n",
    "- 神经元会计算传送过来的信号的总和，只有当这个总和超过了某个界限值时，才会输出1。这也称为“神经元被激活”。\n"
   ]
  },
  {
   "cell_type": "markdown",
   "id": "a7cb57f0",
   "metadata": {
    "ExecuteTime": {
     "end_time": "2022-11-22T14:02:12.445114Z",
     "start_time": "2022-11-22T14:02:12.428143Z"
    }
   },
   "source": [
    "<img src=\"img/formula_2_1.png\" alt=\"Drawing\" style=\"width: 500px;\"/>\n",
    "\n",
    "感知机的多个输入信号都有各自固有的权重，这些权重发挥着控制各个\n",
    "信号的重要性的作用。也就是说，权重越大，对应该权重的信号的重要性就\n",
    "越高。"
   ]
  },
  {
   "cell_type": "markdown",
   "id": "ccce1adc",
   "metadata": {},
   "source": [
    "# 简单逻辑电路&实现"
   ]
  },
  {
   "cell_type": "markdown",
   "id": "eb28f64c",
   "metadata": {},
   "source": [
    "## 与门\n",
    "与门是有两个输入和一个输出的门电路。如真值表：\n",
    "\n",
    "<img src=\"img/2_2.png\" alt=\"Drawing\" style=\"width: 500px;\"/>\n",
    "\n",
    "实际上，满足图2-2的条件的参数的选择方法有无数多个。比如，当\n",
    "(w1, w2, θ) = (0.5, 0.5, 0.7) 时，可以满足图 2-2 的条件。此外，当 (w1, w2, θ) 为(0.5, 0.5, 0.8)或者(1.0, 1.0, 1.0)时，同样也满足与门的条件。"
   ]
  },
  {
   "cell_type": "code",
   "execution_count": 11,
   "id": "5a0b0143",
   "metadata": {
    "ExecuteTime": {
     "end_time": "2022-11-22T14:36:51.742189Z",
     "start_time": "2022-11-22T14:36:51.671622Z"
    }
   },
   "outputs": [
    {
     "data": {
      "text/plain": [
       "0"
      ]
     },
     "execution_count": 11,
     "metadata": {},
     "output_type": "execute_result"
    },
    {
     "data": {
      "text/plain": [
       "0"
      ]
     },
     "execution_count": 11,
     "metadata": {},
     "output_type": "execute_result"
    },
    {
     "data": {
      "text/plain": [
       "0"
      ]
     },
     "execution_count": 11,
     "metadata": {},
     "output_type": "execute_result"
    },
    {
     "data": {
      "text/plain": [
       "1"
      ]
     },
     "execution_count": 11,
     "metadata": {},
     "output_type": "execute_result"
    }
   ],
   "source": [
    "# 代码实现\n",
    "def AND(x1, x2):\n",
    "    w1, w2, theta = 0.5, 0.5, 0.7\n",
    "    tmp = x1*w1 + x2*w2\n",
    "    if tmp <= theta:\n",
    "        return 0\n",
    "    elif tmp > theta:\n",
    "        return 1\n",
    "\n",
    "AND(0, 0) # 输出0\n",
    "AND(1, 0) # 输出0\n",
    "AND(0, 1) # 输出0\n",
    "AND(1, 1) # 输出1"
   ]
  },
  {
   "cell_type": "markdown",
   "id": "3cd0976c",
   "metadata": {},
   "source": [
    "## 与非门"
   ]
  },
  {
   "cell_type": "markdown",
   "id": "57e75901",
   "metadata": {
    "ExecuteTime": {
     "end_time": "2022-11-22T14:40:42.516726Z",
     "start_time": "2022-11-22T14:40:42.491645Z"
    }
   },
   "source": [
    "我们再来考虑一下与非门（NAND gate）。NAND是Not AND的意思，与非门就是颠倒了与门的输出。\n",
    "\n",
    "用真值表表示的话，如图2-3所示：\n",
    "<img src=\"img/2_3.png\" alt=\"Drawing\" style=\"width: 500px;\"/>\n",
    "\n",
    "要表示与非门，可以用(w1, w2, θ) = (−0.5, −0.5, −0.7)这样的组合（其\n",
    "他的组合也是无限存在的）。实际上，只要把实现与门的参数值的符号取反，\n",
    "就可以实现与非门。"
   ]
  },
  {
   "cell_type": "code",
   "execution_count": 23,
   "id": "3cfcef20",
   "metadata": {
    "ExecuteTime": {
     "end_time": "2022-11-22T14:58:15.553150Z",
     "start_time": "2022-11-22T14:58:15.514655Z"
    }
   },
   "outputs": [
    {
     "data": {
      "text/plain": [
       "1"
      ]
     },
     "execution_count": 23,
     "metadata": {},
     "output_type": "execute_result"
    },
    {
     "data": {
      "text/plain": [
       "1"
      ]
     },
     "execution_count": 23,
     "metadata": {},
     "output_type": "execute_result"
    },
    {
     "data": {
      "text/plain": [
       "1"
      ]
     },
     "execution_count": 23,
     "metadata": {},
     "output_type": "execute_result"
    },
    {
     "data": {
      "text/plain": [
       "0"
      ]
     },
     "execution_count": 23,
     "metadata": {},
     "output_type": "execute_result"
    }
   ],
   "source": [
    "# 代码实现\n",
    "def NAND(x1, x2):\n",
    "    w1, w2, theta = -0.5, -0.5, -0.7\n",
    "    tmp = x1*w1 + x2*w2\n",
    "    if tmp <= theta:\n",
    "        return 0\n",
    "    elif tmp > theta:\n",
    "        return 1\n",
    "    \n",
    "NAND(0, 0) # 输出0\n",
    "NAND(1, 0) # 输出0\n",
    "NAND(0, 1) # 输出0\n",
    "NAND(1, 1) # 输出1"
   ]
  },
  {
   "cell_type": "markdown",
   "id": "1aa16948",
   "metadata": {
    "ExecuteTime": {
     "end_time": "2022-11-22T13:45:40.540682Z",
     "start_time": "2022-11-22T13:45:40.530306Z"
    }
   },
   "source": [
    "## 或门"
   ]
  },
  {
   "cell_type": "markdown",
   "id": "535ea127",
   "metadata": {
    "ExecuteTime": {
     "end_time": "2022-11-22T14:46:27.209552Z",
     "start_time": "2022-11-22T14:46:27.188799Z"
    }
   },
   "source": [
    "或门是“只要有一个输入信号是1，输出就为1”的逻辑电路。\n",
    "\n",
    "<img src=\"img/2_3.png\" alt=\"Drawing\" style=\"width: 500px;\"/>\n",
    "\n",
    "那么我们来思考一下，应该为这个或门设定什么样的参数呢？"
   ]
  },
  {
   "cell_type": "markdown",
   "id": "bb767873",
   "metadata": {},
   "source": [
    "## 导入权重和偏置&实现"
   ]
  },
  {
   "cell_type": "markdown",
   "id": "1263208e",
   "metadata": {
    "ExecuteTime": {
     "end_time": "2022-11-22T14:49:20.209602Z",
     "start_time": "2022-11-22T14:49:20.191649Z"
    }
   },
   "source": [
    "\n",
    "\n",
    "<img src=\"img/formula_2_2.png\" alt=\"Drawing\" style=\"width: 500px;\"/>\n",
    "\n",
    "此处，b称为偏置，w1和w2称为权重。如式（2.2）所示，感知机会计算输入\n",
    "信号和权重的乘积，然后加上偏置，如果这个值大于0则输出1，否则输出0。\n"
   ]
  },
  {
   "cell_type": "markdown",
   "id": "112e2fe6",
   "metadata": {},
   "source": [
    "但是请注意，偏置和权重w1、w2的作用是不\n",
    "一样的。具体地说，w1和w2是控制输入信号的重要性的参数，而偏置是调\n",
    "整神经元被激活的容易程度（输出信号为1的程度）的参数。\n",
    "\n",
    "比如，下面的例子：\n",
    "若b为 −0.1，则只要输入信号的加权总和超过0.1，神经元就会被激活。但是如果b 为−20.0，则输入信号的加权总和必须超过20.0，神经元才会被激活。像这样，\n",
    "偏置的值决定了神经元被激活的容易程度。"
   ]
  },
  {
   "cell_type": "markdown",
   "id": "6adcf5d8",
   "metadata": {},
   "source": [
    "### 与门 + 偏置 + numpy"
   ]
  },
  {
   "cell_type": "code",
   "execution_count": 19,
   "id": "ed8d75ae",
   "metadata": {
    "ExecuteTime": {
     "end_time": "2022-11-22T14:51:05.788507Z",
     "start_time": "2022-11-22T14:51:05.760713Z"
    }
   },
   "outputs": [
    {
     "data": {
      "text/plain": [
       "0"
      ]
     },
     "execution_count": 19,
     "metadata": {},
     "output_type": "execute_result"
    },
    {
     "data": {
      "text/plain": [
       "0"
      ]
     },
     "execution_count": 19,
     "metadata": {},
     "output_type": "execute_result"
    },
    {
     "data": {
      "text/plain": [
       "0"
      ]
     },
     "execution_count": 19,
     "metadata": {},
     "output_type": "execute_result"
    },
    {
     "data": {
      "text/plain": [
       "1"
      ]
     },
     "execution_count": 19,
     "metadata": {},
     "output_type": "execute_result"
    }
   ],
   "source": [
    "def AND(x1, x2):\n",
    "    x = np.array([x1, x2])\n",
    "    w = np.array([0.5, 0.5])\n",
    "    b = -0.7\n",
    "    tmp = np.sum(w*x) + b\n",
    "    if tmp <= 0:\n",
    "        return 0\n",
    "    else:\n",
    "        return 1\n",
    "    \n",
    "AND(0, 0) # 输出0\n",
    "AND(1, 0) # 输出0\n",
    "AND(0, 1) # 输出0\n",
    "AND(1, 1) # 输出1"
   ]
  },
  {
   "cell_type": "markdown",
   "id": "027cfaf2",
   "metadata": {},
   "source": [
    "### 与非门 + 偏置 + numpy"
   ]
  },
  {
   "cell_type": "code",
   "execution_count": 20,
   "id": "bf51f5b9",
   "metadata": {
    "ExecuteTime": {
     "end_time": "2022-11-22T14:55:19.643097Z",
     "start_time": "2022-11-22T14:55:19.573454Z"
    }
   },
   "outputs": [
    {
     "data": {
      "text/plain": [
       "1"
      ]
     },
     "execution_count": 20,
     "metadata": {},
     "output_type": "execute_result"
    },
    {
     "data": {
      "text/plain": [
       "1"
      ]
     },
     "execution_count": 20,
     "metadata": {},
     "output_type": "execute_result"
    },
    {
     "data": {
      "text/plain": [
       "1"
      ]
     },
     "execution_count": 20,
     "metadata": {},
     "output_type": "execute_result"
    },
    {
     "data": {
      "text/plain": [
       "0"
      ]
     },
     "execution_count": 20,
     "metadata": {},
     "output_type": "execute_result"
    }
   ],
   "source": [
    "def NAND(x1, x2):\n",
    "    x = np.array([x1, x2])\n",
    "    w = np.array([-0.5, -0.5]) # 仅权重和偏置与AND不同！\n",
    "    b = 0.7\n",
    "    tmp = np.sum(w*x) + b\n",
    "    if tmp <= 0:\n",
    "        return 0\n",
    "    else:\n",
    "        return 1\n",
    "    \n",
    "NAND(0, 0) # 输出1\n",
    "NAND(1, 0) # 输出1\n",
    "NAND(0, 1) # 输出1\n",
    "NAND(1, 1) # 输出0"
   ]
  },
  {
   "cell_type": "markdown",
   "id": "68003e70",
   "metadata": {},
   "source": [
    "### 或门 + 偏置 + numpy"
   ]
  },
  {
   "cell_type": "code",
   "execution_count": 22,
   "id": "23197f45",
   "metadata": {
    "ExecuteTime": {
     "end_time": "2022-11-22T14:57:00.689137Z",
     "start_time": "2022-11-22T14:57:00.667748Z"
    }
   },
   "outputs": [
    {
     "data": {
      "text/plain": [
       "0"
      ]
     },
     "execution_count": 22,
     "metadata": {},
     "output_type": "execute_result"
    },
    {
     "data": {
      "text/plain": [
       "1"
      ]
     },
     "execution_count": 22,
     "metadata": {},
     "output_type": "execute_result"
    },
    {
     "data": {
      "text/plain": [
       "1"
      ]
     },
     "execution_count": 22,
     "metadata": {},
     "output_type": "execute_result"
    },
    {
     "data": {
      "text/plain": [
       "1"
      ]
     },
     "execution_count": 22,
     "metadata": {},
     "output_type": "execute_result"
    }
   ],
   "source": [
    "def OR(x1, x2):\n",
    "    x = np.array([x1, x2])\n",
    "    w = np.array([0.5, 0.5]) # 仅权重和偏置与AND不同！\n",
    "    b = -0.2\n",
    "    tmp = np.sum(w*x) + b\n",
    "    if tmp <= 0:\n",
    "        return 0\n",
    "    else:\n",
    "        return 1\n",
    "\n",
    "OR(0, 0) # 输出0\n",
    "OR(1, 0) # 输出1\n",
    "OR(0, 1) # 输出1\n",
    "OR(1, 1) # 输出1"
   ]
  },
  {
   "cell_type": "markdown",
   "id": "468c90b1",
   "metadata": {},
   "source": [
    "\n",
    "# 感知机的局限：异或门"
   ]
  },
  {
   "cell_type": "markdown",
   "id": "aff5b829",
   "metadata": {},
   "source": [
    "## 异或门"
   ]
  },
  {
   "cell_type": "markdown",
   "id": "39f05552",
   "metadata": {},
   "source": [
    "异或门也被称为逻辑异或电路。如图2-5所示，仅当x1或x2中的一方为\n",
    "1时，才会输出1（“异或”是拒绝其他的意思）。\n",
    "\n",
    "<img src=\"img/2_5.png\" alt=\"Drawing\" style=\"width: 500px;\"/>\n",
    "\n",
    "感知机是无法实现这个异或门的，原因如下图：\n",
    "\n",
    "\n",
    "<img src=\"img/2_7.png\" alt=\"Drawing\" style=\"width: 500px;\"/>\n",
    "\n",
    "\n"
   ]
  },
  {
   "cell_type": "markdown",
   "id": "d563fd23",
   "metadata": {
    "ExecuteTime": {
     "end_time": "2022-11-23T00:18:37.157530Z",
     "start_time": "2022-11-23T00:18:37.133167Z"
    }
   },
   "source": [
    "## 感知机的局限：\n",
    "\n",
    "感知机的局限性就在于它只能表示由一条直线分割的空间。图2-8这样弯曲的曲线无法用感知机表示。\n",
    "\n",
    "<img src=\"img/2_8.png\" alt=\"Drawing\" style=\"width: 500px;\"/>\n",
    "\n",
    "由图2-8这样的曲线分割而成的空间称为\n",
    "非线性空间，由直线分割而成的空间称为线性空间。线性、非线性这两个术\n",
    "语在机器学习领域很常见"
   ]
  },
  {
   "cell_type": "markdown",
   "id": "1b4d3e8c",
   "metadata": {},
   "source": [
    "# 多层感知机\n",
    "\n",
    "感知机\n",
    "的绝妙之处在于它可以“叠加层”（通过叠加层来表示异或门是本节的要点）。"
   ]
  },
  {
   "cell_type": "markdown",
   "id": "108fd04e",
   "metadata": {},
   "source": [
    "## 已有门电路的组合"
   ]
  },
  {
   "cell_type": "markdown",
   "id": "ba3cd0c8",
   "metadata": {},
   "source": [
    "<img src=\"img/2_9.png\" alt=\"Drawing\" style=\"width: 500px;\"/>\n"
   ]
  },
  {
   "cell_type": "markdown",
   "id": "e1f65cda",
   "metadata": {},
   "source": [
    "感知机的局限性，严格地讲，应该是“单层感知机无法\n",
    "表示异或门”或者“单层感知机无法分离非线性空间”。接下来，我\n",
    "们将看到通过组合感知机（叠加层）就可以实现异或门。"
   ]
  },
  {
   "cell_type": "markdown",
   "id": "c4ecde7b",
   "metadata": {},
   "source": [
    "<img src=\"img/2_11.png\" alt=\"Drawing\" style=\"width: 500px;\"/>\n",
    "\n",
    "- x1和x2表示输入信号，\n",
    "- y表示输出信号。\n",
    "- x1和x2是与非门和或门的输入，\n",
    "- 而与非门和或门的输出则是与门的输入。"
   ]
  },
  {
   "cell_type": "markdown",
   "id": "b6346eb3",
   "metadata": {
    "ExecuteTime": {
     "end_time": "2022-11-23T00:27:03.581591Z",
     "start_time": "2022-11-23T00:27:03.545242Z"
    }
   },
   "source": [
    "<img src=\"img/2_12.png\" alt=\"Drawing\" style=\"width: 500px;\"/>\n"
   ]
  },
  {
   "cell_type": "markdown",
   "id": "d2e6fcc7",
   "metadata": {},
   "source": [
    "## 异或门的实现"
   ]
  },
  {
   "cell_type": "code",
   "execution_count": 26,
   "id": "ec84bfb7",
   "metadata": {
    "ExecuteTime": {
     "end_time": "2022-11-23T00:28:37.391353Z",
     "start_time": "2022-11-23T00:28:37.300853Z"
    }
   },
   "outputs": [
    {
     "data": {
      "text/plain": [
       "0"
      ]
     },
     "execution_count": 26,
     "metadata": {},
     "output_type": "execute_result"
    },
    {
     "data": {
      "text/plain": [
       "1"
      ]
     },
     "execution_count": 26,
     "metadata": {},
     "output_type": "execute_result"
    },
    {
     "data": {
      "text/plain": [
       "1"
      ]
     },
     "execution_count": 26,
     "metadata": {},
     "output_type": "execute_result"
    },
    {
     "data": {
      "text/plain": [
       "0"
      ]
     },
     "execution_count": 26,
     "metadata": {},
     "output_type": "execute_result"
    }
   ],
   "source": [
    "# 代码实现\n",
    "def XOR(x1, x2):\n",
    "    s1 = NAND(x1, x2)\n",
    "    s2 = OR(x1, x2)\n",
    "    y = AND(s1, s2)\n",
    "    return y\n",
    "\n",
    "XOR(0, 0) # 输出0\n",
    "XOR(1, 0) # 输出1\n",
    "XOR(0, 1) # 输出1\n",
    "XOR(1, 1) # 输出0"
   ]
  },
  {
   "cell_type": "markdown",
   "id": "ffae3d5c",
   "metadata": {
    "ExecuteTime": {
     "end_time": "2022-11-23T00:30:15.292698Z",
     "start_time": "2022-11-23T00:30:15.284028Z"
    }
   },
   "source": [
    "- 异或门是一种多层结构的神经网络。这里，将最左边的一列称为第0层，中间的一列称为第1层，最右边的一列称为第2层。\n",
    "- 与门、或门是单层感知机，而异或门是2层感知机。叠加了多层的感知机也称为多层感知机（multi-layered perceptron）。\n",
    "\n",
    "<img src=\"img/2_13.png\" alt=\"Drawing\" style=\"width: 500px;\"/>\n",
    "\n",
    "\n",
    "通过叠加层（加深\n",
    "层），感知机能进行更加灵活的表示。"
   ]
  },
  {
   "cell_type": "markdown",
   "id": "566e57a4",
   "metadata": {},
   "source": [
    "# 从与非门到计算机\n",
    "\n",
    "多层感知机可以实现比之前见到的电路更复杂的电路。\n",
    "\n",
    "- 比如，进行加法运算的加法器也可以用感知机实现。\n",
    "- 此外，将二进制转换为十进制的编码器、满足某些条件就输出1的电路（用于等价检验的电路）等也可以用感知机表示。\n",
    "- 实际上，使用感知机甚至可以表示计算机！\n",
    "- 《计算机系统要素：从零开始构建现代计算机》这本书论述了通过 NAND构建可运行俄罗斯方块的计算机的过程"
   ]
  },
  {
   "cell_type": "markdown",
   "id": "c25a2b11",
   "metadata": {
    "ExecuteTime": {
     "end_time": "2022-11-22T14:31:08.939477Z",
     "start_time": "2022-11-22T14:31:08.930454Z"
    }
   },
   "source": [
    "# 小结"
   ]
  },
  {
   "cell_type": "markdown",
   "id": "1349bb26",
   "metadata": {},
   "source": [
    "本章所学的内容\n",
    "- 感知机是具有输入和输出的算法。给定一个输入后，将输出一个既\n",
    "定的值。\n",
    "- 感知机将权重和偏置设定为参数。\n",
    "- 使用感知机可以表示与门和或门等逻辑电路。\n",
    "- 异或门无法通过单层感知机来表示。\n",
    "- 使用2层感知机可以表示异或门。\n",
    "- 单层感知机只能表示线性空间，而多层感知机可以表示非线性空间。\n",
    "- 多层感知机（在理论上）可以表示计算机。"
   ]
  }
 ],
 "metadata": {
  "kernelspec": {
   "display_name": "Python 3",
   "language": "python",
   "name": "python3"
  },
  "language_info": {
   "codemirror_mode": {
    "name": "ipython",
    "version": 3
   },
   "file_extension": ".py",
   "mimetype": "text/x-python",
   "name": "python",
   "nbconvert_exporter": "python",
   "pygments_lexer": "ipython3",
   "version": "3.8.8"
  },
  "toc": {
   "base_numbering": 1,
   "nav_menu": {},
   "number_sections": true,
   "sideBar": true,
   "skip_h1_title": false,
   "title_cell": "Table of Contents",
   "title_sidebar": "Contents",
   "toc_cell": false,
   "toc_position": {
    "height": "calc(100% - 180px)",
    "left": "10px",
    "top": "150px",
    "width": "283px"
   },
   "toc_section_display": true,
   "toc_window_display": true
  }
 },
 "nbformat": 4,
 "nbformat_minor": 5
}
