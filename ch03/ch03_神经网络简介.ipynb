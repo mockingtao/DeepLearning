{
 "cells": [
  {
   "cell_type": "code",
   "execution_count": 4,
   "id": "08374636",
   "metadata": {
    "ExecuteTime": {
     "end_time": "2022-11-24T00:33:36.773855Z",
     "start_time": "2022-11-24T00:33:34.413444Z"
    }
   },
   "outputs": [],
   "source": [
    "import numpy as np\n",
    "import matplotlib.pylab as plt\n",
    "import pickle\n",
    "\n",
    "from IPython.core.interactiveshell import InteractiveShell \n",
    "InteractiveShell.ast_node_interactivity = \"all\""
   ]
  },
  {
   "cell_type": "markdown",
   "id": "a72fd223",
   "metadata": {},
   "source": [
    "# 从感知机到神经网络"
   ]
  },
  {
   "cell_type": "markdown",
   "id": "1b81eaa1",
   "metadata": {
    "ExecuteTime": {
     "end_time": "2022-11-24T00:08:57.927158Z",
     "start_time": "2022-11-24T00:08:57.917726Z"
    }
   },
   "source": [
    "感知机缺点：设定权重的工作，即确定合适的、能符合预期的输入与输出的权重，现在还是由人工进行的。\n",
    "\n",
    "神经网络的一个重要性质是它可以自动地从数据中学习到合适的权重参数。\n",
    "\n",
    "本章中，我们先介绍神经网络的概要，然后重点关注神经网络进行识别时的处理。在下一章中，将了解如何从数据中学习权重参数。"
   ]
  },
  {
   "cell_type": "markdown",
   "id": "40b57a60",
   "metadata": {},
   "source": [
    "<img src=\"img/3_1.png\" alt=\"Drawing\" style=\"width: 300px;\"/>\n",
    "\n",
    "- 我们把最左边的一列称为\n",
    "输入层，最右边的一列称为输出层，中间的一列称为中间层。\n",
    "- 中间层有时也称为隐藏层。“隐藏”一词的意思是，隐藏层的神经元（和输入层、输出\n",
    "层不同）肉眼看不见。\n",
    "- 本书中把输入层到输出层依次称为第0层、第\n",
    "1层、第2层（层号之所以从0开始，是为了方便后面基于Python进行实现）。"
   ]
  },
  {
   "cell_type": "markdown",
   "id": "f50fca17",
   "metadata": {
    "ExecuteTime": {
     "end_time": "2022-11-24T00:19:38.719205Z",
     "start_time": "2022-11-24T00:19:38.683603Z"
    }
   },
   "source": [
    "神经网络的形状类似上一章的感知机。实际上，就神经元的连接方式而言，与上一章的感知机并没有任何差异。\n",
    "<img src=\"img/3_2.png\" alt=\"Drawing\" style=\"width: 300px;\"/>\n",
    "\n",
    "\n",
    "那么，神经网络与感知机差异和关系式什么？神经网络中信号是如何传递的呢？\n",
    "\n",
    "简单理解:\n",
    "- 神经网络是由感知机组成，激活函数是连接感知机和神经网络的桥梁。\n",
    "- 一般而言，“朴素感知机”是指单层网络，指的是激活函数使用了阶跃函数的模型。(阶跃函数后面讲到)\n",
    "- “多层感知机”是指神经网络，即使用 sigmoid函数（后述）等平滑的激活函数的多层网络。\n",
    "\n",
    "<img src=\"img/3_4.png\" alt=\"Drawing\" style=\"width: 300px;\"/>\n",
    "\n",
    "神经元的○中明确显示了激活函数的计算过程，即信号的加权总和为节点a，然后节点a被激活函数h()转换成节点y。\n",
    "\n",
    "<img src=\"img/3_5.png\" alt=\"Drawing\" style=\"width: 300px;\"/>\n"
   ]
  },
  {
   "cell_type": "markdown",
   "id": "8206a26d",
   "metadata": {},
   "source": [
    "# 激活函数"
   ]
  },
  {
   "cell_type": "markdown",
   "id": "ab98dbd5",
   "metadata": {},
   "source": [
    "会将输入信号的总和转换为输出信号，这种函数一般称为激活函数（activation function）。\n",
    "\n",
    "如“激活”一词所示，激活函数的作用在于决定如何来激活输入信号的总和。\n",
    "\n",
    "感知机中使用了阶跃函数作为激活函数;\n",
    "\n",
    "<img src=\"img/formula_3_3.png\" alt=\"Drawing\" style=\"width: 500px;\"/>\n",
    "\n",
    "- 式（3.3）表示的激活函数以阈值为界，一旦输入超过阈值，就切换输出。\n",
    "\n",
    "\n",
    "如果将激活函数从阶跃函数换成其他函数，就可以进入神经网络的世界了。\n",
    "\n",
    "其他常见的激活函数：\n",
    "- sigmoid函数\n",
    "- ReLU函数\n",
    "\n",
    "接下来我们拉看具体的实现："
   ]
  },
  {
   "cell_type": "markdown",
   "id": "70ca9f78",
   "metadata": {},
   "source": [
    "## 阶跃函数"
   ]
  },
  {
   "cell_type": "code",
   "execution_count": 11,
   "id": "0d6ff65a",
   "metadata": {
    "ExecuteTime": {
     "end_time": "2022-11-24T00:35:48.009320Z",
     "start_time": "2022-11-24T00:35:48.002421Z"
    }
   },
   "outputs": [],
   "source": [
    "# 阶跃函数\n",
    "def step_function(x):\n",
    "    return np.array(x>0, dtype='int')"
   ]
  },
  {
   "cell_type": "code",
   "execution_count": 12,
   "id": "b3b263ca",
   "metadata": {
    "ExecuteTime": {
     "end_time": "2022-11-24T00:35:50.427147Z",
     "start_time": "2022-11-24T00:35:50.201365Z"
    },
    "scrolled": true
   },
   "outputs": [
    {
     "data": {
      "text/plain": [
       "[<matplotlib.lines.Line2D at 0x7fe6709ba6d0>]"
      ]
     },
     "execution_count": 12,
     "metadata": {},
     "output_type": "execute_result"
    },
    {
     "data": {
      "text/plain": [
       "(-0.1, 1.1)"
      ]
     },
     "execution_count": 12,
     "metadata": {},
     "output_type": "execute_result"
    },
    {
     "data": {
      "image/png": "[encoded data removed]",
      "text/plain": [
       "<Figure size 432x288 with 1 Axes>"
      ]
     },
     "metadata": {
      "needs_background": "light"
     },
     "output_type": "display_data"
    }
   ],
   "source": [
    "x = np.arange(-5.0, 5.0, 0.1)\n",
    "y = step_function(x)\n",
    "\n",
    "plt.plot(x, y)\n",
    "plt.ylim(-0.1, 1.1) # 指定y轴的范围\n",
    "plt.show()"
   ]
  },
  {
   "cell_type": "markdown",
   "id": "f3a4dab0",
   "metadata": {},
   "source": [
    "阶跃函数以0为界，输出从0切换为1（或者从1切换为0）。\n",
    "它的值呈阶梯式变化，所以称为阶跃函数。"
   ]
  },
  {
   "cell_type": "code",
   "execution_count": 13,
   "id": "5dd481a4",
   "metadata": {
    "ExecuteTime": {
     "end_time": "2022-11-24T00:36:00.282295Z",
     "start_time": "2022-11-24T00:36:00.254066Z"
    }
   },
   "outputs": [
    {
     "data": {
      "text/plain": [
       "array([-1.,  1.,  2.])"
      ]
     },
     "execution_count": 13,
     "metadata": {},
     "output_type": "execute_result"
    },
    {
     "data": {
      "text/plain": [
       "array([False,  True,  True])"
      ]
     },
     "execution_count": 13,
     "metadata": {},
     "output_type": "execute_result"
    }
   ],
   "source": [
    "x = np.array([-1.0, 1.0, 2.0])\n",
    "x\n",
    "y = x > 0\n",
    "y"
   ]
  },
  {
   "cell_type": "markdown",
   "id": "1d61d20d",
   "metadata": {},
   "source": [
    "## sigmoid函数\n",
    "\n",
    "神经网络中经常使用的一个激活函数就是sigmoid函数（sigmoid function）。\n",
    "\n",
    "公式如下：\n",
    "\n",
    "$$sigmoid =  \\frac{1}{1-e^x}$$\n",
    "\n",
    "图形如下：\n",
    "\n",
    "<img src=\"img/3_7.png\" alt=\"Drawing\" style=\"width: 300px;\"/>\n",
    "\n",
    "\n",
    "sigmoid函数的平滑性对神经网络的学习具有重要意义。\n",
    "\n",
    "向sigmoid函数输入1.0或2.0后，就会有某个值被输出，类似h(1.0) = 0.731 ...、h(2.0) = 0.880 ...这样。\n",
    "\n",
    "如下代码：np.exp()函数是求 $e^x$ 的值的函数\n"
   ]
  },
  {
   "cell_type": "code",
   "execution_count": 14,
   "id": "fa384d2c",
   "metadata": {
    "ExecuteTime": {
     "end_time": "2022-11-24T00:43:29.667973Z",
     "start_time": "2022-11-24T00:43:29.420956Z"
    }
   },
   "outputs": [
    {
     "data": {
      "text/plain": [
       "[<matplotlib.lines.Line2D at 0x7fe670a85c40>]"
      ]
     },
     "execution_count": 14,
     "metadata": {},
     "output_type": "execute_result"
    },
    {
     "data": {
      "text/plain": [
       "(-0.1, 1.1)"
      ]
     },
     "execution_count": 14,
     "metadata": {},
     "output_type": "execute_result"
    },
    {
     "data": {
      "image/png": "[encoded data removed]",
      "text/plain": [
       "<Figure size 432x288 with 1 Axes>"
      ]
     },
     "metadata": {
      "needs_background": "light"
     },
     "output_type": "display_data"
    }
   ],
   "source": [
    "def sigmoid(x):\n",
    "    return  1 / (1 + np.exp(-x)) \n",
    "\n",
    "x = np.arange(-5.0, 5.0, 0.1)\n",
    "y = sigmoid(x)\n",
    "\n",
    "plt.plot(x, y)\n",
    "plt.ylim(-0.1, 1.1) # 指定y轴的范围\n",
    "plt.show()\n"
   ]
  },
  {
   "cell_type": "markdown",
   "id": "8e30ab29",
   "metadata": {},
   "source": [
    "### sigmoid函数和阶跃函数的比较\n",
    "\n",
    "#### 区别\n",
    "1. 首先注意到的是“平滑性”的不同。sigmoid函数是一条平滑的曲线，输出随着输入发生连续性的变化。而阶跃函数以0为界，输出发生急剧性的变化;\n",
    "2. 相对于阶跃函数只能返回0或1，sigmoid函数可以返回0.731 ...、0.880 ...等实数（这一点和刚才的平滑性有关）。也就是说，感知机中神经元之间流动的是0或1的二元信号，而神经网络中流动的是连续的实数值信号;\n",
    "\n",
    "#### 共性\n",
    "1. 两者的结构均是“输入较小时，输出接近0（为0）；随着输入增大，输出向1靠近（变成1）”。也就是说，当输入信号为重要信息时，阶跃函数和sigmoid函数都会输出较大的值；当输入信号为不重要的信息时，两者都输出较小的值；\n",
    "2. 不管输入信号有多小，或者有多大，输出信号的值都在0到1之间；\n",
    "3. 两者均为非线性函数；（线性函数是一条笔直的直线。而非线性函数，顾名思义，指的是不像线性函数那样呈现出一条直线的函数。）\n",
    "\n",
    "    知识点补充：神经网络的激活函数必须使用非线性函数。换句话说，激活函数不能使\n",
    "用线性函数。为什么不能使用线性函数呢？因为使用线性函数的话，加深神\n",
    "经网络的层数就没有意义了。\n",
    "线性函数的问题在于，不管如何加深层数，总是存在与之等效的“无\n",
    "隐藏层的神经网络”。为了具体地（稍微直观地）理解这一点，我们来思\n",
    "考下面这个简单的例子。这里我们考虑把线性函数 h(x) = cx 作为激活\n",
    "函数，把y(x) = h(h(h(x)))的运算对应3层神经网络A。这个运算会进行\n",
    "y(x) = c × c × c × x的乘法运算，但是同样的处理可以由y(x) = ax（注意，\n",
    "a = c 3\n",
    "）这一次乘法运算（即没有隐藏层的神经网络）来表示。如本例所示，\n",
    "使用线性函数时，无法发挥多层网络带来的优势。因此，为了发挥叠加层所\n",
    "带来的优势，激活函数必须使用非线性函数。"
   ]
  },
  {
   "cell_type": "markdown",
   "id": "3692aaaa",
   "metadata": {},
   "source": [
    "## ReLU函数\n",
    "\n",
    "在神经网络发展的历史上，sigmoid函数很早就开始被使用了，而最近则主要使用ReLU（Rectified Linear Unit）函数。\n",
    "\n",
    "ReLU函数在输入大于0时，直接输出该值；在输入小于等于0时，输出0，如下公式：\n",
    "\n",
    "<img src=\"img/formula_3_7.png\" alt=\"Drawing\" style=\"width: 500px;\"/>\n"
   ]
  },
  {
   "cell_type": "code",
   "execution_count": 16,
   "id": "f6b96189",
   "metadata": {
    "ExecuteTime": {
     "end_time": "2022-11-24T13:41:47.896347Z",
     "start_time": "2022-11-24T13:41:47.498335Z"
    }
   },
   "outputs": [
    {
     "data": {
      "text/plain": [
       "[<matplotlib.lines.Line2D at 0x7fe670b60eb0>]"
      ]
     },
     "execution_count": 16,
     "metadata": {},
     "output_type": "execute_result"
    },
    {
     "data": {
      "text/plain": [
       "(-1.0, 5.5)"
      ]
     },
     "execution_count": 16,
     "metadata": {},
     "output_type": "execute_result"
    },
    {
     "data": {
      "image/png": "[encoded data removed]",
      "text/plain": [
       "<Figure size 432x288 with 1 Axes>"
      ]
     },
     "metadata": {
      "needs_background": "light"
     },
     "output_type": "display_data"
    }
   ],
   "source": [
    "def relu(x):\n",
    "    return np.maximum(0,x)\n",
    "\n",
    "# maximum函数会从输入的数值中选择较大的那个值进行输出。\n",
    "\n",
    "x = np.arange(-5.0, 5.0, 0.1)\n",
    "y = relu(x)\n",
    "plt.plot(x, y)\n",
    "plt.ylim(-1.0, 5.5)\n",
    "plt.show()"
   ]
  },
  {
   "cell_type": "markdown",
   "id": "d34d70c0",
   "metadata": {},
   "source": [
    "## 插播知识点：多维数组的运算"
   ]
  },
  {
   "cell_type": "markdown",
   "id": "3feaf9ed",
   "metadata": {},
   "source": [
    "如果掌握了NumPy多维数组的运算，就可以高效地实现神经网络。"
   ]
  },
  {
   "cell_type": "code",
   "execution_count": 26,
   "id": "23cf85ca",
   "metadata": {
    "ExecuteTime": {
     "end_time": "2022-10-17T08:49:00.803808Z",
     "start_time": "2022-10-17T08:49:00.794681Z"
    }
   },
   "outputs": [
    {
     "name": "stdout",
     "output_type": "stream",
     "text": [
      "1\n",
      "(4,)\n"
     ]
    }
   ],
   "source": [
    "A = np.array([1, 2, 3, 4])\n",
    "print(np.ndim(A))\n",
    "print(A.shape)"
   ]
  },
  {
   "cell_type": "code",
   "execution_count": 15,
   "id": "f0f2139e",
   "metadata": {
    "ExecuteTime": {
     "end_time": "2022-10-16T09:10:16.310184Z",
     "start_time": "2022-10-16T09:10:16.302174Z"
    }
   },
   "outputs": [
    {
     "name": "stdout",
     "output_type": "stream",
     "text": [
      "2\n",
      "(3, 2)\n"
     ]
    }
   ],
   "source": [
    "B = np.array([[1,2], [3,4], [5,6]])\n",
    "print(np.ndim(B))\n",
    "print(B.shape)"
   ]
  },
  {
   "cell_type": "code",
   "execution_count": 17,
   "id": "79a3298c",
   "metadata": {
    "ExecuteTime": {
     "end_time": "2022-10-16T09:13:10.650643Z",
     "start_time": "2022-10-16T09:13:10.641342Z"
    }
   },
   "outputs": [
    {
     "data": {
      "text/plain": [
       "array([[19, 22],\n",
       "       [43, 50]])"
      ]
     },
     "execution_count": 17,
     "metadata": {},
     "output_type": "execute_result"
    }
   ],
   "source": [
    "A = np.array([[1,2], [3,4]])\n",
    "B = np.array([[5,6], [7,8]])\n",
    "np.dot(A, B)\n",
    "\n",
    "# cc：np.dot()接收两个NumPy数组作为参数，并返回数组的乘积。\n",
    "# 这里要注意的是，np.dot(A, B)和np.dot(B, A)的值可能不一样。\n",
    "# 和一般的运算（+或*等）不同，矩阵的乘积运算中，操作数（A、 B）的顺序不同，结果也会不同。\n",
    "# 在多维数组的乘积运算中，必须使两个矩阵中的对应维度的元素个数一致，这一点很重要！"
   ]
  },
  {
   "cell_type": "markdown",
   "id": "a3379181",
   "metadata": {
    "ExecuteTime": {
     "end_time": "2022-11-24T14:02:52.525805Z",
     "start_time": "2022-11-24T14:02:52.512831Z"
    }
   },
   "source": [
    "案例：使用NumPy矩阵来实现神经网络\n",
    "\n",
    "<img src=\"img/3_14.png\" alt=\"Drawing\" style=\"width: 500px;\"/>\n"
   ]
  },
  {
   "cell_type": "code",
   "execution_count": 20,
   "id": "6882f335",
   "metadata": {
    "ExecuteTime": {
     "end_time": "2022-11-24T14:01:32.660299Z",
     "start_time": "2022-11-24T14:01:32.621394Z"
    }
   },
   "outputs": [
    {
     "data": {
      "text/plain": [
       "array([1, 2])"
      ]
     },
     "execution_count": 20,
     "metadata": {},
     "output_type": "execute_result"
    },
    {
     "data": {
      "text/plain": [
       "(2,)"
      ]
     },
     "execution_count": 20,
     "metadata": {},
     "output_type": "execute_result"
    },
    {
     "data": {
      "text/plain": [
       "array([[1, 3, 5],\n",
       "       [2, 4, 6]])"
      ]
     },
     "execution_count": 20,
     "metadata": {},
     "output_type": "execute_result"
    },
    {
     "data": {
      "text/plain": [
       "(2, 3)"
      ]
     },
     "execution_count": 20,
     "metadata": {},
     "output_type": "execute_result"
    },
    {
     "data": {
      "text/plain": [
       "array([ 5, 11, 17])"
      ]
     },
     "execution_count": 20,
     "metadata": {},
     "output_type": "execute_result"
    },
    {
     "data": {
      "text/plain": [
       "(3,)"
      ]
     },
     "execution_count": 20,
     "metadata": {},
     "output_type": "execute_result"
    }
   ],
   "source": [
    "# 神经网络的内积\n",
    "X = np.array([1, 2])\n",
    "X\n",
    "X.shape\n",
    "\n",
    "W = np.array([[1, 3, 5], [2, 4, 6]])\n",
    "W\n",
    "W.shape\n",
    "\n",
    "Y = np.dot(X, W)\n",
    "Y\n",
    "Y.shape"
   ]
  },
  {
   "cell_type": "markdown",
   "id": "8b76fb14",
   "metadata": {},
   "source": [
    "# 3层神经网络的实现\n",
    "\n",
    "先快速了解以下符号表示：\n",
    "\n",
    "<img src=\"img/3_16.png\" alt=\"Drawing\" style=\"width: 300px;\"/>\n",
    "\n",
    "- 权重和隐藏层的神经元的右上角有一个“(1)”，它表示权重和神经元的层号（即第1层的权重、第1层的神经元）。\n",
    "- 权重的右下角有两个数字，\n",
    "    - 第一个数字：后一层的神经元的索引号\n",
    "    - 第二个数据：前一层的神经元的索引号\n"
   ]
  },
  {
   "cell_type": "markdown",
   "id": "98a6a97a",
   "metadata": {},
   "source": [
    "这里我们以图3-15的3层神经网络为对象，实现从输入到输出的（前向）处理。如图：\n",
    "\n",
    "<img src=\"img/3_15.png\" alt=\"Drawing\" style=\"width: 300px;\"/>\n",
    "\n"
   ]
  },
  {
   "cell_type": "markdown",
   "id": "53698308",
   "metadata": {
    "ExecuteTime": {
     "end_time": "2022-11-24T14:11:50.757033Z",
     "start_time": "2022-11-24T14:11:50.730860Z"
    }
   },
   "source": [
    "## 从输入层到第1层的信号传递\n",
    "\n",
    "<img src=\"img/3_17.png\" alt=\"Drawing\" style=\"width: 300px;\"/> \n",
    "\n",
    "考虑激活函数的表示：\n",
    "\n",
    "<img src=\"img/3_18.png\" alt=\"Drawing\" style=\"width: 300px;\"/>\n",
    "\n",
    "\n"
   ]
  },
  {
   "cell_type": "code",
   "execution_count": 27,
   "id": "177b5c0f",
   "metadata": {
    "ExecuteTime": {
     "end_time": "2022-11-24T14:18:22.554902Z",
     "start_time": "2022-11-24T14:18:22.545655Z"
    }
   },
   "outputs": [
    {
     "name": "stdout",
     "output_type": "stream",
     "text": [
      "(2, 3)\n",
      "(2,)\n",
      "(3,)\n",
      "[0.3 0.7 1.1]\n",
      "[0.57444252 0.66818777 0.75026011]\n"
     ]
    }
   ],
   "source": [
    "# 用NumPy多维数组来实现式\n",
    "X = np.array([1.0, 0.5])\n",
    "W1 = np.array([[0.1, 0.3, 0.5], [0.2, 0.4, 0.6]])\n",
    "B1 = np.array([0.1, 0.2, 0.3])\n",
    "\n",
    "print(W1.shape) # (2, 3)\n",
    "print(X.shape) # (2,)\n",
    "print(B1.shape) # (3,)\n",
    "\n",
    "A1 = np.dot(X, W1) + B1\n",
    "print(A1) # [0.3, 0.7, 1.1]\n",
    "\n",
    "# 第1层中激活函数的计算过程\n",
    "Z1 = sigmoid(A1)\n",
    "print(Z1) # [0.57444252, 0.66818777, 0.75026011]\n"
   ]
  },
  {
   "cell_type": "markdown",
   "id": "5fd5692d",
   "metadata": {},
   "source": [
    "## 第1层到第2层的信号传递\n",
    "\n",
    "<img src=\"img/3_19.png\" alt=\"Drawing\" style=\"width: 300px;\"/>\n"
   ]
  },
  {
   "cell_type": "code",
   "execution_count": 29,
   "id": "b277a72f",
   "metadata": {
    "ExecuteTime": {
     "end_time": "2022-11-24T14:23:07.858033Z",
     "start_time": "2022-11-24T14:23:07.847331Z"
    }
   },
   "outputs": [
    {
     "name": "stdout",
     "output_type": "stream",
     "text": [
      "(3,)\n",
      "(3, 2)\n",
      "(2,)\n",
      "[0.51615984 1.21402696]\n",
      "[0.62624937 0.7710107 ]\n"
     ]
    }
   ],
   "source": [
    "# 这个实现和刚才的代码完全相同。\n",
    "# 由此可知，通过使用NumPy数组，可以将层到层的信号传递过程简单地写出来。\n",
    "\n",
    "W2 = np.array([[0.1, 0.4], [0.2, 0.5], [0.3, 0.6]])\n",
    "B2 = np.array([0.1, 0.2])\n",
    "print(Z1.shape) # (3,)\n",
    "print(W2.shape) # (3, 2)\n",
    "print(B2.shape) # (2,)\n",
    "\n",
    "A2 = np.dot(Z1, W2) + B2\n",
    "print(A2)\n",
    "Z2 = sigmoid(A2)\n",
    "print(Z2)"
   ]
  },
  {
   "cell_type": "markdown",
   "id": "8eab75b5",
   "metadata": {},
   "source": [
    "## 从第2层到输出层的信号传递\n",
    "\n",
    "\n",
    "<img src=\"img/3_20.png\" alt=\"Drawing\" style=\"width: 300px;\"/>\n",
    "\n",
    "输出层的实现也和之前的实现基本相同。不过，最后的激活函数和之前的隐藏层有所不同。\n",
    "\n",
    "\n",
    "这里我们定义了identity_function()函数（也称为“恒等函数”），并将其作为输出层的激活函数。\n",
    "恒等函数会将输入按原样输出，因此，这个例子中没有必要特意定义identity_function()。这里这样实现只是为了和之前的流程保持统一。\n",
    "\n",
    "另外，图3-20中，输出层的激活函数用σ()表示，不同于隐\n",
    "藏层的激活函数h()（σ读作sigma）。"
   ]
  },
  {
   "cell_type": "code",
   "execution_count": 30,
   "id": "5e442009",
   "metadata": {
    "ExecuteTime": {
     "end_time": "2022-11-24T14:28:25.743316Z",
     "start_time": "2022-11-24T14:28:25.727711Z"
    }
   },
   "outputs": [
    {
     "name": "stdout",
     "output_type": "stream",
     "text": [
      "[0.31682708 0.69627909]\n",
      "[0.31682708 0.69627909]\n"
     ]
    }
   ],
   "source": [
    "def identity_function(x):\n",
    "    return x\n",
    "\n",
    "W3 = np.array([[0.1, 0.3], [0.2, 0.4]])\n",
    "B3 = np.array([0.1, 0.2])\n",
    "A3 = np.dot(Z2, W3) + B3\n",
    "print(A3)\n",
    "Y = identity_function(A3) # 或者Y = A3\n",
    "print(Y)\n"
   ]
  },
  {
   "cell_type": "markdown",
   "id": "bf05bb88",
   "metadata": {},
   "source": [
    "## 代码实现汇总"
   ]
  },
  {
   "cell_type": "code",
   "execution_count": 31,
   "id": "a525b39d",
   "metadata": {
    "ExecuteTime": {
     "end_time": "2022-11-24T14:32:04.102087Z",
     "start_time": "2022-11-24T14:32:04.074314Z"
    }
   },
   "outputs": [
    {
     "name": "stdout",
     "output_type": "stream",
     "text": [
      "[0.31682708 0.69627909]\n"
     ]
    }
   ],
   "source": [
    "# 权重和偏置的初始化，并将它们保存在字典变量network中。\n",
    "def init_network():\n",
    "    network = {}\n",
    "    network['W1'] = np.array([[0.1, 0.3, 0.5], [0.2, 0.4, 0.6]])\n",
    "    network['b1'] = np.array([0.1, 0.2, 0.3])\n",
    "    network['W2'] = np.array([[0.1, 0.4], [0.2, 0.5], [0.3, 0.6]])\n",
    "    network['b2'] = np.array([0.1, 0.2])\n",
    "    network['W3'] = np.array([[0.1, 0.3], [0.2, 0.4]])\n",
    "    network['b3'] = np.array([0.1, 0.2])\n",
    "    return network\n",
    "\n",
    "# 定义恒等函数\n",
    "def identity_function(x):\n",
    "    return x\n",
    "\n",
    "# 封装了将输入信号转换为输出信号的处理过程。\n",
    "def forward(network, x):\n",
    "    W1, W2, W3 = network['W1'], network['W2'], network['W3']\n",
    "    b1, b2, b3 = network['b1'], network['b2'], network['b3']\n",
    "    a1 = np.dot(x, W1) + b1\n",
    "    z1 = sigmoid(a1)\n",
    "    a2 = np.dot(z1, W2) + b2\n",
    "    z2 = sigmoid(a2)\n",
    "    a3 = np.dot(z2, W3) + b3\n",
    "    y = identity_function(a3)\n",
    "    return y\n",
    "\n",
    "# 调用函数\n",
    "network = init_network()\n",
    "x = np.array([1.0, 0.5])\n",
    "y = forward(network, x)\n",
    "print(y) # [ 0.31682708 0.69627909]"
   ]
  },
  {
   "cell_type": "markdown",
   "id": "fa332ea1",
   "metadata": {},
   "source": [
    "总结一下思路，每一层有两个步骤计算：\n",
    "1. 先做线性计算；\n",
    "2. 再做激活函数计算；（在最后的输出层，这里暂时使用了恒定函数，后面还有其他函数）"
   ]
  },
  {
   "cell_type": "markdown",
   "id": "05032429",
   "metadata": {},
   "source": [
    "# 输出层的设计\n",
    "\n",
    "神经网络可以用在分类问题和回归问题上，不过需要根据情况改变输出层的激活函数。\n",
    "\n",
    "一般而言，回归问题用恒等函数，分类问题用softmax函数。\n",
    "\n",
    "恒等函数不用多说了，在输出层使用恒等函数时，输入信号会原封不动地被输出。在上面代码我们也见到过。这里主要来介绍softmax函数"
   ]
  },
  {
   "cell_type": "markdown",
   "id": "20a3f31b",
   "metadata": {},
   "source": [
    "## softmax 函数\n",
    "公式：\n",
    "\n",
    "<img src=\"img/formula_3_10.png\" alt=\"Drawing\" style=\"width: 500px;\"/>\n",
    "\n",
    "- ak就是经过点积之后最后要output的值，在output之前需要经过softmax函数的处理；\n",
    "- exp(x)是表示ex的指数函数（e是纳皮尔常数2.7182 ...）。\n",
    "- 公式表示假设输出层共有n个神经元，计算第k个神经元的输出yk。\n",
    "- 如公所示，softmax函数的分子是输入信号ak的指数函数，分母是所有输入信号的指数函数的和。\n",
    "    - （其实简单理解就是每个分类的占比，总和为1）\n",
    "    \n",
    "- 如下图：softmax函数的输出通过箭头与所有的输入信号相连\n",
    "    \n",
    "<img src=\"img/3_22.png\" alt=\"Drawing\" style=\"width: 500px;\"/>\n",
    "\n",
    "\n",
    "**softmax 函数的意义/目的**\n",
    "1. 输出y 加总之后和为1。。。。，这是为了归一化？？？\n",
    "2. 可能和求导有关。。。\n",
    "\n",
    "**softmax 函数的特性**\n",
    "1. softmax函数的输出是0.0到1.0之间的实数。并且，softmax 函数的输出值的总和是1。因为有了这个性质，我们才可以把softmax函数的输出解释为“概率”。\n",
    "2. 各个元素之间的大小关系也不会改变。这是因为指数函数（y = exp(x)）是单调递增函数。比如，a的最大值是第2个元素，y的最大值也仍是第2个元素。神经网络只把输出值最大的神经元所对应的类别作为识别结果。\n"
   ]
  },
  {
   "cell_type": "code",
   "execution_count": 32,
   "id": "a20971e5",
   "metadata": {
    "ExecuteTime": {
     "end_time": "2022-11-25T00:26:37.229711Z",
     "start_time": "2022-11-25T00:26:37.186745Z"
    }
   },
   "outputs": [
    {
     "name": "stdout",
     "output_type": "stream",
     "text": [
      "[ 1.34985881 18.17414537 54.59815003]\n",
      "74.1221542101633\n",
      "[0.01821127 0.24519181 0.73659691]\n"
     ]
    }
   ],
   "source": [
    "# softmax 内部实现测试\n",
    "a = np.array([0.3, 2.9, 4.0])\n",
    "exp_a = np.exp(a) # 指数函数\n",
    "print(exp_a)\n",
    "\n",
    "sum_exp_a = np.sum(exp_a) # 指数函数的和\n",
    "print(sum_exp_a)\n",
    "\n",
    "y = exp_a / sum_exp_a\n",
    "print(y)"
   ]
  },
  {
   "cell_type": "code",
   "execution_count": 34,
   "id": "7c4a0601",
   "metadata": {
    "ExecuteTime": {
     "end_time": "2022-11-25T00:34:17.160666Z",
     "start_time": "2022-11-25T00:34:17.122141Z"
    }
   },
   "outputs": [
    {
     "name": "stderr",
     "output_type": "stream",
     "text": [
      "<ipython-input-34-2ee7f1f30449>:3: RuntimeWarning: overflow encountered in exp\n",
      "  np.exp(a) / np.sum(np.exp(a)) # softmax函数的运算，发现会有warning提示：overflow\n",
      "<ipython-input-34-2ee7f1f30449>:3: RuntimeWarning: invalid value encountered in true_divide\n",
      "  np.exp(a) / np.sum(np.exp(a)) # softmax函数的运算，发现会有warning提示：overflow\n"
     ]
    },
    {
     "data": {
      "text/plain": [
       "array([nan, nan, nan])"
      ]
     },
     "execution_count": 34,
     "metadata": {},
     "output_type": "execute_result"
    },
    {
     "data": {
      "text/plain": [
       "array([  0, -10, -20])"
      ]
     },
     "execution_count": 34,
     "metadata": {},
     "output_type": "execute_result"
    },
    {
     "data": {
      "text/plain": [
       "array([9.99954600e-01, 4.53978686e-05, 2.06106005e-09])"
      ]
     },
     "execution_count": 34,
     "metadata": {},
     "output_type": "execute_result"
    }
   ],
   "source": [
    "# 一般softmax函数溢出问题\n",
    "a = np.array([1010, 1000, 990])\n",
    "np.exp(a) / np.sum(np.exp(a)) # softmax函数的运算，发现会有warning提示：overflow\n",
    "\n",
    "# 解决溢出问题\n",
    "c = np.max(a) # 1010\n",
    "a - c\n",
    "np.exp(a - c) / np.sum(np.exp(a - c)) # 这样就解决了溢出问题！"
   ]
  },
  {
   "cell_type": "code",
   "execution_count": 24,
   "id": "4cc76cf6",
   "metadata": {
    "ExecuteTime": {
     "end_time": "2022-10-17T08:23:04.065129Z",
     "start_time": "2022-10-17T08:23:04.054480Z"
    }
   },
   "outputs": [
    {
     "name": "stdout",
     "output_type": "stream",
     "text": [
      "[0.01821127 0.24519181 0.73659691]\n",
      "1.0\n"
     ]
    }
   ],
   "source": [
    "# softmax 封装\n",
    "def softmax_old(a):\n",
    "    exp_a = np.exp(a)\n",
    "    sum_exp_a = np.sum(exp_a)\n",
    "    y = exp_a / sum_exp_a\n",
    "    return y\n",
    "\n",
    "# 优化：解决 溢出问题\n",
    "def softmax(a):\n",
    "    c = np.max(a)\n",
    "    exp_a = np.exp(a - c) # 解决溢出，加入一个常数（为负数），因为是分子分母同乘对结果没有影响；但是可以解决分子过大导致溢出问题；\n",
    "    sum_exp_a = np.sum(exp_a)\n",
    "    y = exp_a / sum_exp_a\n",
    "    return y\n",
    "\n",
    "a = np.array([0.3, 2.9, 4.0])\n",
    "y = softmax(a)\n",
    "print(y)\n",
    "print(np.sum(y))\n"
   ]
  },
  {
   "cell_type": "code",
   "execution_count": 32,
   "id": "3d0114bf",
   "metadata": {
    "ExecuteTime": {
     "end_time": "2022-10-17T09:27:20.195561Z",
     "start_time": "2022-10-17T09:27:20.018547Z"
    }
   },
   "outputs": [
    {
     "name": "stdout",
     "output_type": "stream",
     "text": [
      "[7.80134161e-05 2.12062451e-04 5.76445508e-04 1.56694135e-03\n",
      " 4.25938820e-03 1.15782175e-02 3.14728583e-02 8.55520989e-02\n",
      " 2.32554716e-01 6.32149258e-01]\n",
      "[0.         0.02222222 0.04444444 0.06666667 0.08888889 0.11111111\n",
      " 0.13333333 0.15555556 0.17777778 0.2       ]\n"
     ]
    },
    {
     "data": {
      "text/plain": [
       "[<matplotlib.lines.Line2D at 0x7fdcf7137550>,\n",
       " <matplotlib.lines.Line2D at 0x7fdcf7137580>]"
      ]
     },
     "execution_count": 32,
     "metadata": {},
     "output_type": "execute_result"
    },
    {
     "data": {
      "image/png": "[encoded data removed]",
      "text/plain": [
       "<Figure size 432x288 with 1 Axes>"
      ]
     },
     "metadata": {
      "needs_background": "light"
     },
     "output_type": "display_data"
    }
   ],
   "source": [
    "# 多分类，对比softmax与线性的求和表现\n",
    "\n",
    "%matplotlib inline\n",
    "import numpy as np\n",
    "import matplotlib.pylab as plt\n",
    "\n",
    "x = np.arange(10)\n",
    "e = softmax(x)\n",
    "print(e)\n",
    "f = x/np.sum(x)\n",
    "print(f)\n",
    "\n",
    "plt.plot(x, e, x, f)\n",
    "\n",
    "# 总结：softmax 能够很明显体现出最大值。"
   ]
  },
  {
   "cell_type": "markdown",
   "id": "0c2b7f41",
   "metadata": {
    "ExecuteTime": {
     "end_time": "2022-10-17T10:36:29.992465Z",
     "start_time": "2022-10-17T10:36:29.973403Z"
    }
   },
   "source": [
    "# 案例：利用神经网络进行“手写数字识别”"
   ]
  },
  {
   "cell_type": "code",
   "execution_count": 38,
   "id": "4eb848ab",
   "metadata": {
    "ExecuteTime": {
     "end_time": "2022-11-25T00:49:45.947601Z",
     "start_time": "2022-11-25T00:49:45.856623Z"
    },
    "scrolled": true
   },
   "outputs": [
    {
     "name": "stdout",
     "output_type": "stream",
     "text": [
      "5\n",
      "(784,)\n",
      "(28, 28)\n"
     ]
    }
   ],
   "source": [
    "# MNIST数据集 导入\n",
    "\n",
    "import sys, os\n",
    "sys.path.append(os.pardir)  # 为了导入父目录的文件而进行的设定\n",
    "import numpy as np\n",
    "from dataset.mnist import load_mnist\n",
    "from PIL import Image\n",
    "\n",
    "def img_show(img):\n",
    "    pil_img = Image.fromarray(np.uint8(img))\n",
    "    pil_img.show()\n",
    "\n",
    "(x_train, t_train), (x_test, t_test) = load_mnist(flatten=True, normalize=False)\n",
    "# 参数normalize设置是否将输入图像正规化为0.0～1.0的值，这里没有设置，待会儿打印的数据可以直观看到；\n",
    "\n",
    "# 参数flatten设置是否展开输入图像（变成一维数组）。如果将该参数设置为False，则输入图像为1 × 28 × 28的三维数组；若设置为True，则输入图像会保存为由784个元素构成的一维数组。\n",
    "# 所以在这边就可以类似下面reshape的操作，转换成28×28的数组，这里为啥是三维数组？为啥多了一维？\n",
    "\n",
    "# 参数one_hot_label设置是否将标签保存为one-hot表示（one-hot representation）。\n",
    "# one-hot表示是仅正确解标签为1，其余皆为0的数组，就像[0,0,1,0,0,0,0,0,0,0]这样。当one_hot_label为False时，只是像7、2这样简单保存正确解标签；当one_hot_label为True时，标签则保存为one-hot表示。\n",
    "\n",
    "img = x_train[0] # x_train 中第一个图像元素的数据\n",
    "label = t_train[0] # 第一个图像元素的label，这里为 5\n",
    "print(label)  # 5，通过上面 one_hot_label 参数，可以设置为one-hot格式；\n",
    "\n",
    "print(img.shape)  # (784,)\n",
    "img = img.reshape(28, 28)  # 把图像的形状变为原来的尺寸\n",
    "print(img.shape)  # (28, 28)\n",
    "\n",
    "img_show(img)"
   ]
  },
  {
   "cell_type": "code",
   "execution_count": 13,
   "id": "9750e0d0",
   "metadata": {
    "ExecuteTime": {
     "end_time": "2022-10-20T03:31:07.485775Z",
     "start_time": "2022-10-20T03:31:07.476824Z"
    }
   },
   "outputs": [
    {
     "name": "stdout",
     "output_type": "stream",
     "text": [
      "(784,)\n",
      "(28, 28)\n",
      "(60000, 784)\n",
      "(10000, 784)\n"
     ]
    }
   ],
   "source": [
    "# cc\n",
    "img2 = x_test[0]\n",
    "print(img2.shape)\n",
    "img2 = img2.reshape(28, 28) # 所以 reshape这一步还是非常重要的。\n",
    "print(img2.shape)\n",
    "\n",
    "# img_show(img2)\n",
    "\n",
    "# 这里也就明白了，一条：比如x_train[0] 数据表示一张图片；\n",
    "# 而x_train[0] 是 1×784 的结构，在reshape成28×28后，就形成了正方形排布的像素点；\n",
    "# 之后再通过 img_show 转换成图像；\n",
    "\n",
    "print(x_train.shape) # 而x_train 总共有60000个这样的图片；\n",
    "print(x_test.shape) # x_test 总共有10000个这样的图片；"
   ]
  },
  {
   "cell_type": "code",
   "execution_count": 45,
   "id": "8524d9b3",
   "metadata": {
    "ExecuteTime": {
     "end_time": "2022-10-20T07:56:44.269248Z",
     "start_time": "2022-10-20T07:56:43.211275Z"
    }
   },
   "outputs": [
    {
     "name": "stdout",
     "output_type": "stream",
     "text": [
      "(10000, 784)\n",
      "(10000,)\n",
      "Accuracy:0.9352\n"
     ]
    }
   ],
   "source": [
    "# 神经网络的推理处理\n",
    "\n",
    "import sys, os\n",
    "sys.path.append(os.pardir)  # 为了导入父目录的文件而进行的设定\n",
    "import numpy as np\n",
    "import pickle\n",
    "from dataset.mnist import load_mnist\n",
    "from common.functions import sigmoid, softmax\n",
    "\n",
    "def get_data():\n",
    "    (x_train, t_train), (x_test, t_test) = load_mnist(normalize=True, flatten=True, one_hot_label=False)\n",
    "    return x_test, t_test\n",
    "\n",
    "def init_network():\n",
    "    with open(\"sample_weight.pkl\", 'rb') as f:\n",
    "        network = pickle.load(f)\n",
    "    return network\n",
    "\n",
    "def predict(network, x):\n",
    "    W1, W2, W3 = network['W1'], network['W2'], network['W3']\n",
    "    b1, b2, b3 = network['b1'], network['b2'], network['b3']\n",
    "\n",
    "    a1 = np.dot(x, W1) + b1\n",
    "    z1 = sigmoid(a1)\n",
    "    a2 = np.dot(z1, W2) + b2\n",
    "    z2 = sigmoid(a2) # sigmoid 做激活函数\n",
    "    a3 = np.dot(z2, W3) + b3\n",
    "    y = softmax(a3) # softmax 做输出函数\n",
    "\n",
    "    return y\n",
    "\n",
    "x, t = get_data()\n",
    "print(x.shape) # 10000张图片，每张图片28*28像素\n",
    "print(t.shape) # 10000张图片对应的标签\n",
    "\n",
    "network = init_network()\n",
    "accuracy_cnt = 0\n",
    "for i in range(len(x)): # 一共有len(x)个图片，就进行这些次的循环来求精度；\n",
    "    y = predict(network, x[i]) # 每个x在0~9的概率\n",
    "    p= np.argmax(y) # 获取概率最高的元素的索引，cc：刚好这里索引对应的就是数字\n",
    "    if p == t[i]: # 然后和t[i]的标签进行对比；t现在还不是one-hot，就是某个值；\n",
    "        accuracy_cnt += 1\n",
    "\n",
    "print(\"Accuracy:\" + str(float(accuracy_cnt) / len(x)))\n",
    "\n",
    "\n",
    "# 使用normalize=True 正规化数据之后，\n",
    "# 1. 精度由 0.9207变化到 0.9352\n",
    "# 2. 没有正规化数据的话，计算log会有问题，提示：overflow encountered in exp\n"
   ]
  },
  {
   "cell_type": "code",
   "execution_count": 27,
   "id": "d91fef4a",
   "metadata": {
    "ExecuteTime": {
     "end_time": "2022-10-20T07:40:38.196293Z",
     "start_time": "2022-10-20T07:40:38.006307Z"
    },
    "scrolled": false
   },
   "outputs": [],
   "source": [
    "# cc：test\n",
    "def get_data2(normalize=False, flatten=False, one_hot_label=False):\n",
    "    (x_train, t_train), (x_test, t_test) = load_mnist(normalize=normalize, flatten=flatten, one_hot_label=one_hot_label)\n",
    "    return x_test, t_test\n",
    "\n",
    "test_x, test_t = get_data2(normalize=True, flatten=False)\n",
    "\n"
   ]
  },
  {
   "cell_type": "code",
   "execution_count": 37,
   "id": "2bea864e",
   "metadata": {
    "ExecuteTime": {
     "end_time": "2022-10-20T07:43:38.538295Z",
     "start_time": "2022-10-20T07:43:38.531815Z"
    }
   },
   "outputs": [
    {
     "data": {
      "text/plain": [
       "(10000, 1, 28, 28)"
      ]
     },
     "execution_count": 37,
     "metadata": {},
     "output_type": "execute_result"
    }
   ],
   "source": [
    "test_x.shape"
   ]
  },
  {
   "cell_type": "code",
   "execution_count": 35,
   "id": "08b2e590",
   "metadata": {
    "ExecuteTime": {
     "end_time": "2022-10-20T07:43:10.951706Z",
     "start_time": "2022-10-20T07:43:10.872447Z"
    }
   },
   "outputs": [
    {
     "data": {
      "text/html": [
       "<div>\n",
       "<style scoped>\n",
       "    .dataframe tbody tr th:only-of-type {\n",
       "        vertical-align: middle;\n",
       "    }\n",
       "\n",
       "    .dataframe tbody tr th {\n",
       "        vertical-align: top;\n",
       "    }\n",
       "\n",
       "    .dataframe thead th {\n",
       "        text-align: right;\n",
       "    }\n",
       "</style>\n",
       "<table border=\"1\" class=\"dataframe\">\n",
       "  <thead>\n",
       "    <tr style=\"text-align: right;\">\n",
       "      <th></th>\n",
       "      <th>0</th>\n",
       "      <th>1</th>\n",
       "      <th>2</th>\n",
       "      <th>3</th>\n",
       "      <th>4</th>\n",
       "      <th>5</th>\n",
       "      <th>6</th>\n",
       "      <th>7</th>\n",
       "      <th>8</th>\n",
       "      <th>9</th>\n",
       "      <th>...</th>\n",
       "      <th>18</th>\n",
       "      <th>19</th>\n",
       "      <th>20</th>\n",
       "      <th>21</th>\n",
       "      <th>22</th>\n",
       "      <th>23</th>\n",
       "      <th>24</th>\n",
       "      <th>25</th>\n",
       "      <th>26</th>\n",
       "      <th>27</th>\n",
       "    </tr>\n",
       "  </thead>\n",
       "  <tbody>\n",
       "    <tr>\n",
       "      <th>0</th>\n",
       "      <td>0.0</td>\n",
       "      <td>0.0</td>\n",
       "      <td>0.0</td>\n",
       "      <td>0.0</td>\n",
       "      <td>0.0</td>\n",
       "      <td>0.0</td>\n",
       "      <td>0.000000</td>\n",
       "      <td>0.000000</td>\n",
       "      <td>0.000000</td>\n",
       "      <td>0.000000</td>\n",
       "      <td>...</td>\n",
       "      <td>0.000000</td>\n",
       "      <td>0.000000</td>\n",
       "      <td>0.000000</td>\n",
       "      <td>0.000000</td>\n",
       "      <td>0.0</td>\n",
       "      <td>0.0</td>\n",
       "      <td>0.0</td>\n",
       "      <td>0.0</td>\n",
       "      <td>0.0</td>\n",
       "      <td>0.0</td>\n",
       "    </tr>\n",
       "    <tr>\n",
       "      <th>1</th>\n",
       "      <td>0.0</td>\n",
       "      <td>0.0</td>\n",
       "      <td>0.0</td>\n",
       "      <td>0.0</td>\n",
       "      <td>0.0</td>\n",
       "      <td>0.0</td>\n",
       "      <td>0.000000</td>\n",
       "      <td>0.000000</td>\n",
       "      <td>0.000000</td>\n",
       "      <td>0.000000</td>\n",
       "      <td>...</td>\n",
       "      <td>0.000000</td>\n",
       "      <td>0.000000</td>\n",
       "      <td>0.000000</td>\n",
       "      <td>0.000000</td>\n",
       "      <td>0.0</td>\n",
       "      <td>0.0</td>\n",
       "      <td>0.0</td>\n",
       "      <td>0.0</td>\n",
       "      <td>0.0</td>\n",
       "      <td>0.0</td>\n",
       "    </tr>\n",
       "    <tr>\n",
       "      <th>2</th>\n",
       "      <td>0.0</td>\n",
       "      <td>0.0</td>\n",
       "      <td>0.0</td>\n",
       "      <td>0.0</td>\n",
       "      <td>0.0</td>\n",
       "      <td>0.0</td>\n",
       "      <td>0.000000</td>\n",
       "      <td>0.000000</td>\n",
       "      <td>0.000000</td>\n",
       "      <td>0.000000</td>\n",
       "      <td>...</td>\n",
       "      <td>0.000000</td>\n",
       "      <td>0.000000</td>\n",
       "      <td>0.000000</td>\n",
       "      <td>0.000000</td>\n",
       "      <td>0.0</td>\n",
       "      <td>0.0</td>\n",
       "      <td>0.0</td>\n",
       "      <td>0.0</td>\n",
       "      <td>0.0</td>\n",
       "      <td>0.0</td>\n",
       "    </tr>\n",
       "    <tr>\n",
       "      <th>3</th>\n",
       "      <td>0.0</td>\n",
       "      <td>0.0</td>\n",
       "      <td>0.0</td>\n",
       "      <td>0.0</td>\n",
       "      <td>0.0</td>\n",
       "      <td>0.0</td>\n",
       "      <td>0.000000</td>\n",
       "      <td>0.000000</td>\n",
       "      <td>0.000000</td>\n",
       "      <td>0.000000</td>\n",
       "      <td>...</td>\n",
       "      <td>0.000000</td>\n",
       "      <td>0.000000</td>\n",
       "      <td>0.000000</td>\n",
       "      <td>0.000000</td>\n",
       "      <td>0.0</td>\n",
       "      <td>0.0</td>\n",
       "      <td>0.0</td>\n",
       "      <td>0.0</td>\n",
       "      <td>0.0</td>\n",
       "      <td>0.0</td>\n",
       "    </tr>\n",
       "    <tr>\n",
       "      <th>4</th>\n",
       "      <td>0.0</td>\n",
       "      <td>0.0</td>\n",
       "      <td>0.0</td>\n",
       "      <td>0.0</td>\n",
       "      <td>0.0</td>\n",
       "      <td>0.0</td>\n",
       "      <td>0.000000</td>\n",
       "      <td>0.000000</td>\n",
       "      <td>0.000000</td>\n",
       "      <td>0.000000</td>\n",
       "      <td>...</td>\n",
       "      <td>0.000000</td>\n",
       "      <td>0.000000</td>\n",
       "      <td>0.000000</td>\n",
       "      <td>0.000000</td>\n",
       "      <td>0.0</td>\n",
       "      <td>0.0</td>\n",
       "      <td>0.0</td>\n",
       "      <td>0.0</td>\n",
       "      <td>0.0</td>\n",
       "      <td>0.0</td>\n",
       "    </tr>\n",
       "    <tr>\n",
       "      <th>5</th>\n",
       "      <td>0.0</td>\n",
       "      <td>0.0</td>\n",
       "      <td>0.0</td>\n",
       "      <td>0.0</td>\n",
       "      <td>0.0</td>\n",
       "      <td>0.0</td>\n",
       "      <td>0.000000</td>\n",
       "      <td>0.000000</td>\n",
       "      <td>0.000000</td>\n",
       "      <td>0.000000</td>\n",
       "      <td>...</td>\n",
       "      <td>0.000000</td>\n",
       "      <td>0.000000</td>\n",
       "      <td>0.000000</td>\n",
       "      <td>0.000000</td>\n",
       "      <td>0.0</td>\n",
       "      <td>0.0</td>\n",
       "      <td>0.0</td>\n",
       "      <td>0.0</td>\n",
       "      <td>0.0</td>\n",
       "      <td>0.0</td>\n",
       "    </tr>\n",
       "    <tr>\n",
       "      <th>6</th>\n",
       "      <td>0.0</td>\n",
       "      <td>0.0</td>\n",
       "      <td>0.0</td>\n",
       "      <td>0.0</td>\n",
       "      <td>0.0</td>\n",
       "      <td>0.0</td>\n",
       "      <td>0.000000</td>\n",
       "      <td>0.000000</td>\n",
       "      <td>0.000000</td>\n",
       "      <td>0.000000</td>\n",
       "      <td>...</td>\n",
       "      <td>0.000000</td>\n",
       "      <td>0.000000</td>\n",
       "      <td>0.000000</td>\n",
       "      <td>0.000000</td>\n",
       "      <td>0.0</td>\n",
       "      <td>0.0</td>\n",
       "      <td>0.0</td>\n",
       "      <td>0.0</td>\n",
       "      <td>0.0</td>\n",
       "      <td>0.0</td>\n",
       "    </tr>\n",
       "    <tr>\n",
       "      <th>7</th>\n",
       "      <td>0.0</td>\n",
       "      <td>0.0</td>\n",
       "      <td>0.0</td>\n",
       "      <td>0.0</td>\n",
       "      <td>0.0</td>\n",
       "      <td>0.0</td>\n",
       "      <td>0.329412</td>\n",
       "      <td>0.725490</td>\n",
       "      <td>0.623529</td>\n",
       "      <td>0.592157</td>\n",
       "      <td>...</td>\n",
       "      <td>0.000000</td>\n",
       "      <td>0.000000</td>\n",
       "      <td>0.000000</td>\n",
       "      <td>0.000000</td>\n",
       "      <td>0.0</td>\n",
       "      <td>0.0</td>\n",
       "      <td>0.0</td>\n",
       "      <td>0.0</td>\n",
       "      <td>0.0</td>\n",
       "      <td>0.0</td>\n",
       "    </tr>\n",
       "    <tr>\n",
       "      <th>8</th>\n",
       "      <td>0.0</td>\n",
       "      <td>0.0</td>\n",
       "      <td>0.0</td>\n",
       "      <td>0.0</td>\n",
       "      <td>0.0</td>\n",
       "      <td>0.0</td>\n",
       "      <td>0.870588</td>\n",
       "      <td>0.996078</td>\n",
       "      <td>0.996078</td>\n",
       "      <td>0.996078</td>\n",
       "      <td>...</td>\n",
       "      <td>0.776471</td>\n",
       "      <td>0.776471</td>\n",
       "      <td>0.666667</td>\n",
       "      <td>0.203922</td>\n",
       "      <td>0.0</td>\n",
       "      <td>0.0</td>\n",
       "      <td>0.0</td>\n",
       "      <td>0.0</td>\n",
       "      <td>0.0</td>\n",
       "      <td>0.0</td>\n",
       "    </tr>\n",
       "    <tr>\n",
       "      <th>9</th>\n",
       "      <td>0.0</td>\n",
       "      <td>0.0</td>\n",
       "      <td>0.0</td>\n",
       "      <td>0.0</td>\n",
       "      <td>0.0</td>\n",
       "      <td>0.0</td>\n",
       "      <td>0.262745</td>\n",
       "      <td>0.447059</td>\n",
       "      <td>0.282353</td>\n",
       "      <td>0.447059</td>\n",
       "      <td>...</td>\n",
       "      <td>0.898039</td>\n",
       "      <td>0.996078</td>\n",
       "      <td>0.996078</td>\n",
       "      <td>0.549020</td>\n",
       "      <td>0.0</td>\n",
       "      <td>0.0</td>\n",
       "      <td>0.0</td>\n",
       "      <td>0.0</td>\n",
       "      <td>0.0</td>\n",
       "      <td>0.0</td>\n",
       "    </tr>\n",
       "    <tr>\n",
       "      <th>10</th>\n",
       "      <td>0.0</td>\n",
       "      <td>0.0</td>\n",
       "      <td>0.0</td>\n",
       "      <td>0.0</td>\n",
       "      <td>0.0</td>\n",
       "      <td>0.0</td>\n",
       "      <td>0.000000</td>\n",
       "      <td>0.000000</td>\n",
       "      <td>0.000000</td>\n",
       "      <td>0.000000</td>\n",
       "      <td>...</td>\n",
       "      <td>0.082353</td>\n",
       "      <td>0.925490</td>\n",
       "      <td>0.996078</td>\n",
       "      <td>0.415686</td>\n",
       "      <td>0.0</td>\n",
       "      <td>0.0</td>\n",
       "      <td>0.0</td>\n",
       "      <td>0.0</td>\n",
       "      <td>0.0</td>\n",
       "      <td>0.0</td>\n",
       "    </tr>\n",
       "    <tr>\n",
       "      <th>11</th>\n",
       "      <td>0.0</td>\n",
       "      <td>0.0</td>\n",
       "      <td>0.0</td>\n",
       "      <td>0.0</td>\n",
       "      <td>0.0</td>\n",
       "      <td>0.0</td>\n",
       "      <td>0.000000</td>\n",
       "      <td>0.000000</td>\n",
       "      <td>0.000000</td>\n",
       "      <td>0.000000</td>\n",
       "      <td>...</td>\n",
       "      <td>0.325490</td>\n",
       "      <td>0.992157</td>\n",
       "      <td>0.819608</td>\n",
       "      <td>0.070588</td>\n",
       "      <td>0.0</td>\n",
       "      <td>0.0</td>\n",
       "      <td>0.0</td>\n",
       "      <td>0.0</td>\n",
       "      <td>0.0</td>\n",
       "      <td>0.0</td>\n",
       "    </tr>\n",
       "    <tr>\n",
       "      <th>12</th>\n",
       "      <td>0.0</td>\n",
       "      <td>0.0</td>\n",
       "      <td>0.0</td>\n",
       "      <td>0.0</td>\n",
       "      <td>0.0</td>\n",
       "      <td>0.0</td>\n",
       "      <td>0.000000</td>\n",
       "      <td>0.000000</td>\n",
       "      <td>0.000000</td>\n",
       "      <td>0.000000</td>\n",
       "      <td>...</td>\n",
       "      <td>0.913725</td>\n",
       "      <td>1.000000</td>\n",
       "      <td>0.325490</td>\n",
       "      <td>0.000000</td>\n",
       "      <td>0.0</td>\n",
       "      <td>0.0</td>\n",
       "      <td>0.0</td>\n",
       "      <td>0.0</td>\n",
       "      <td>0.0</td>\n",
       "      <td>0.0</td>\n",
       "    </tr>\n",
       "    <tr>\n",
       "      <th>13</th>\n",
       "      <td>0.0</td>\n",
       "      <td>0.0</td>\n",
       "      <td>0.0</td>\n",
       "      <td>0.0</td>\n",
       "      <td>0.0</td>\n",
       "      <td>0.0</td>\n",
       "      <td>0.000000</td>\n",
       "      <td>0.000000</td>\n",
       "      <td>0.000000</td>\n",
       "      <td>0.000000</td>\n",
       "      <td>...</td>\n",
       "      <td>0.996078</td>\n",
       "      <td>0.933333</td>\n",
       "      <td>0.172549</td>\n",
       "      <td>0.000000</td>\n",
       "      <td>0.0</td>\n",
       "      <td>0.0</td>\n",
       "      <td>0.0</td>\n",
       "      <td>0.0</td>\n",
       "      <td>0.0</td>\n",
       "      <td>0.0</td>\n",
       "    </tr>\n",
       "    <tr>\n",
       "      <th>14</th>\n",
       "      <td>0.0</td>\n",
       "      <td>0.0</td>\n",
       "      <td>0.0</td>\n",
       "      <td>0.0</td>\n",
       "      <td>0.0</td>\n",
       "      <td>0.0</td>\n",
       "      <td>0.000000</td>\n",
       "      <td>0.000000</td>\n",
       "      <td>0.000000</td>\n",
       "      <td>0.000000</td>\n",
       "      <td>...</td>\n",
       "      <td>0.996078</td>\n",
       "      <td>0.243137</td>\n",
       "      <td>0.000000</td>\n",
       "      <td>0.000000</td>\n",
       "      <td>0.0</td>\n",
       "      <td>0.0</td>\n",
       "      <td>0.0</td>\n",
       "      <td>0.0</td>\n",
       "      <td>0.0</td>\n",
       "      <td>0.0</td>\n",
       "    </tr>\n",
       "    <tr>\n",
       "      <th>15</th>\n",
       "      <td>0.0</td>\n",
       "      <td>0.0</td>\n",
       "      <td>0.0</td>\n",
       "      <td>0.0</td>\n",
       "      <td>0.0</td>\n",
       "      <td>0.0</td>\n",
       "      <td>0.000000</td>\n",
       "      <td>0.000000</td>\n",
       "      <td>0.000000</td>\n",
       "      <td>0.000000</td>\n",
       "      <td>...</td>\n",
       "      <td>0.733333</td>\n",
       "      <td>0.019608</td>\n",
       "      <td>0.000000</td>\n",
       "      <td>0.000000</td>\n",
       "      <td>0.0</td>\n",
       "      <td>0.0</td>\n",
       "      <td>0.0</td>\n",
       "      <td>0.0</td>\n",
       "      <td>0.0</td>\n",
       "      <td>0.0</td>\n",
       "    </tr>\n",
       "    <tr>\n",
       "      <th>16</th>\n",
       "      <td>0.0</td>\n",
       "      <td>0.0</td>\n",
       "      <td>0.0</td>\n",
       "      <td>0.0</td>\n",
       "      <td>0.0</td>\n",
       "      <td>0.0</td>\n",
       "      <td>0.000000</td>\n",
       "      <td>0.000000</td>\n",
       "      <td>0.000000</td>\n",
       "      <td>0.000000</td>\n",
       "      <td>...</td>\n",
       "      <td>0.227451</td>\n",
       "      <td>0.000000</td>\n",
       "      <td>0.000000</td>\n",
       "      <td>0.000000</td>\n",
       "      <td>0.0</td>\n",
       "      <td>0.0</td>\n",
       "      <td>0.0</td>\n",
       "      <td>0.0</td>\n",
       "      <td>0.0</td>\n",
       "      <td>0.0</td>\n",
       "    </tr>\n",
       "    <tr>\n",
       "      <th>17</th>\n",
       "      <td>0.0</td>\n",
       "      <td>0.0</td>\n",
       "      <td>0.0</td>\n",
       "      <td>0.0</td>\n",
       "      <td>0.0</td>\n",
       "      <td>0.0</td>\n",
       "      <td>0.000000</td>\n",
       "      <td>0.000000</td>\n",
       "      <td>0.000000</td>\n",
       "      <td>0.000000</td>\n",
       "      <td>...</td>\n",
       "      <td>0.000000</td>\n",
       "      <td>0.000000</td>\n",
       "      <td>0.000000</td>\n",
       "      <td>0.000000</td>\n",
       "      <td>0.0</td>\n",
       "      <td>0.0</td>\n",
       "      <td>0.0</td>\n",
       "      <td>0.0</td>\n",
       "      <td>0.0</td>\n",
       "      <td>0.0</td>\n",
       "    </tr>\n",
       "    <tr>\n",
       "      <th>18</th>\n",
       "      <td>0.0</td>\n",
       "      <td>0.0</td>\n",
       "      <td>0.0</td>\n",
       "      <td>0.0</td>\n",
       "      <td>0.0</td>\n",
       "      <td>0.0</td>\n",
       "      <td>0.000000</td>\n",
       "      <td>0.000000</td>\n",
       "      <td>0.000000</td>\n",
       "      <td>0.000000</td>\n",
       "      <td>...</td>\n",
       "      <td>0.000000</td>\n",
       "      <td>0.000000</td>\n",
       "      <td>0.000000</td>\n",
       "      <td>0.000000</td>\n",
       "      <td>0.0</td>\n",
       "      <td>0.0</td>\n",
       "      <td>0.0</td>\n",
       "      <td>0.0</td>\n",
       "      <td>0.0</td>\n",
       "      <td>0.0</td>\n",
       "    </tr>\n",
       "    <tr>\n",
       "      <th>19</th>\n",
       "      <td>0.0</td>\n",
       "      <td>0.0</td>\n",
       "      <td>0.0</td>\n",
       "      <td>0.0</td>\n",
       "      <td>0.0</td>\n",
       "      <td>0.0</td>\n",
       "      <td>0.000000</td>\n",
       "      <td>0.000000</td>\n",
       "      <td>0.000000</td>\n",
       "      <td>0.000000</td>\n",
       "      <td>...</td>\n",
       "      <td>0.000000</td>\n",
       "      <td>0.000000</td>\n",
       "      <td>0.000000</td>\n",
       "      <td>0.000000</td>\n",
       "      <td>0.0</td>\n",
       "      <td>0.0</td>\n",
       "      <td>0.0</td>\n",
       "      <td>0.0</td>\n",
       "      <td>0.0</td>\n",
       "      <td>0.0</td>\n",
       "    </tr>\n",
       "    <tr>\n",
       "      <th>20</th>\n",
       "      <td>0.0</td>\n",
       "      <td>0.0</td>\n",
       "      <td>0.0</td>\n",
       "      <td>0.0</td>\n",
       "      <td>0.0</td>\n",
       "      <td>0.0</td>\n",
       "      <td>0.000000</td>\n",
       "      <td>0.000000</td>\n",
       "      <td>0.000000</td>\n",
       "      <td>0.000000</td>\n",
       "      <td>...</td>\n",
       "      <td>0.000000</td>\n",
       "      <td>0.000000</td>\n",
       "      <td>0.000000</td>\n",
       "      <td>0.000000</td>\n",
       "      <td>0.0</td>\n",
       "      <td>0.0</td>\n",
       "      <td>0.0</td>\n",
       "      <td>0.0</td>\n",
       "      <td>0.0</td>\n",
       "      <td>0.0</td>\n",
       "    </tr>\n",
       "    <tr>\n",
       "      <th>21</th>\n",
       "      <td>0.0</td>\n",
       "      <td>0.0</td>\n",
       "      <td>0.0</td>\n",
       "      <td>0.0</td>\n",
       "      <td>0.0</td>\n",
       "      <td>0.0</td>\n",
       "      <td>0.000000</td>\n",
       "      <td>0.000000</td>\n",
       "      <td>0.000000</td>\n",
       "      <td>0.000000</td>\n",
       "      <td>...</td>\n",
       "      <td>0.000000</td>\n",
       "      <td>0.000000</td>\n",
       "      <td>0.000000</td>\n",
       "      <td>0.000000</td>\n",
       "      <td>0.0</td>\n",
       "      <td>0.0</td>\n",
       "      <td>0.0</td>\n",
       "      <td>0.0</td>\n",
       "      <td>0.0</td>\n",
       "      <td>0.0</td>\n",
       "    </tr>\n",
       "    <tr>\n",
       "      <th>22</th>\n",
       "      <td>0.0</td>\n",
       "      <td>0.0</td>\n",
       "      <td>0.0</td>\n",
       "      <td>0.0</td>\n",
       "      <td>0.0</td>\n",
       "      <td>0.0</td>\n",
       "      <td>0.000000</td>\n",
       "      <td>0.000000</td>\n",
       "      <td>0.000000</td>\n",
       "      <td>0.000000</td>\n",
       "      <td>...</td>\n",
       "      <td>0.000000</td>\n",
       "      <td>0.000000</td>\n",
       "      <td>0.000000</td>\n",
       "      <td>0.000000</td>\n",
       "      <td>0.0</td>\n",
       "      <td>0.0</td>\n",
       "      <td>0.0</td>\n",
       "      <td>0.0</td>\n",
       "      <td>0.0</td>\n",
       "      <td>0.0</td>\n",
       "    </tr>\n",
       "    <tr>\n",
       "      <th>23</th>\n",
       "      <td>0.0</td>\n",
       "      <td>0.0</td>\n",
       "      <td>0.0</td>\n",
       "      <td>0.0</td>\n",
       "      <td>0.0</td>\n",
       "      <td>0.0</td>\n",
       "      <td>0.000000</td>\n",
       "      <td>0.000000</td>\n",
       "      <td>0.000000</td>\n",
       "      <td>0.000000</td>\n",
       "      <td>...</td>\n",
       "      <td>0.000000</td>\n",
       "      <td>0.000000</td>\n",
       "      <td>0.000000</td>\n",
       "      <td>0.000000</td>\n",
       "      <td>0.0</td>\n",
       "      <td>0.0</td>\n",
       "      <td>0.0</td>\n",
       "      <td>0.0</td>\n",
       "      <td>0.0</td>\n",
       "      <td>0.0</td>\n",
       "    </tr>\n",
       "    <tr>\n",
       "      <th>24</th>\n",
       "      <td>0.0</td>\n",
       "      <td>0.0</td>\n",
       "      <td>0.0</td>\n",
       "      <td>0.0</td>\n",
       "      <td>0.0</td>\n",
       "      <td>0.0</td>\n",
       "      <td>0.000000</td>\n",
       "      <td>0.000000</td>\n",
       "      <td>0.000000</td>\n",
       "      <td>0.000000</td>\n",
       "      <td>...</td>\n",
       "      <td>0.000000</td>\n",
       "      <td>0.000000</td>\n",
       "      <td>0.000000</td>\n",
       "      <td>0.000000</td>\n",
       "      <td>0.0</td>\n",
       "      <td>0.0</td>\n",
       "      <td>0.0</td>\n",
       "      <td>0.0</td>\n",
       "      <td>0.0</td>\n",
       "      <td>0.0</td>\n",
       "    </tr>\n",
       "    <tr>\n",
       "      <th>25</th>\n",
       "      <td>0.0</td>\n",
       "      <td>0.0</td>\n",
       "      <td>0.0</td>\n",
       "      <td>0.0</td>\n",
       "      <td>0.0</td>\n",
       "      <td>0.0</td>\n",
       "      <td>0.000000</td>\n",
       "      <td>0.000000</td>\n",
       "      <td>0.000000</td>\n",
       "      <td>0.000000</td>\n",
       "      <td>...</td>\n",
       "      <td>0.000000</td>\n",
       "      <td>0.000000</td>\n",
       "      <td>0.000000</td>\n",
       "      <td>0.000000</td>\n",
       "      <td>0.0</td>\n",
       "      <td>0.0</td>\n",
       "      <td>0.0</td>\n",
       "      <td>0.0</td>\n",
       "      <td>0.0</td>\n",
       "      <td>0.0</td>\n",
       "    </tr>\n",
       "    <tr>\n",
       "      <th>26</th>\n",
       "      <td>0.0</td>\n",
       "      <td>0.0</td>\n",
       "      <td>0.0</td>\n",
       "      <td>0.0</td>\n",
       "      <td>0.0</td>\n",
       "      <td>0.0</td>\n",
       "      <td>0.000000</td>\n",
       "      <td>0.000000</td>\n",
       "      <td>0.000000</td>\n",
       "      <td>0.000000</td>\n",
       "      <td>...</td>\n",
       "      <td>0.000000</td>\n",
       "      <td>0.000000</td>\n",
       "      <td>0.000000</td>\n",
       "      <td>0.000000</td>\n",
       "      <td>0.0</td>\n",
       "      <td>0.0</td>\n",
       "      <td>0.0</td>\n",
       "      <td>0.0</td>\n",
       "      <td>0.0</td>\n",
       "      <td>0.0</td>\n",
       "    </tr>\n",
       "    <tr>\n",
       "      <th>27</th>\n",
       "      <td>0.0</td>\n",
       "      <td>0.0</td>\n",
       "      <td>0.0</td>\n",
       "      <td>0.0</td>\n",
       "      <td>0.0</td>\n",
       "      <td>0.0</td>\n",
       "      <td>0.000000</td>\n",
       "      <td>0.000000</td>\n",
       "      <td>0.000000</td>\n",
       "      <td>0.000000</td>\n",
       "      <td>...</td>\n",
       "      <td>0.000000</td>\n",
       "      <td>0.000000</td>\n",
       "      <td>0.000000</td>\n",
       "      <td>0.000000</td>\n",
       "      <td>0.0</td>\n",
       "      <td>0.0</td>\n",
       "      <td>0.0</td>\n",
       "      <td>0.0</td>\n",
       "      <td>0.0</td>\n",
       "      <td>0.0</td>\n",
       "    </tr>\n",
       "  </tbody>\n",
       "</table>\n",
       "<p>28 rows × 28 columns</p>\n",
       "</div>"
      ],
      "text/plain": [
       "     0    1    2    3    4    5         6         7         8         9   ...  \\\n",
       "0   0.0  0.0  0.0  0.0  0.0  0.0  0.000000  0.000000  0.000000  0.000000  ...   \n",
       "1   0.0  0.0  0.0  0.0  0.0  0.0  0.000000  0.000000  0.000000  0.000000  ...   \n",
       "2   0.0  0.0  0.0  0.0  0.0  0.0  0.000000  0.000000  0.000000  0.000000  ...   \n",
       "3   0.0  0.0  0.0  0.0  0.0  0.0  0.000000  0.000000  0.000000  0.000000  ...   \n",
       "4   0.0  0.0  0.0  0.0  0.0  0.0  0.000000  0.000000  0.000000  0.000000  ...   \n",
       "5   0.0  0.0  0.0  0.0  0.0  0.0  0.000000  0.000000  0.000000  0.000000  ...   \n",
       "6   0.0  0.0  0.0  0.0  0.0  0.0  0.000000  0.000000  0.000000  0.000000  ...   \n",
       "7   0.0  0.0  0.0  0.0  0.0  0.0  0.329412  0.725490  0.623529  0.592157  ...   \n",
       "8   0.0  0.0  0.0  0.0  0.0  0.0  0.870588  0.996078  0.996078  0.996078  ...   \n",
       "9   0.0  0.0  0.0  0.0  0.0  0.0  0.262745  0.447059  0.282353  0.447059  ...   \n",
       "10  0.0  0.0  0.0  0.0  0.0  0.0  0.000000  0.000000  0.000000  0.000000  ...   \n",
       "11  0.0  0.0  0.0  0.0  0.0  0.0  0.000000  0.000000  0.000000  0.000000  ...   \n",
       "12  0.0  0.0  0.0  0.0  0.0  0.0  0.000000  0.000000  0.000000  0.000000  ...   \n",
       "13  0.0  0.0  0.0  0.0  0.0  0.0  0.000000  0.000000  0.000000  0.000000  ...   \n",
       "14  0.0  0.0  0.0  0.0  0.0  0.0  0.000000  0.000000  0.000000  0.000000  ...   \n",
       "15  0.0  0.0  0.0  0.0  0.0  0.0  0.000000  0.000000  0.000000  0.000000  ...   \n",
       "16  0.0  0.0  0.0  0.0  0.0  0.0  0.000000  0.000000  0.000000  0.000000  ...   \n",
       "17  0.0  0.0  0.0  0.0  0.0  0.0  0.000000  0.000000  0.000000  0.000000  ...   \n",
       "18  0.0  0.0  0.0  0.0  0.0  0.0  0.000000  0.000000  0.000000  0.000000  ...   \n",
       "19  0.0  0.0  0.0  0.0  0.0  0.0  0.000000  0.000000  0.000000  0.000000  ...   \n",
       "20  0.0  0.0  0.0  0.0  0.0  0.0  0.000000  0.000000  0.000000  0.000000  ...   \n",
       "21  0.0  0.0  0.0  0.0  0.0  0.0  0.000000  0.000000  0.000000  0.000000  ...   \n",
       "22  0.0  0.0  0.0  0.0  0.0  0.0  0.000000  0.000000  0.000000  0.000000  ...   \n",
       "23  0.0  0.0  0.0  0.0  0.0  0.0  0.000000  0.000000  0.000000  0.000000  ...   \n",
       "24  0.0  0.0  0.0  0.0  0.0  0.0  0.000000  0.000000  0.000000  0.000000  ...   \n",
       "25  0.0  0.0  0.0  0.0  0.0  0.0  0.000000  0.000000  0.000000  0.000000  ...   \n",
       "26  0.0  0.0  0.0  0.0  0.0  0.0  0.000000  0.000000  0.000000  0.000000  ...   \n",
       "27  0.0  0.0  0.0  0.0  0.0  0.0  0.000000  0.000000  0.000000  0.000000  ...   \n",
       "\n",
       "          18        19        20        21   22   23   24   25   26   27  \n",
       "0   0.000000  0.000000  0.000000  0.000000  0.0  0.0  0.0  0.0  0.0  0.0  \n",
       "1   0.000000  0.000000  0.000000  0.000000  0.0  0.0  0.0  0.0  0.0  0.0  \n",
       "2   0.000000  0.000000  0.000000  0.000000  0.0  0.0  0.0  0.0  0.0  0.0  \n",
       "3   0.000000  0.000000  0.000000  0.000000  0.0  0.0  0.0  0.0  0.0  0.0  \n",
       "4   0.000000  0.000000  0.000000  0.000000  0.0  0.0  0.0  0.0  0.0  0.0  \n",
       "5   0.000000  0.000000  0.000000  0.000000  0.0  0.0  0.0  0.0  0.0  0.0  \n",
       "6   0.000000  0.000000  0.000000  0.000000  0.0  0.0  0.0  0.0  0.0  0.0  \n",
       "7   0.000000  0.000000  0.000000  0.000000  0.0  0.0  0.0  0.0  0.0  0.0  \n",
       "8   0.776471  0.776471  0.666667  0.203922  0.0  0.0  0.0  0.0  0.0  0.0  \n",
       "9   0.898039  0.996078  0.996078  0.549020  0.0  0.0  0.0  0.0  0.0  0.0  \n",
       "10  0.082353  0.925490  0.996078  0.415686  0.0  0.0  0.0  0.0  0.0  0.0  \n",
       "11  0.325490  0.992157  0.819608  0.070588  0.0  0.0  0.0  0.0  0.0  0.0  \n",
       "12  0.913725  1.000000  0.325490  0.000000  0.0  0.0  0.0  0.0  0.0  0.0  \n",
       "13  0.996078  0.933333  0.172549  0.000000  0.0  0.0  0.0  0.0  0.0  0.0  \n",
       "14  0.996078  0.243137  0.000000  0.000000  0.0  0.0  0.0  0.0  0.0  0.0  \n",
       "15  0.733333  0.019608  0.000000  0.000000  0.0  0.0  0.0  0.0  0.0  0.0  \n",
       "16  0.227451  0.000000  0.000000  0.000000  0.0  0.0  0.0  0.0  0.0  0.0  \n",
       "17  0.000000  0.000000  0.000000  0.000000  0.0  0.0  0.0  0.0  0.0  0.0  \n",
       "18  0.000000  0.000000  0.000000  0.000000  0.0  0.0  0.0  0.0  0.0  0.0  \n",
       "19  0.000000  0.000000  0.000000  0.000000  0.0  0.0  0.0  0.0  0.0  0.0  \n",
       "20  0.000000  0.000000  0.000000  0.000000  0.0  0.0  0.0  0.0  0.0  0.0  \n",
       "21  0.000000  0.000000  0.000000  0.000000  0.0  0.0  0.0  0.0  0.0  0.0  \n",
       "22  0.000000  0.000000  0.000000  0.000000  0.0  0.0  0.0  0.0  0.0  0.0  \n",
       "23  0.000000  0.000000  0.000000  0.000000  0.0  0.0  0.0  0.0  0.0  0.0  \n",
       "24  0.000000  0.000000  0.000000  0.000000  0.0  0.0  0.0  0.0  0.0  0.0  \n",
       "25  0.000000  0.000000  0.000000  0.000000  0.0  0.0  0.0  0.0  0.0  0.0  \n",
       "26  0.000000  0.000000  0.000000  0.000000  0.0  0.0  0.0  0.0  0.0  0.0  \n",
       "27  0.000000  0.000000  0.000000  0.000000  0.0  0.0  0.0  0.0  0.0  0.0  \n",
       "\n",
       "[28 rows x 28 columns]"
      ]
     },
     "execution_count": 35,
     "metadata": {},
     "output_type": "execute_result"
    }
   ],
   "source": [
    "import pandas as pd\n",
    "a = test_x[0].reshape(28, 28)\n",
    "pd.DataFrame(a)\n"
   ]
  },
  {
   "cell_type": "code",
   "execution_count": 40,
   "id": "bc173071",
   "metadata": {
    "ExecuteTime": {
     "end_time": "2022-10-20T07:47:21.360883Z",
     "start_time": "2022-10-20T07:47:21.352518Z"
    }
   },
   "outputs": [
    {
     "data": {
      "text/plain": [
       "(100,)"
      ]
     },
     "execution_count": 40,
     "metadata": {},
     "output_type": "execute_result"
    }
   ],
   "source": [
    "# cc\n",
    "network['b2'].shape"
   ]
  },
  {
   "cell_type": "markdown",
   "id": "e51169d1",
   "metadata": {},
   "source": [
    "### 批处理"
   ]
  },
  {
   "cell_type": "code",
   "execution_count": 54,
   "id": "e74a5d94",
   "metadata": {
    "ExecuteTime": {
     "end_time": "2022-10-17T11:01:43.110343Z",
     "start_time": "2022-10-17T11:01:42.640066Z"
    }
   },
   "outputs": [
    {
     "name": "stdout",
     "output_type": "stream",
     "text": [
      "Accuracy:0.9352\n"
     ]
    }
   ],
   "source": [
    "import sys, os\n",
    "sys.path.append(os.pardir)  # 为了导入父目录的文件而进行的设定\n",
    "import numpy as np\n",
    "import pickle\n",
    "from dataset.mnist import load_mnist\n",
    "from common.functions import sigmoid, softmax\n",
    "\n",
    "\n",
    "def get_data():\n",
    "    (x_train, t_train), (x_test, t_test) = load_mnist(normalize=True, flatten=True, one_hot_label=False)\n",
    "    return x_test, t_test\n",
    "\n",
    "\n",
    "def init_network():\n",
    "    with open(\"sample_weight.pkl\", 'rb') as f:\n",
    "        network = pickle.load(f)\n",
    "    return network\n",
    "\n",
    "\n",
    "def predict(network, x):\n",
    "    w1, w2, w3 = network['W1'], network['W2'], network['W3']\n",
    "    b1, b2, b3 = network['b1'], network['b2'], network['b3']\n",
    "\n",
    "    a1 = np.dot(x, w1) + b1\n",
    "    z1 = sigmoid(a1)\n",
    "    a2 = np.dot(z1, w2) + b2\n",
    "    z2 = sigmoid(a2)\n",
    "    a3 = np.dot(z2, w3) + b3\n",
    "    y = softmax(a3)\n",
    "\n",
    "    return y\n",
    "\n",
    "\n",
    "x, t = get_data()\n",
    "network = init_network()\n",
    "\n",
    "batch_size = 100 # 批数量\n",
    "accuracy_cnt = 0\n",
    "\n",
    "for i in range(0, len(x), batch_size):\n",
    "    x_batch = x[i:i+batch_size] # for循环每次取100个，而不是每次取1个\n",
    "    y_batch = predict(network, x_batch)\n",
    "    p = np.argmax(y_batch, axis=1)\n",
    "    accuracy_cnt += np.sum(p == t[i:i+batch_size])\n",
    "\n",
    "print(\"Accuracy:\" + str(float(accuracy_cnt) / len(x))) # 和上面的结果一致"
   ]
  },
  {
   "cell_type": "code",
   "execution_count": 55,
   "id": "263a5ee0",
   "metadata": {
    "ExecuteTime": {
     "end_time": "2022-10-20T08:02:27.239916Z",
     "start_time": "2022-10-20T08:02:27.041985Z"
    }
   },
   "outputs": [],
   "source": [
    "x, _ = get_data()\n",
    "network = init_network()\n",
    "W1, W2, W3 = network['W1'], network['W2'], network['W3']\n"
   ]
  },
  {
   "cell_type": "code",
   "execution_count": 58,
   "id": "93e1146c",
   "metadata": {
    "ExecuteTime": {
     "end_time": "2022-10-20T08:02:55.572168Z",
     "start_time": "2022-10-20T08:02:55.551563Z"
    },
    "scrolled": false
   },
   "outputs": [
    {
     "data": {
      "text/plain": [
       "(10000, 784)"
      ]
     },
     "execution_count": 58,
     "metadata": {},
     "output_type": "execute_result"
    },
    {
     "data": {
      "text/plain": [
       "(784, 50)"
      ]
     },
     "execution_count": 58,
     "metadata": {},
     "output_type": "execute_result"
    },
    {
     "data": {
      "text/plain": [
       "(50, 100)"
      ]
     },
     "execution_count": 58,
     "metadata": {},
     "output_type": "execute_result"
    },
    {
     "data": {
      "text/plain": [
       "(100, 10)"
      ]
     },
     "execution_count": 58,
     "metadata": {},
     "output_type": "execute_result"
    }
   ],
   "source": [
    "x.shape\n",
    "\n",
    "W1.shape\n",
    "\n",
    "W2.shape\n",
    "\n",
    "W3.shape"
   ]
  },
  {
   "cell_type": "code",
   "execution_count": 63,
   "id": "b7ce0567",
   "metadata": {
    "ExecuteTime": {
     "end_time": "2022-10-20T08:16:21.002599Z",
     "start_time": "2022-10-20T08:16:20.642114Z"
    },
    "scrolled": false
   },
   "outputs": [
    {
     "name": "stdout",
     "output_type": "stream",
     "text": [
      "Accuracy:0.9352\n"
     ]
    }
   ],
   "source": [
    "x, t = get_data()\n",
    "network = init_network()\n",
    "\n",
    "batch_size = 100 # 批数量\n",
    "accuracy_cnt = 0\n",
    "\n",
    "for i in range(0, len(x), batch_size):\n",
    "    x_batch = x[i:i+batch_size]    \n",
    "    y_batch = predict(network, x_batch) # predict 里面点积在x 变为二维之后依然成立；\n",
    "    p = np.argmax(y_batch, axis=1)\n",
    "    accuracy_cnt += np.sum(p == t[i:i+batch_size])\n",
    "\n",
    "print(\"Accuracy:\" + str(float(accuracy_cnt) / len(x)))\n",
    "\n",
    "# 得到的结果和 不用批处理的结果一致；\n",
    "# 不用批处理的话，相当于迭代10000次，使用了批处理迭代了100次，在每次迭代中用矩阵多维计算方法实现批处理！！！\n"
   ]
  },
  {
   "cell_type": "code",
   "execution_count": 61,
   "id": "61739902",
   "metadata": {
    "ExecuteTime": {
     "end_time": "2022-10-20T08:09:04.710470Z",
     "start_time": "2022-10-20T08:09:04.700995Z"
    }
   },
   "outputs": [
    {
     "name": "stdout",
     "output_type": "stream",
     "text": [
      "0\n",
      "100\n",
      "200\n",
      "300\n",
      "400\n",
      "500\n",
      "600\n",
      "700\n",
      "800\n",
      "900\n",
      "1000\n",
      "1100\n",
      "1200\n",
      "1300\n",
      "1400\n",
      "1500\n",
      "1600\n",
      "1700\n",
      "1800\n",
      "1900\n",
      "2000\n",
      "2100\n",
      "2200\n",
      "2300\n",
      "2400\n",
      "2500\n",
      "2600\n",
      "2700\n",
      "2800\n",
      "2900\n",
      "3000\n",
      "3100\n",
      "3200\n",
      "3300\n",
      "3400\n",
      "3500\n",
      "3600\n",
      "3700\n",
      "3800\n",
      "3900\n",
      "4000\n",
      "4100\n",
      "4200\n",
      "4300\n",
      "4400\n",
      "4500\n",
      "4600\n",
      "4700\n",
      "4800\n",
      "4900\n",
      "5000\n",
      "5100\n",
      "5200\n",
      "5300\n",
      "5400\n",
      "5500\n",
      "5600\n",
      "5700\n",
      "5800\n",
      "5900\n",
      "6000\n",
      "6100\n",
      "6200\n",
      "6300\n",
      "6400\n",
      "6500\n",
      "6600\n",
      "6700\n",
      "6800\n",
      "6900\n",
      "7000\n",
      "7100\n",
      "7200\n",
      "7300\n",
      "7400\n",
      "7500\n",
      "7600\n",
      "7700\n",
      "7800\n",
      "7900\n",
      "8000\n",
      "8100\n",
      "8200\n",
      "8300\n",
      "8400\n",
      "8500\n",
      "8600\n",
      "8700\n",
      "8800\n",
      "8900\n",
      "9000\n",
      "9100\n",
      "9200\n",
      "9300\n",
      "9400\n",
      "9500\n",
      "9600\n",
      "9700\n",
      "9800\n",
      "9900\n"
     ]
    }
   ],
   "source": [
    "for i in range(0, len(x), batch_size):\n",
    "    print(i)"
   ]
  },
  {
   "cell_type": "markdown",
   "id": "c75f078d",
   "metadata": {
    "ExecuteTime": {
     "end_time": "2022-10-17T11:26:15.822604Z",
     "start_time": "2022-10-17T11:26:15.818430Z"
    }
   },
   "source": [
    "## 额外的学习"
   ]
  },
  {
   "cell_type": "markdown",
   "id": "d3925b0e",
   "metadata": {},
   "source": [
    "### 1.关于绝对路径"
   ]
  },
  {
   "cell_type": "code",
   "execution_count": 68,
   "id": "f379eed2",
   "metadata": {
    "ExecuteTime": {
     "end_time": "2022-10-17T11:35:54.793737Z",
     "start_time": "2022-10-17T11:35:54.781871Z"
    }
   },
   "outputs": [
    {
     "name": "stdout",
     "output_type": "stream",
     "text": [
      "/Users/matao/study/self_repository/deepLearning/ch03\n",
      "/Users/matao/study/self_repository/deepLearning\n",
      "/Users/matao/study/self_repository\n",
      "/Users/matao/opt/anaconda3/lib/python3.8/os.py\n"
     ]
    }
   ],
   "source": [
    "import os\n",
    "\n",
    "# 在py文件这样写，但是在notebook不行\n",
    "# dataset_dir = os.path.dirname(os.path.abspath(__file__))\n",
    "\n",
    "# 在notebook 要这样写：\n",
    "base_dir1 = os.path.dirname(os.path.realpath('file'))\n",
    "print(base_dir)\n",
    "\n",
    "base_dir2 = os.path.dirname(base_dir1)\n",
    "print(base_dir2)\n",
    "\n",
    "base_dir3 = os.path.dirname(base_dir2)\n",
    "print(base_dir3)\n",
    "\n",
    "# 获取os的路径\n",
    "path4 = os.__file__\n",
    "print(path4)\n"
   ]
  },
  {
   "cell_type": "markdown",
   "id": "c627ce61",
   "metadata": {
    "ExecuteTime": {
     "end_time": "2022-10-17T11:48:50.821513Z",
     "start_time": "2022-10-17T11:48:50.816624Z"
    }
   },
   "source": [
    "### 2.frombuffer\n",
    "\n",
    "#### 形式\n",
    "\n",
    "numpy.frombuffer(buffer, dtype=float, count=-1, offset=0)\n",
    "\n",
    "#### 解释：\n",
    "\n",
    "将缓冲区解释为一维数组。\n",
    "\n",
    "#### 参数\n",
    "\n",
    "buffer ：buffer_like，公开缓冲区接口的对象。\n",
    "\n",
    "dtype ：data-type, 可选。返回array的数据类型;默认值:float。\n",
    "\n",
    "count ：int, 可选。要阅读的条目数。-1表示缓冲区中的所有数据。\n",
    "\n",
    "offset ：int, 可选。从这个偏移量(以字节为单位)开始读取缓冲区;默认值:0。\n",
    "\n"
   ]
  },
  {
   "cell_type": "code",
   "execution_count": 72,
   "id": "e198b159",
   "metadata": {
    "ExecuteTime": {
     "end_time": "2022-10-17T11:54:59.656460Z",
     "start_time": "2022-10-17T11:54:59.636183Z"
    }
   },
   "outputs": [
    {
     "name": "stdout",
     "output_type": "stream",
     "text": [
      "<class 'bytes'>\n",
      "[1 2]\n",
      "[1 2 3]\n"
     ]
    }
   ],
   "source": [
    "s = b'hello world'\n",
    "print(type(s))\n",
    "np.frombuffer(s, dtype='S1', count=5, offset=6)\n",
    "\n",
    "\n",
    "b = np.frombuffer(b'\\x01\\x02', dtype=np.uint8)\n",
    "print(b)\n",
    "\n",
    "c = np.frombuffer(b'\\x01\\x02\\x03\\x04\\x05', dtype=np.uint8, count=3)\n",
    "print(c)"
   ]
  },
  {
   "cell_type": "markdown",
   "id": "ea32f338",
   "metadata": {},
   "source": [
    "### 3. reshape(-1)"
   ]
  },
  {
   "cell_type": "code",
   "execution_count": 74,
   "id": "29824c1b",
   "metadata": {
    "ExecuteTime": {
     "end_time": "2022-10-17T12:00:27.179091Z",
     "start_time": "2022-10-17T12:00:27.169140Z"
    }
   },
   "outputs": [
    {
     "name": "stdout",
     "output_type": "stream",
     "text": [
      "[1 2 3 4 5 6]\n",
      "[[1 2]\n",
      " [3 4]\n",
      " [5 6]]\n",
      "(3, 2)\n"
     ]
    }
   ],
   "source": [
    "c = np.array([1,2,3,4,5,6])\n",
    "d = c.reshape(-1, 2) # -1 代表“待定”，根据第二个数字（2）再推算得出。\n",
    "print(c)\n",
    "print(d)\n",
    "print(d.shape)"
   ]
  },
  {
   "cell_type": "code",
   "execution_count": 79,
   "id": "06857639",
   "metadata": {
    "ExecuteTime": {
     "end_time": "2022-10-17T12:04:16.650471Z",
     "start_time": "2022-10-17T12:04:16.612671Z"
    }
   },
   "outputs": [
    {
     "name": "stdout",
     "output_type": "stream",
     "text": [
      "[[ 1  2]\n",
      " [ 3  4]\n",
      " [ 5  6]\n",
      " [ 7  8]\n",
      " [ 9 10]\n",
      " [11 12]]\n",
      "[[ 1  2  3]\n",
      " [ 4  5  6]\n",
      " [ 7  8  9]\n",
      " [10 11 12]]\n"
     ]
    },
    {
     "ename": "ValueError",
     "evalue": "cannot reshape array of size 12 into shape (5)",
     "output_type": "error",
     "traceback": [
      "\u001b[0;31m---------------------------------------------------------------------------\u001b[0m",
      "\u001b[0;31mValueError\u001b[0m                                Traceback (most recent call last)",
      "\u001b[0;32m<ipython-input-79-ace4026f443e>\u001b[0m in \u001b[0;36m<module>\u001b[0;34m\u001b[0m\n\u001b[1;32m      8\u001b[0m \u001b[0mprint\u001b[0m\u001b[0;34m(\u001b[0m\u001b[0me\u001b[0m\u001b[0;34m)\u001b[0m\u001b[0;34m\u001b[0m\u001b[0;34m\u001b[0m\u001b[0m\n\u001b[1;32m      9\u001b[0m \u001b[0;34m\u001b[0m\u001b[0m\n\u001b[0;32m---> 10\u001b[0;31m \u001b[0mf\u001b[0m \u001b[0;34m=\u001b[0m \u001b[0mc\u001b[0m\u001b[0;34m.\u001b[0m\u001b[0mreshape\u001b[0m\u001b[0;34m(\u001b[0m\u001b[0;34m-\u001b[0m\u001b[0;36m1\u001b[0m\u001b[0;34m,\u001b[0m \u001b[0;36m5\u001b[0m\u001b[0;34m)\u001b[0m\u001b[0;34m\u001b[0m\u001b[0;34m\u001b[0m\u001b[0m\n\u001b[0m\u001b[1;32m     11\u001b[0m \u001b[0mprint\u001b[0m\u001b[0;34m(\u001b[0m\u001b[0mf\u001b[0m\u001b[0;34m)\u001b[0m\u001b[0;34m\u001b[0m\u001b[0;34m\u001b[0m\u001b[0m\n",
      "\u001b[0;31mValueError\u001b[0m: cannot reshape array of size 12 into shape (5)"
     ]
    }
   ],
   "source": [
    "# reshape(-1, n) 变成 (total/n, n)\n",
    "\n",
    "c = np.array([1,2,3,4,5,6,7,8,9,10,11,12])\n",
    "d = c.reshape(-1, 2)\n",
    "print(d)\n",
    "\n",
    "e = c.reshape(-1, 3)\n",
    "print(e)\n",
    "\n",
    "f = c.reshape(-1, 5) # 当12个元素并不能重组成 ?×5 的结构是会报错\n",
    "print(f)"
   ]
  },
  {
   "cell_type": "markdown",
   "id": "2b40999f",
   "metadata": {},
   "source": [
    "### 4. 关于one hot实现"
   ]
  },
  {
   "cell_type": "code",
   "execution_count": 85,
   "id": "06f79346",
   "metadata": {
    "ExecuteTime": {
     "end_time": "2022-10-17T12:14:25.978903Z",
     "start_time": "2022-10-17T12:14:25.957568Z"
    }
   },
   "outputs": [
    {
     "name": "stdout",
     "output_type": "stream",
     "text": [
      "4\n",
      "[[0. 0. 0. 0. 0. 0. 0. 0. 0. 0.]\n",
      " [0. 0. 0. 0. 0. 0. 0. 0. 0. 0.]\n",
      " [0. 0. 0. 0. 0. 0. 0. 0. 0. 0.]\n",
      " [0. 0. 0. 0. 0. 0. 0. 0. 0. 0.]]\n",
      "0\n",
      "[0. 0. 0. 0. 0. 0. 0. 0. 0. 0.]\n",
      "[0. 1. 0. 0. 0. 0. 0. 0. 0. 0.]\n",
      "1\n",
      "[0. 0. 0. 0. 0. 0. 0. 0. 0. 0.]\n",
      "[0. 0. 1. 0. 0. 0. 0. 0. 0. 0.]\n",
      "2\n",
      "[0. 0. 0. 0. 0. 0. 0. 0. 0. 0.]\n",
      "[0. 0. 0. 1. 0. 0. 0. 0. 0. 0.]\n",
      "3\n",
      "[0. 0. 0. 0. 0. 0. 0. 0. 0. 0.]\n",
      "[0. 1. 0. 0. 0. 0. 0. 0. 0. 0.]\n"
     ]
    }
   ],
   "source": [
    "X = np.array([1,2,3,1])\n",
    "print(X.size)\n",
    "\n",
    "T = np.zeros((X.size, 10))\n",
    "print(T)\n",
    "\n",
    "for idx, row in enumerate(T):\n",
    "    print(idx)\n",
    "    print(row)\n",
    "    row[X[idx]] = 1\n",
    "    print(row)\n",
    "    "
   ]
  },
  {
   "cell_type": "code",
   "execution_count": null,
   "id": "2528ffde",
   "metadata": {},
   "outputs": [],
   "source": []
  },
  {
   "cell_type": "code",
   "execution_count": null,
   "id": "5ab8d65e",
   "metadata": {},
   "outputs": [],
   "source": []
  },
  {
   "cell_type": "code",
   "execution_count": null,
   "id": "adb95c36",
   "metadata": {},
   "outputs": [],
   "source": []
  }
 ],
 "metadata": {
  "kernelspec": {
   "display_name": "Python 3",
   "language": "python",
   "name": "python3"
  },
  "language_info": {
   "codemirror_mode": {
    "name": "ipython",
    "version": 3
   },
   "file_extension": ".py",
   "mimetype": "text/x-python",
   "name": "python",
   "nbconvert_exporter": "python",
   "pygments_lexer": "ipython3",
   "version": "3.8.8"
  },
  "toc": {
   "base_numbering": 1,
   "nav_menu": {},
   "number_sections": true,
   "sideBar": true,
   "skip_h1_title": false,
   "title_cell": "Table of Contents",
   "title_sidebar": "Contents",
   "toc_cell": false,
   "toc_position": {},
   "toc_section_display": true,
   "toc_window_display": true
  }
 },
 "nbformat": 4,
 "nbformat_minor": 5
}
