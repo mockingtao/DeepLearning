{
 "cells": [
  {
   "cell_type": "code",
   "execution_count": 19,
   "id": "08374636",
   "metadata": {
    "ExecuteTime": {
     "end_time": "2022-10-16T09:33:32.107466Z",
     "start_time": "2022-10-16T09:33:32.101180Z"
    }
   },
   "outputs": [],
   "source": [
    "import numpy as np\n",
    "import matplotlib.pylab as plt\n",
    "import pickle"
   ]
  },
  {
   "cell_type": "markdown",
   "id": "ab98dbd5",
   "metadata": {},
   "source": [
    "会将输入信号的总和转换为输出信号，这种函数一般称为激活函数（activation function）。\n",
    "\n",
    "如“激活”一词所示，激活函数的作用在于决定如何来激活输入信号的总和。\n",
    "\n",
    "感知机中使用了阶跃函数作为激活函数;"
   ]
  },
  {
   "cell_type": "markdown",
   "id": "70ca9f78",
   "metadata": {},
   "source": [
    "## 阶跃函数"
   ]
  },
  {
   "cell_type": "code",
   "execution_count": 4,
   "id": "0d6ff65a",
   "metadata": {
    "ExecuteTime": {
     "end_time": "2022-10-16T08:36:07.740484Z",
     "start_time": "2022-10-16T08:36:07.735685Z"
    }
   },
   "outputs": [],
   "source": [
    "# 阶跃函数\n",
    "def step_function(x):\n",
    "    return np.array(x>0, dtype='int')\n",
    "\n",
    "x = np.arange(-5.0, 5.0, 0.1)\n",
    "y = step_function(x)"
   ]
  },
  {
   "cell_type": "code",
   "execution_count": 5,
   "id": "b3b263ca",
   "metadata": {
    "ExecuteTime": {
     "end_time": "2022-10-16T08:36:37.139003Z",
     "start_time": "2022-10-16T08:36:36.916970Z"
    },
    "scrolled": true
   },
   "outputs": [
    {
     "data": {
      "image/png": "[encoded data removed]",
      "text/plain": [
       "<Figure size 432x288 with 1 Axes>"
      ]
     },
     "metadata": {
      "needs_background": "light"
     },
     "output_type": "display_data"
    }
   ],
   "source": [
    "plt.plot(x, y)\n",
    "plt.ylim(-0.1, 1.1) # 指定y轴的范围\n",
    "plt.show()"
   ]
  },
  {
   "cell_type": "markdown",
   "id": "1d61d20d",
   "metadata": {},
   "source": [
    "## sigmoid函数\n",
    "\n",
    "如果果将激活函数从阶跃函数换成其他函数，就可以进入神经网络的世界了。\n",
    "\n",
    "神经网络中经常使用的一个激活函数就是sigmoid函数（sigmoid function）。"
   ]
  },
  {
   "cell_type": "markdown",
   "id": "76a0df40",
   "metadata": {},
   "source": [
    "cc：np.exp()函数是求 $e^x$ 的值的函数\n",
    "\n",
    "\n",
    "$$sigmoid =  \\frac{1}{1-e^x}$$\n",
    "\n",
    "\n",
    "sigmoid函数的平滑性对神经网络的学习具有重要意义。\n",
    "\n",
    "向sigmoid函数输入1.0或2.0后，就会有某个值被输出，类似h(1.0) = 0.731 ...、h(2.0) = 0.880 ...这样。"
   ]
  },
  {
   "cell_type": "code",
   "execution_count": 7,
   "id": "fa384d2c",
   "metadata": {
    "ExecuteTime": {
     "end_time": "2022-10-16T08:47:14.700573Z",
     "start_time": "2022-10-16T08:47:14.555032Z"
    }
   },
   "outputs": [
    {
     "data": {
      "image/png": "[encoded data removed]",
      "text/plain": [
       "<Figure size 432x288 with 1 Axes>"
      ]
     },
     "metadata": {
      "needs_background": "light"
     },
     "output_type": "display_data"
    }
   ],
   "source": [
    "def sigmoid(x):\n",
    "    return  1 / (1 + np.exp(-x)) \n",
    "\n",
    "x = np.arange(-5.0, 5.0, 0.1)\n",
    "y = sigmoid(x)\n",
    "\n",
    "plt.plot(x, y)\n",
    "plt.ylim(-0.1, 1.1) # 指定y轴的范围\n",
    "plt.show()\n"
   ]
  },
  {
   "cell_type": "markdown",
   "id": "8e30ab29",
   "metadata": {},
   "source": [
    "### sigmoid函数和阶跃函数的比较\n",
    "\n",
    "#### 区别\n",
    "1. 首先注意到的是“平滑性”的不同。sigmoid函数是一条平滑的曲线，输出随着输入发生连续性的变化。而阶跃函数以0为界，输出发生急剧性的变化;\n",
    "2. 相对于阶跃函数只能返回0或1，sigmoid函数可以返回0.731 ...、0.880 ...等实数（这一点和刚才的平滑性有关）。也就是说，感知机中神经元之间流动的是0或1的二元信号，而神经网络中流动的是连续的实数值信号;\n",
    "\n",
    "#### 共性\n",
    "1. 两者的结构均是“输入较小时，输出接近0（为0）；随着输入增大，输出向1靠近（变成1）”。也就是说，当输入信号为重要信息时，阶跃函数和sigmoid函数都会输出较大的值；当输入信号为不重要的信息时，两者都输出较小的值；\n",
    "2. 不管输入信号有多小，或者有多大，输出信号的值都在0到1之间；\n",
    "3. 两者均为非线性函数；\n"
   ]
  },
  {
   "cell_type": "markdown",
   "id": "3692aaaa",
   "metadata": {},
   "source": [
    "## ReLU函数"
   ]
  },
  {
   "cell_type": "code",
   "execution_count": 25,
   "id": "f6b96189",
   "metadata": {
    "ExecuteTime": {
     "end_time": "2022-10-17T08:49:00.704739Z",
     "start_time": "2022-10-17T08:49:00.482130Z"
    }
   },
   "outputs": [
    {
     "data": {
      "image/png": "[encoded data removed]",
      "text/plain": [
       "<Figure size 432x288 with 1 Axes>"
      ]
     },
     "metadata": {
      "needs_background": "light"
     },
     "output_type": "display_data"
    }
   ],
   "source": [
    "def relu(x):\n",
    "    return np.maximum(0,x)\n",
    "\n",
    "x = np.arange(-5.0, 5.0, 0.1)\n",
    "y = relu(x)\n",
    "plt.plot(x, y)\n",
    "plt.ylim(-1.0, 5.5)\n",
    "plt.show()"
   ]
  },
  {
   "cell_type": "markdown",
   "id": "d34d70c0",
   "metadata": {},
   "source": [
    "## 插播知识点：多维数组的运算"
   ]
  },
  {
   "cell_type": "code",
   "execution_count": 26,
   "id": "23cf85ca",
   "metadata": {
    "ExecuteTime": {
     "end_time": "2022-10-17T08:49:00.803808Z",
     "start_time": "2022-10-17T08:49:00.794681Z"
    }
   },
   "outputs": [
    {
     "name": "stdout",
     "output_type": "stream",
     "text": [
      "1\n",
      "(4,)\n"
     ]
    }
   ],
   "source": [
    "A = np.array([1, 2, 3, 4])\n",
    "print(np.ndim(A))\n",
    "print(A.shape)"
   ]
  },
  {
   "cell_type": "code",
   "execution_count": 15,
   "id": "f0f2139e",
   "metadata": {
    "ExecuteTime": {
     "end_time": "2022-10-16T09:10:16.310184Z",
     "start_time": "2022-10-16T09:10:16.302174Z"
    }
   },
   "outputs": [
    {
     "name": "stdout",
     "output_type": "stream",
     "text": [
      "2\n",
      "(3, 2)\n"
     ]
    }
   ],
   "source": [
    "B = np.array([[1,2], [3,4], [5,6]])\n",
    "print(np.ndim(B))\n",
    "print(B.shape)"
   ]
  },
  {
   "cell_type": "code",
   "execution_count": 17,
   "id": "79a3298c",
   "metadata": {
    "ExecuteTime": {
     "end_time": "2022-10-16T09:13:10.650643Z",
     "start_time": "2022-10-16T09:13:10.641342Z"
    }
   },
   "outputs": [
    {
     "data": {
      "text/plain": [
       "array([[19, 22],\n",
       "       [43, 50]])"
      ]
     },
     "execution_count": 17,
     "metadata": {},
     "output_type": "execute_result"
    }
   ],
   "source": [
    "A = np.array([[1,2], [3,4]])\n",
    "B = np.array([[5,6], [7,8]])\n",
    "np.dot(A, B)\n",
    "\n",
    "# cc：np.dot()接收两个NumPy数组作为参数，并返回数组的乘积。\n",
    "# 这里要注意的是，np.dot(A, B)和np.dot(B, A)的值可能不一样。\n",
    "# 和一般的运算（+或*等）不同，矩阵的乘积运算中，操作数（A、 B）的顺序不同，结果也会不同。\n",
    "# 在多维数组的乘积运算中，必须使两个矩阵中的对应维度的元素个数一致，这一点很重要！"
   ]
  },
  {
   "cell_type": "markdown",
   "id": "8b76fb14",
   "metadata": {},
   "source": [
    "## 3层神经网络的实现"
   ]
  },
  {
   "cell_type": "code",
   "execution_count": 23,
   "id": "a525b39d",
   "metadata": {
    "ExecuteTime": {
     "end_time": "2022-10-17T08:07:01.131961Z",
     "start_time": "2022-10-17T08:07:01.112064Z"
    }
   },
   "outputs": [
    {
     "name": "stdout",
     "output_type": "stream",
     "text": [
      "[0.31682708 0.69627909]\n"
     ]
    }
   ],
   "source": [
    "# 对网的权重进行初始值定义。\n",
    "def init_network():\n",
    "    network = {}\n",
    "    network['W1'] = np.array([[0.1, 0.3, 0.5], [0.2, 0.4, 0.6]])\n",
    "    network['b1'] = np.array([0.1, 0.2, 0.3])\n",
    "    network['W2'] = np.array([[0.1, 0.4], [0.2, 0.5], [0.3, 0.6]])\n",
    "    network['b2'] = np.array([0.1, 0.2])\n",
    "    network['W3'] = np.array([[0.1, 0.3], [0.2, 0.4]])\n",
    "    network['b3'] = np.array([0.1, 0.2])\n",
    "\n",
    "    return network\n",
    "\n",
    "# 定义恒等函数\n",
    "def identity_function(x):\n",
    "    return x\n",
    "\n",
    "# 前向推进的过程；\n",
    "def forward(network, x):\n",
    "    W1, W2, W3 = network['W1'], network['W2'], network['W3']\n",
    "    b1, b2, b3 = network['b1'], network['b2'], network['b3']\n",
    "    a1 = np.dot(x, W1) + b1\n",
    "    z1 = sigmoid(a1)\n",
    "    a2 = np.dot(z1, W2) + b2\n",
    "    z2 = sigmoid(a2)\n",
    "    a3 = np.dot(z2, W3) + b3\n",
    "    y = identity_function(a3)\n",
    "    return y\n",
    "\n",
    "# 调用函数\n",
    "network = init_network()\n",
    "x = np.array([1.0, 0.5])\n",
    "y = forward(network, x)\n",
    "print(y) # [ 0.31682708 0.69627909]"
   ]
  },
  {
   "cell_type": "code",
   "execution_count": null,
   "id": "06eab90b",
   "metadata": {},
   "outputs": [],
   "source": [
    "# 总结一下思路：\n",
    "\n",
    "# 1. 每一层有两个步骤计算：\n",
    "# （1）、先做线性计算；\n",
    "# （2）、再做激活函数计算；"
   ]
  },
  {
   "cell_type": "markdown",
   "id": "20a3f31b",
   "metadata": {},
   "source": [
    "## softmax 函数\n",
    "\n",
    "神经网络可以用在分类问题和回归问题上，不过需要根据情况改变输出层的激活函数。\n",
    "\n",
    "一般而言，回归问题用恒等函数，分类问题用softmax函数。\n",
    "\n",
    "#### softmax 函数的意义/目的：\n",
    "1. 输出y 加总之后和为1。。。。，这是为了归一化？？？\n",
    "2. 可能和求导有关。。。\n",
    "\n",
    "#### softmax 函数的特性\n",
    "1. softmax函数的输出是0.0到1.0之间的实数。并且，softmax 函数的输出值的总和是1。因为有了这个性质，我们才可以把softmax函数的输出解释为“概率”。\n",
    "2. 各个元素之间的大小关系也不会改变。这是因为指数函数（y = exp(x)）是单调递增函数。比如，a的最大值是第2个元素，y的最大值也仍是第2个元素。神经网络只把输出值最大的神经元所对应的类别作为识别结果。\n"
   ]
  },
  {
   "cell_type": "code",
   "execution_count": 24,
   "id": "4cc76cf6",
   "metadata": {
    "ExecuteTime": {
     "end_time": "2022-10-17T08:23:04.065129Z",
     "start_time": "2022-10-17T08:23:04.054480Z"
    }
   },
   "outputs": [
    {
     "name": "stdout",
     "output_type": "stream",
     "text": [
      "[0.01821127 0.24519181 0.73659691]\n",
      "1.0\n"
     ]
    }
   ],
   "source": [
    "def softmax_old(a):\n",
    "    exp_a = np.exp(a)\n",
    "    sum_exp_a = np.sum(exp_a)\n",
    "    y = exp_a / sum_exp_a\n",
    "    return y\n",
    "\n",
    "# 优化：解决 溢出问题\n",
    "def softmax(a):\n",
    "    c = np.max(a)\n",
    "    exp_a = np.exp(a - c) # 解决溢出，加入一个常数（为负数），因为是分子分母同乘对结果没有影响；但是可以解决分子过大导致溢出问题；\n",
    "    sum_exp_a = np.sum(exp_a)\n",
    "    y = exp_a / sum_exp_a\n",
    "    return y\n",
    "\n",
    "a = np.array([0.3, 2.9, 4.0])\n",
    "y = softmax(a)\n",
    "print(y)\n",
    "print(np.sum(y))"
   ]
  },
  {
   "cell_type": "code",
   "execution_count": 32,
   "id": "3d0114bf",
   "metadata": {
    "ExecuteTime": {
     "end_time": "2022-10-17T09:27:20.195561Z",
     "start_time": "2022-10-17T09:27:20.018547Z"
    }
   },
   "outputs": [
    {
     "name": "stdout",
     "output_type": "stream",
     "text": [
      "[7.80134161e-05 2.12062451e-04 5.76445508e-04 1.56694135e-03\n",
      " 4.25938820e-03 1.15782175e-02 3.14728583e-02 8.55520989e-02\n",
      " 2.32554716e-01 6.32149258e-01]\n",
      "[0.         0.02222222 0.04444444 0.06666667 0.08888889 0.11111111\n",
      " 0.13333333 0.15555556 0.17777778 0.2       ]\n"
     ]
    },
    {
     "data": {
      "text/plain": [
       "[<matplotlib.lines.Line2D at 0x7fdcf7137550>,\n",
       " <matplotlib.lines.Line2D at 0x7fdcf7137580>]"
      ]
     },
     "execution_count": 32,
     "metadata": {},
     "output_type": "execute_result"
    },
    {
     "data": {
      "image/png": "[encoded data removed]",
      "text/plain": [
       "<Figure size 432x288 with 1 Axes>"
      ]
     },
     "metadata": {
      "needs_background": "light"
     },
     "output_type": "display_data"
    }
   ],
   "source": [
    "# 多分类，对比softmax与线性的求和表现\n",
    "\n",
    "%matplotlib inline\n",
    "import numpy as np\n",
    "import matplotlib.pylab as plt\n",
    "\n",
    "x = np.arange(10)\n",
    "e = softmax(x)\n",
    "print(e)\n",
    "f = x/np.sum(x)\n",
    "print(f)\n",
    "\n",
    "plt.plot(x, e, x, f)\n",
    "\n",
    "# 总结：softmax 能够很明显体现出最大值。"
   ]
  },
  {
   "cell_type": "markdown",
   "id": "0c2b7f41",
   "metadata": {
    "ExecuteTime": {
     "end_time": "2022-10-17T10:36:29.992465Z",
     "start_time": "2022-10-17T10:36:29.973403Z"
    }
   },
   "source": [
    "## 利用神经网络进行“手写数字识别”"
   ]
  },
  {
   "cell_type": "markdown",
   "id": "61c7a5a9",
   "metadata": {
    "ExecuteTime": {
     "end_time": "2022-10-17T10:46:55.025623Z",
     "start_time": "2022-10-17T10:46:55.019110Z"
    }
   },
   "source": [
    "### MNIST数据集 导入"
   ]
  },
  {
   "cell_type": "code",
   "execution_count": 36,
   "id": "4eb848ab",
   "metadata": {
    "ExecuteTime": {
     "end_time": "2022-10-17T10:38:29.662657Z",
     "start_time": "2022-10-17T10:38:14.955939Z"
    }
   },
   "outputs": [
    {
     "name": "stdout",
     "output_type": "stream",
     "text": [
      "Downloading train-images-idx3-ubyte.gz ... \n",
      "Done\n",
      "Downloading train-labels-idx1-ubyte.gz ... \n",
      "Done\n",
      "Downloading t10k-images-idx3-ubyte.gz ... \n",
      "Done\n",
      "Downloading t10k-labels-idx1-ubyte.gz ... \n",
      "Done\n",
      "Converting train-images-idx3-ubyte.gz to NumPy Array ...\n",
      "Done\n",
      "Converting train-labels-idx1-ubyte.gz to NumPy Array ...\n",
      "Done\n",
      "Converting t10k-images-idx3-ubyte.gz to NumPy Array ...\n",
      "Done\n",
      "Converting t10k-labels-idx1-ubyte.gz to NumPy Array ...\n",
      "Done\n",
      "Creating pickle file ...\n",
      "Done!\n"
     ]
    }
   ],
   "source": [
    "import sys, os\n",
    "sys.path.append(os.pardir)  # 为了导入父目录的文件而进行的设定\n",
    "import numpy as np\n",
    "from dataset.mnist import load_mnist\n",
    "from PIL import Image\n",
    "\n",
    "def img_show(img):\n",
    "    pil_img = Image.fromarray(np.uint8(img))\n",
    "    pil_img.show()\n",
    "\n",
    "(x_train, t_train), (x_test, t_test) = load_mnist(flatten=True, normalize=False)\n",
    "\n",
    "img = x_train[0]\n",
    "label = t_train[0]\n",
    "print(label)  # 5\n",
    "\n",
    "print(img.shape)  # (784,)\n",
    "img = img.reshape(28, 28)  # 把图像的形状变为原来的尺寸\n",
    "print(img.shape)  # (28, 28)\n",
    "\n",
    "img_show(img)"
   ]
  },
  {
   "cell_type": "markdown",
   "id": "504ac17a",
   "metadata": {},
   "source": [
    "### 神经网络的推理处理"
   ]
  },
  {
   "cell_type": "code",
   "execution_count": 56,
   "id": "8524d9b3",
   "metadata": {
    "ExecuteTime": {
     "end_time": "2022-10-17T11:16:12.747812Z",
     "start_time": "2022-10-17T11:16:11.725469Z"
    }
   },
   "outputs": [
    {
     "name": "stdout",
     "output_type": "stream",
     "text": [
      "(10000, 784)\n",
      "(10000,)\n",
      "Accuracy:0.9352\n"
     ]
    }
   ],
   "source": [
    "import sys, os\n",
    "sys.path.append(os.pardir)  # 为了导入父目录的文件而进行的设定\n",
    "import numpy as np\n",
    "import pickle\n",
    "from dataset.mnist import load_mnist\n",
    "from common.functions import sigmoid, softmax\n",
    "\n",
    "def get_data():\n",
    "    (x_train, t_train), (x_test, t_test) = load_mnist(normalize=True, flatten=True, one_hot_label=False)\n",
    "    return x_test, t_test\n",
    "\n",
    "def init_network():\n",
    "    with open(\"sample_weight.pkl\", 'rb') as f:\n",
    "        network = pickle.load(f)\n",
    "    return network\n",
    "\n",
    "def predict(network, x):\n",
    "    W1, W2, W3 = network['W1'], network['W2'], network['W3']\n",
    "    b1, b2, b3 = network['b1'], network['b2'], network['b3']\n",
    "\n",
    "    a1 = np.dot(x, W1) + b1\n",
    "    z1 = sigmoid(a1)\n",
    "    a2 = np.dot(z1, W2) + b2\n",
    "    z2 = sigmoid(a2) # sigmoid 做激活函数\n",
    "    a3 = np.dot(z2, W3) + b3\n",
    "    y = softmax(a3) # softmax 做输出函数\n",
    "\n",
    "    return y\n",
    "\n",
    "x, t = get_data()\n",
    "print(x.shape) # 10000张图片，每张图片28*28像素\n",
    "print(t.shape) # 10000张图片对应的标签\n",
    "\n",
    "network = init_network()\n",
    "accuracy_cnt = 0\n",
    "for i in range(len(x)):\n",
    "    y = predict(network, x[i]) # 每个x在0~9的概率\n",
    "    p= np.argmax(y) # 获取概率最高的元素的索引，cc：刚好这里索引对应的就是数字\n",
    "    if p == t[i]: # 然后和t[i]的标签进行对比；\n",
    "        accuracy_cnt += 1\n",
    "\n",
    "print(\"Accuracy:\" + str(float(accuracy_cnt) / len(x)))"
   ]
  },
  {
   "cell_type": "markdown",
   "id": "e51169d1",
   "metadata": {},
   "source": [
    "### 批处理"
   ]
  },
  {
   "cell_type": "code",
   "execution_count": 54,
   "id": "e74a5d94",
   "metadata": {
    "ExecuteTime": {
     "end_time": "2022-10-17T11:01:43.110343Z",
     "start_time": "2022-10-17T11:01:42.640066Z"
    }
   },
   "outputs": [
    {
     "name": "stdout",
     "output_type": "stream",
     "text": [
      "Accuracy:0.9352\n"
     ]
    }
   ],
   "source": [
    "import sys, os\n",
    "sys.path.append(os.pardir)  # 为了导入父目录的文件而进行的设定\n",
    "import numpy as np\n",
    "import pickle\n",
    "from dataset.mnist import load_mnist\n",
    "from common.functions import sigmoid, softmax\n",
    "\n",
    "\n",
    "def get_data():\n",
    "    (x_train, t_train), (x_test, t_test) = load_mnist(normalize=True, flatten=True, one_hot_label=False)\n",
    "    return x_test, t_test\n",
    "\n",
    "\n",
    "def init_network():\n",
    "    with open(\"sample_weight.pkl\", 'rb') as f:\n",
    "        network = pickle.load(f)\n",
    "    return network\n",
    "\n",
    "\n",
    "def predict(network, x):\n",
    "    w1, w2, w3 = network['W1'], network['W2'], network['W3']\n",
    "    b1, b2, b3 = network['b1'], network['b2'], network['b3']\n",
    "\n",
    "    a1 = np.dot(x, w1) + b1\n",
    "    z1 = sigmoid(a1)\n",
    "    a2 = np.dot(z1, w2) + b2\n",
    "    z2 = sigmoid(a2)\n",
    "    a3 = np.dot(z2, w3) + b3\n",
    "    y = softmax(a3)\n",
    "\n",
    "    return y\n",
    "\n",
    "\n",
    "x, t = get_data()\n",
    "network = init_network()\n",
    "\n",
    "batch_size = 100 # 批数量\n",
    "accuracy_cnt = 0\n",
    "\n",
    "for i in range(0, len(x), batch_size):\n",
    "    x_batch = x[i:i+batch_size] # for循环每次取100个，而不是每次取1个\n",
    "    y_batch = predict(network, x_batch)\n",
    "    p = np.argmax(y_batch, axis=1)\n",
    "    accuracy_cnt += np.sum(p == t[i:i+batch_size])\n",
    "\n",
    "print(\"Accuracy:\" + str(float(accuracy_cnt) / len(x))) # 和上面的结果一致"
   ]
  },
  {
   "cell_type": "markdown",
   "id": "c75f078d",
   "metadata": {
    "ExecuteTime": {
     "end_time": "2022-10-17T11:26:15.822604Z",
     "start_time": "2022-10-17T11:26:15.818430Z"
    }
   },
   "source": [
    "## 额外的学习"
   ]
  },
  {
   "cell_type": "markdown",
   "id": "d3925b0e",
   "metadata": {},
   "source": [
    "### 1.关于绝对路径"
   ]
  },
  {
   "cell_type": "code",
   "execution_count": 68,
   "id": "f379eed2",
   "metadata": {
    "ExecuteTime": {
     "end_time": "2022-10-17T11:35:54.793737Z",
     "start_time": "2022-10-17T11:35:54.781871Z"
    }
   },
   "outputs": [
    {
     "name": "stdout",
     "output_type": "stream",
     "text": [
      "/Users/matao/study/self_repository/deepLearning/ch03\n",
      "/Users/matao/study/self_repository/deepLearning\n",
      "/Users/matao/study/self_repository\n",
      "/Users/matao/opt/anaconda3/lib/python3.8/os.py\n"
     ]
    }
   ],
   "source": [
    "import os\n",
    "\n",
    "# 在py文件这样写，但是在notebook不行\n",
    "# dataset_dir = os.path.dirname(os.path.abspath(__file__))\n",
    "\n",
    "# 在notebook 要这样写：\n",
    "base_dir1 = os.path.dirname(os.path.realpath('file'))\n",
    "print(base_dir)\n",
    "\n",
    "base_dir2 = os.path.dirname(base_dir1)\n",
    "print(base_dir2)\n",
    "\n",
    "base_dir3 = os.path.dirname(base_dir2)\n",
    "print(base_dir3)\n",
    "\n",
    "# 获取os的路径\n",
    "path4 = os.__file__\n",
    "print(path4)\n"
   ]
  },
  {
   "cell_type": "markdown",
   "id": "c627ce61",
   "metadata": {
    "ExecuteTime": {
     "end_time": "2022-10-17T11:48:50.821513Z",
     "start_time": "2022-10-17T11:48:50.816624Z"
    }
   },
   "source": [
    "### 2.frombuffer\n",
    "\n",
    "#### 形式\n",
    "\n",
    "numpy.frombuffer(buffer, dtype=float, count=-1, offset=0)\n",
    "\n",
    "#### 解释：\n",
    "\n",
    "将缓冲区解释为一维数组。\n",
    "\n",
    "#### 参数\n",
    "\n",
    "buffer ：buffer_like，公开缓冲区接口的对象。\n",
    "\n",
    "dtype ：data-type, 可选。返回array的数据类型;默认值:float。\n",
    "\n",
    "count ：int, 可选。要阅读的条目数。-1表示缓冲区中的所有数据。\n",
    "\n",
    "offset ：int, 可选。从这个偏移量(以字节为单位)开始读取缓冲区;默认值:0。\n",
    "\n"
   ]
  },
  {
   "cell_type": "code",
   "execution_count": 72,
   "id": "e198b159",
   "metadata": {
    "ExecuteTime": {
     "end_time": "2022-10-17T11:54:59.656460Z",
     "start_time": "2022-10-17T11:54:59.636183Z"
    }
   },
   "outputs": [
    {
     "name": "stdout",
     "output_type": "stream",
     "text": [
      "<class 'bytes'>\n",
      "[1 2]\n",
      "[1 2 3]\n"
     ]
    }
   ],
   "source": [
    "s = b'hello world'\n",
    "print(type(s))\n",
    "np.frombuffer(s, dtype='S1', count=5, offset=6)\n",
    "\n",
    "\n",
    "b = np.frombuffer(b'\\x01\\x02', dtype=np.uint8)\n",
    "print(b)\n",
    "\n",
    "c = np.frombuffer(b'\\x01\\x02\\x03\\x04\\x05', dtype=np.uint8, count=3)\n",
    "print(c)"
   ]
  },
  {
   "cell_type": "markdown",
   "id": "ea32f338",
   "metadata": {},
   "source": [
    "### 3. reshape(-1)"
   ]
  },
  {
   "cell_type": "code",
   "execution_count": 74,
   "id": "29824c1b",
   "metadata": {
    "ExecuteTime": {
     "end_time": "2022-10-17T12:00:27.179091Z",
     "start_time": "2022-10-17T12:00:27.169140Z"
    }
   },
   "outputs": [
    {
     "name": "stdout",
     "output_type": "stream",
     "text": [
      "[1 2 3 4 5 6]\n",
      "[[1 2]\n",
      " [3 4]\n",
      " [5 6]]\n",
      "(3, 2)\n"
     ]
    }
   ],
   "source": [
    "c = np.array([1,2,3,4,5,6])\n",
    "d = c.reshape(-1, 2) # -1 代表“待定”，根据第二个数字（2）再推算得出。\n",
    "print(c)\n",
    "print(d)\n",
    "print(d.shape)"
   ]
  },
  {
   "cell_type": "code",
   "execution_count": 79,
   "id": "06857639",
   "metadata": {
    "ExecuteTime": {
     "end_time": "2022-10-17T12:04:16.650471Z",
     "start_time": "2022-10-17T12:04:16.612671Z"
    }
   },
   "outputs": [
    {
     "name": "stdout",
     "output_type": "stream",
     "text": [
      "[[ 1  2]\n",
      " [ 3  4]\n",
      " [ 5  6]\n",
      " [ 7  8]\n",
      " [ 9 10]\n",
      " [11 12]]\n",
      "[[ 1  2  3]\n",
      " [ 4  5  6]\n",
      " [ 7  8  9]\n",
      " [10 11 12]]\n"
     ]
    },
    {
     "ename": "ValueError",
     "evalue": "cannot reshape array of size 12 into shape (5)",
     "output_type": "error",
     "traceback": [
      "\u001b[0;31m---------------------------------------------------------------------------\u001b[0m",
      "\u001b[0;31mValueError\u001b[0m                                Traceback (most recent call last)",
      "\u001b[0;32m<ipython-input-79-ace4026f443e>\u001b[0m in \u001b[0;36m<module>\u001b[0;34m\u001b[0m\n\u001b[1;32m      8\u001b[0m \u001b[0mprint\u001b[0m\u001b[0;34m(\u001b[0m\u001b[0me\u001b[0m\u001b[0;34m)\u001b[0m\u001b[0;34m\u001b[0m\u001b[0;34m\u001b[0m\u001b[0m\n\u001b[1;32m      9\u001b[0m \u001b[0;34m\u001b[0m\u001b[0m\n\u001b[0;32m---> 10\u001b[0;31m \u001b[0mf\u001b[0m \u001b[0;34m=\u001b[0m \u001b[0mc\u001b[0m\u001b[0;34m.\u001b[0m\u001b[0mreshape\u001b[0m\u001b[0;34m(\u001b[0m\u001b[0;34m-\u001b[0m\u001b[0;36m1\u001b[0m\u001b[0;34m,\u001b[0m \u001b[0;36m5\u001b[0m\u001b[0;34m)\u001b[0m\u001b[0;34m\u001b[0m\u001b[0;34m\u001b[0m\u001b[0m\n\u001b[0m\u001b[1;32m     11\u001b[0m \u001b[0mprint\u001b[0m\u001b[0;34m(\u001b[0m\u001b[0mf\u001b[0m\u001b[0;34m)\u001b[0m\u001b[0;34m\u001b[0m\u001b[0;34m\u001b[0m\u001b[0m\n",
      "\u001b[0;31mValueError\u001b[0m: cannot reshape array of size 12 into shape (5)"
     ]
    }
   ],
   "source": [
    "# reshape(-1, n) 变成 (total/n, n)\n",
    "\n",
    "c = np.array([1,2,3,4,5,6,7,8,9,10,11,12])\n",
    "d = c.reshape(-1, 2)\n",
    "print(d)\n",
    "\n",
    "e = c.reshape(-1, 3)\n",
    "print(e)\n",
    "\n",
    "f = c.reshape(-1, 5) # 当12个元素并不能重组成 ?×5 的结构是会报错\n",
    "print(f)"
   ]
  },
  {
   "cell_type": "markdown",
   "id": "2b40999f",
   "metadata": {},
   "source": [
    "### 4. 关于one hot实现"
   ]
  },
  {
   "cell_type": "code",
   "execution_count": 85,
   "id": "06f79346",
   "metadata": {
    "ExecuteTime": {
     "end_time": "2022-10-17T12:14:25.978903Z",
     "start_time": "2022-10-17T12:14:25.957568Z"
    }
   },
   "outputs": [
    {
     "name": "stdout",
     "output_type": "stream",
     "text": [
      "4\n",
      "[[0. 0. 0. 0. 0. 0. 0. 0. 0. 0.]\n",
      " [0. 0. 0. 0. 0. 0. 0. 0. 0. 0.]\n",
      " [0. 0. 0. 0. 0. 0. 0. 0. 0. 0.]\n",
      " [0. 0. 0. 0. 0. 0. 0. 0. 0. 0.]]\n",
      "0\n",
      "[0. 0. 0. 0. 0. 0. 0. 0. 0. 0.]\n",
      "[0. 1. 0. 0. 0. 0. 0. 0. 0. 0.]\n",
      "1\n",
      "[0. 0. 0. 0. 0. 0. 0. 0. 0. 0.]\n",
      "[0. 0. 1. 0. 0. 0. 0. 0. 0. 0.]\n",
      "2\n",
      "[0. 0. 0. 0. 0. 0. 0. 0. 0. 0.]\n",
      "[0. 0. 0. 1. 0. 0. 0. 0. 0. 0.]\n",
      "3\n",
      "[0. 0. 0. 0. 0. 0. 0. 0. 0. 0.]\n",
      "[0. 1. 0. 0. 0. 0. 0. 0. 0. 0.]\n"
     ]
    }
   ],
   "source": [
    "X = np.array([1,2,3,1])\n",
    "print(X.size)\n",
    "\n",
    "T = np.zeros((X.size, 10))\n",
    "print(T)\n",
    "\n",
    "for idx, row in enumerate(T):\n",
    "    print(idx)\n",
    "    print(row)\n",
    "    row[X[idx]] = 1\n",
    "    print(row)\n",
    "    "
   ]
  },
  {
   "cell_type": "code",
   "execution_count": null,
   "id": "2528ffde",
   "metadata": {},
   "outputs": [],
   "source": []
  },
  {
   "cell_type": "code",
   "execution_count": null,
   "id": "5ab8d65e",
   "metadata": {},
   "outputs": [],
   "source": []
  },
  {
   "cell_type": "code",
   "execution_count": null,
   "id": "adb95c36",
   "metadata": {},
   "outputs": [],
   "source": []
  }
 ],
 "metadata": {
  "kernelspec": {
   "display_name": "Python 3",
   "language": "python",
   "name": "python3"
  },
  "language_info": {
   "codemirror_mode": {
    "name": "ipython",
    "version": 3
   },
   "file_extension": ".py",
   "mimetype": "text/x-python",
   "name": "python",
   "nbconvert_exporter": "python",
   "pygments_lexer": "ipython3",
   "version": "3.8.8"
  }
 },
 "nbformat": 4,
 "nbformat_minor": 5
}
